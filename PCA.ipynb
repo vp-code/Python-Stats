{
 "cells": [
  {
   "cell_type": "code",
   "execution_count": 1,
   "metadata": {},
   "outputs": [],
   "source": [
    "import numpy as np\n",
    "import pandas as pd\n",
    "from scipy import stats\n",
    "\n",
    "import plotly\n",
    "import plotly.express as px\n",
    "\n",
    "pd.options.mode.chained_assignment = None  # default='warn'\n",
    "from IPython.core.interactiveshell import InteractiveShell\n",
    "InteractiveShell.ast_node_interactivity = \"all\"\n",
    "\n",
    "pd. options. plotting. backend = \"plotly\"\n",
    "\n",
    "import plotly.io as pio\n",
    "pio.renderers.default = 'notebook'\n",
    "\n",
    "pd.set_option('precision',4)\n",
    "\n",
    "import statsmodels.api as sm\n",
    "import statsmodels.formula.api as smf"
   ]
  },
  {
   "cell_type": "markdown",
   "metadata": {},
   "source": [
    "# Term structure data"
   ]
  },
  {
   "cell_type": "code",
   "execution_count": 2,
   "metadata": {},
   "outputs": [],
   "source": [
    "# TNC (Treasury Nominal Coupon) month-end spot rate files are provided as 5-year chunks of data\n",
    "# First column is 'Maturity', with rows at 0.5 year intervals, upto 100 years.\n",
    "# Other columns are for each month-end for 5 years.\n",
    "\n",
    "def ProcessInput(df,start,end):\n",
    "    l=[]\n",
    "    for year in range(start,end+1):\n",
    "        l = l+12*[str(year)]\n",
    "    NewNames = df.columns[1:].str.slice(stop=3)+pd.Series(l)\n",
    "    NewNames = (pd.Series('Maturity').append(NewNames)).reset_index(drop=True)\n",
    "    df = df.rename(columns=dict(zip(df.columns.values,NewNames)))\n",
    "    df = df.melt(id_vars='Maturity',var_name='Date',value_name='SpotRate')\n",
    "    df[\"Date\"] = (pd.to_datetime(df[\"Date\"],format=\"%b%Y\")).dt.date+pd.offsets.MonthEnd(0)\n",
    "    df[\"SpotRate\"] = df[\"SpotRate\"]/100\n",
    "    return(df)\n",
    "\n",
    "# Read in each file and process it. End result is a composite long form dataframe\n",
    "\n",
    "suffixes = ['03_07','08_12','13_17','18_22']\n",
    "dflist=[]\n",
    "for x in suffixes:\n",
    "    file = \"tnceom_\"+x+\".csv\"\n",
    "    filedf = pd.read_csv(file,skiprows=4)\n",
    "    filedf = filedf.drop(columns=filedf.columns[1],index=filedf.index[0])   # blank column and row\n",
    "    start = int('20'+x[0:2])\n",
    "    end = int('20'+x[3:])\n",
    "    dflist.append(ProcessInput(filedf,start,end))\n",
    "\n",
    "tncdf = pd.concat(dflist).reset_index(drop=True).dropna(subset=[\"SpotRate\"])"
   ]
  },
  {
   "cell_type": "code",
   "execution_count": 8,
   "metadata": {},
   "outputs": [],
   "source": [
    "TSPoints = np.array([0.5,1.0,2.0,3.0,5.0,10.0,20.0,30.0])\n",
    "TSdf = tncdf.loc[tncdf[\"Maturity\"].isin(TSPoints),:]"
   ]
  },
  {
   "cell_type": "code",
   "execution_count": 9,
   "metadata": {
    "collapsed": true
   },
   "outputs": [
    {
     "data": {
      "text/html": [
       "<div>\n",
       "        \n",
       "        \n",
       "            <div id=\"a70931f2-b273-4b12-8463-0d3b6bbeeae4\" class=\"plotly-graph-div\" style=\"height:525px; width:100%;\"></div>\n",
       "            <script type=\"text/javascript\">\n",
       "                require([\"plotly\"], function(Plotly) {\n",
       "                    window.PLOTLYENV=window.PLOTLYENV || {};\n",
       "                    \n",
       "                if (document.getElementById(\"a70931f2-b273-4b12-8463-0d3b6bbeeae4\")) {\n",
       "                    Plotly.newPlot(\n",
       "                        'a70931f2-b273-4b12-8463-0d3b6bbeeae4',\n",
       "                        [{\"hovertemplate\": \"Date=2020-01-31<br>Maturity=%{x}<br>SpotRate=%{y}<extra></extra>\", \"legendgroup\": \"2020-01-31\", \"line\": {\"color\": \"#636efa\", \"dash\": \"solid\"}, \"mode\": \"lines+markers\", \"name\": \"2020-01-31\", \"orientation\": \"v\", \"showlegend\": true, \"type\": \"scatter\", \"x\": [0.5, 1.0, 2.0, 3.0, 5.0, 10.0, 20.0, 30.0], \"xaxis\": \"x\", \"y\": [0.0163, 0.0151, 0.0134, 0.013000000000000001, 0.013600000000000001, 0.015, 0.0197, 0.0217], \"yaxis\": \"y\"}, {\"hovertemplate\": \"Date=2020-02-29<br>Maturity=%{x}<br>SpotRate=%{y}<extra></extra>\", \"legendgroup\": \"2020-02-29\", \"line\": {\"color\": \"#EF553B\", \"dash\": \"solid\"}, \"mode\": \"lines+markers\", \"name\": \"2020-02-29\", \"orientation\": \"v\", \"showlegend\": true, \"type\": \"scatter\", \"x\": [0.5, 1.0, 2.0, 3.0, 5.0, 10.0, 20.0, 30.0], \"xaxis\": \"x\", \"y\": [0.0123, 0.0109, 0.0091, 0.0087, 0.0095, 0.011200000000000002, 0.016, 0.0183], \"yaxis\": \"y\"}, {\"hovertemplate\": \"Date=2020-03-31<br>Maturity=%{x}<br>SpotRate=%{y}<extra></extra>\", \"legendgroup\": \"2020-03-31\", \"line\": {\"color\": \"#00cc96\", \"dash\": \"solid\"}, \"mode\": \"lines+markers\", \"name\": \"2020-03-31\", \"orientation\": \"v\", \"showlegend\": true, \"type\": \"scatter\", \"x\": [0.5, 1.0, 2.0, 3.0, 5.0, 10.0, 20.0, 30.0], \"xaxis\": \"x\", \"y\": [0.0011, 0.0013, 0.002, 0.0028000000000000004, 0.0043, 0.006999999999999999, 0.0121, 0.0152], \"yaxis\": \"y\"}, {\"hovertemplate\": \"Date=2020-04-30<br>Maturity=%{x}<br>SpotRate=%{y}<extra></extra>\", \"legendgroup\": \"2020-04-30\", \"line\": {\"color\": \"#ab63fa\", \"dash\": \"solid\"}, \"mode\": \"lines+markers\", \"name\": \"2020-04-30\", \"orientation\": \"v\", \"showlegend\": true, \"type\": \"scatter\", \"x\": [0.5, 1.0, 2.0, 3.0, 5.0, 10.0, 20.0, 30.0], \"xaxis\": \"x\", \"y\": [0.002, 0.0018, 0.0018, 0.0024, 0.004, 0.0059, 0.011899999999999999, 0.0146], \"yaxis\": \"y\"}, {\"hovertemplate\": \"Date=2020-05-31<br>Maturity=%{x}<br>SpotRate=%{y}<extra></extra>\", \"legendgroup\": \"2020-05-31\", \"line\": {\"color\": \"#FFA15A\", \"dash\": \"solid\"}, \"mode\": \"lines+markers\", \"name\": \"2020-05-31\", \"orientation\": \"v\", \"showlegend\": true, \"type\": \"scatter\", \"x\": [0.5, 1.0, 2.0, 3.0, 5.0, 10.0, 20.0, 30.0], \"xaxis\": \"x\", \"y\": [0.0022, 0.0018, 0.0016, 0.002, 0.0034999999999999996, 0.0062, 0.0128, 0.0161], \"yaxis\": \"y\"}, {\"hovertemplate\": \"Date=2020-06-30<br>Maturity=%{x}<br>SpotRate=%{y}<extra></extra>\", \"legendgroup\": \"2020-06-30\", \"line\": {\"color\": \"#19d3f3\", \"dash\": \"solid\"}, \"mode\": \"lines+markers\", \"name\": \"2020-06-30\", \"orientation\": \"v\", \"showlegend\": true, \"type\": \"scatter\", \"x\": [0.5, 1.0, 2.0, 3.0, 5.0, 10.0, 20.0, 30.0], \"xaxis\": \"x\", \"y\": [0.0021, 0.0018, 0.0015, 0.0019, 0.0033, 0.0064, 0.0127, 0.016], \"yaxis\": \"y\"}],\n",
       "                        {\"legend\": {\"title\": {\"text\": \"Date\"}, \"tracegroupgap\": 0}, \"template\": {\"data\": {\"bar\": [{\"error_x\": {\"color\": \"#2a3f5f\"}, \"error_y\": {\"color\": \"#2a3f5f\"}, \"marker\": {\"line\": {\"color\": \"#E5ECF6\", \"width\": 0.5}}, \"type\": \"bar\"}], \"barpolar\": [{\"marker\": {\"line\": {\"color\": \"#E5ECF6\", \"width\": 0.5}}, \"type\": \"barpolar\"}], \"carpet\": [{\"aaxis\": {\"endlinecolor\": \"#2a3f5f\", \"gridcolor\": \"white\", \"linecolor\": \"white\", \"minorgridcolor\": \"white\", \"startlinecolor\": \"#2a3f5f\"}, \"baxis\": {\"endlinecolor\": \"#2a3f5f\", \"gridcolor\": \"white\", \"linecolor\": \"white\", \"minorgridcolor\": \"white\", \"startlinecolor\": \"#2a3f5f\"}, \"type\": \"carpet\"}], \"choropleth\": [{\"colorbar\": {\"outlinewidth\": 0, \"ticks\": \"\"}, \"type\": \"choropleth\"}], \"contour\": [{\"colorbar\": {\"outlinewidth\": 0, \"ticks\": \"\"}, \"colorscale\": [[0.0, \"#0d0887\"], [0.1111111111111111, \"#46039f\"], [0.2222222222222222, \"#7201a8\"], [0.3333333333333333, \"#9c179e\"], [0.4444444444444444, \"#bd3786\"], [0.5555555555555556, \"#d8576b\"], [0.6666666666666666, \"#ed7953\"], [0.7777777777777778, \"#fb9f3a\"], [0.8888888888888888, \"#fdca26\"], [1.0, \"#f0f921\"]], \"type\": \"contour\"}], \"contourcarpet\": [{\"colorbar\": {\"outlinewidth\": 0, \"ticks\": \"\"}, \"type\": \"contourcarpet\"}], \"heatmap\": [{\"colorbar\": {\"outlinewidth\": 0, \"ticks\": \"\"}, \"colorscale\": [[0.0, \"#0d0887\"], [0.1111111111111111, \"#46039f\"], [0.2222222222222222, \"#7201a8\"], [0.3333333333333333, \"#9c179e\"], [0.4444444444444444, \"#bd3786\"], [0.5555555555555556, \"#d8576b\"], [0.6666666666666666, \"#ed7953\"], [0.7777777777777778, \"#fb9f3a\"], [0.8888888888888888, \"#fdca26\"], [1.0, \"#f0f921\"]], \"type\": \"heatmap\"}], \"heatmapgl\": [{\"colorbar\": {\"outlinewidth\": 0, \"ticks\": \"\"}, \"colorscale\": [[0.0, \"#0d0887\"], [0.1111111111111111, \"#46039f\"], [0.2222222222222222, \"#7201a8\"], [0.3333333333333333, \"#9c179e\"], [0.4444444444444444, \"#bd3786\"], [0.5555555555555556, \"#d8576b\"], [0.6666666666666666, \"#ed7953\"], [0.7777777777777778, \"#fb9f3a\"], [0.8888888888888888, \"#fdca26\"], [1.0, \"#f0f921\"]], \"type\": \"heatmapgl\"}], \"histogram\": [{\"marker\": {\"colorbar\": {\"outlinewidth\": 0, \"ticks\": \"\"}}, \"type\": \"histogram\"}], \"histogram2d\": [{\"colorbar\": {\"outlinewidth\": 0, \"ticks\": \"\"}, \"colorscale\": [[0.0, \"#0d0887\"], [0.1111111111111111, \"#46039f\"], [0.2222222222222222, \"#7201a8\"], [0.3333333333333333, \"#9c179e\"], [0.4444444444444444, \"#bd3786\"], [0.5555555555555556, \"#d8576b\"], [0.6666666666666666, \"#ed7953\"], [0.7777777777777778, \"#fb9f3a\"], [0.8888888888888888, \"#fdca26\"], [1.0, \"#f0f921\"]], \"type\": \"histogram2d\"}], \"histogram2dcontour\": [{\"colorbar\": {\"outlinewidth\": 0, \"ticks\": \"\"}, \"colorscale\": [[0.0, \"#0d0887\"], [0.1111111111111111, \"#46039f\"], [0.2222222222222222, \"#7201a8\"], [0.3333333333333333, \"#9c179e\"], [0.4444444444444444, \"#bd3786\"], [0.5555555555555556, \"#d8576b\"], [0.6666666666666666, \"#ed7953\"], [0.7777777777777778, \"#fb9f3a\"], [0.8888888888888888, \"#fdca26\"], [1.0, \"#f0f921\"]], \"type\": \"histogram2dcontour\"}], \"mesh3d\": [{\"colorbar\": {\"outlinewidth\": 0, \"ticks\": \"\"}, \"type\": \"mesh3d\"}], \"parcoords\": [{\"line\": {\"colorbar\": {\"outlinewidth\": 0, \"ticks\": \"\"}}, \"type\": \"parcoords\"}], \"pie\": [{\"automargin\": true, \"type\": \"pie\"}], \"scatter\": [{\"marker\": {\"colorbar\": {\"outlinewidth\": 0, \"ticks\": \"\"}}, \"type\": \"scatter\"}], \"scatter3d\": [{\"line\": {\"colorbar\": {\"outlinewidth\": 0, \"ticks\": \"\"}}, \"marker\": {\"colorbar\": {\"outlinewidth\": 0, \"ticks\": \"\"}}, \"type\": \"scatter3d\"}], \"scattercarpet\": [{\"marker\": {\"colorbar\": {\"outlinewidth\": 0, \"ticks\": \"\"}}, \"type\": \"scattercarpet\"}], \"scattergeo\": [{\"marker\": {\"colorbar\": {\"outlinewidth\": 0, \"ticks\": \"\"}}, \"type\": \"scattergeo\"}], \"scattergl\": [{\"marker\": {\"colorbar\": {\"outlinewidth\": 0, \"ticks\": \"\"}}, \"type\": \"scattergl\"}], \"scattermapbox\": [{\"marker\": {\"colorbar\": {\"outlinewidth\": 0, \"ticks\": \"\"}}, \"type\": \"scattermapbox\"}], \"scatterpolar\": [{\"marker\": {\"colorbar\": {\"outlinewidth\": 0, \"ticks\": \"\"}}, \"type\": \"scatterpolar\"}], \"scatterpolargl\": [{\"marker\": {\"colorbar\": {\"outlinewidth\": 0, \"ticks\": \"\"}}, \"type\": \"scatterpolargl\"}], \"scatterternary\": [{\"marker\": {\"colorbar\": {\"outlinewidth\": 0, \"ticks\": \"\"}}, \"type\": \"scatterternary\"}], \"surface\": [{\"colorbar\": {\"outlinewidth\": 0, \"ticks\": \"\"}, \"colorscale\": [[0.0, \"#0d0887\"], [0.1111111111111111, \"#46039f\"], [0.2222222222222222, \"#7201a8\"], [0.3333333333333333, \"#9c179e\"], [0.4444444444444444, \"#bd3786\"], [0.5555555555555556, \"#d8576b\"], [0.6666666666666666, \"#ed7953\"], [0.7777777777777778, \"#fb9f3a\"], [0.8888888888888888, \"#fdca26\"], [1.0, \"#f0f921\"]], \"type\": \"surface\"}], \"table\": [{\"cells\": {\"fill\": {\"color\": \"#EBF0F8\"}, \"line\": {\"color\": \"white\"}}, \"header\": {\"fill\": {\"color\": \"#C8D4E3\"}, \"line\": {\"color\": \"white\"}}, \"type\": \"table\"}]}, \"layout\": {\"annotationdefaults\": {\"arrowcolor\": \"#2a3f5f\", \"arrowhead\": 0, \"arrowwidth\": 1}, \"coloraxis\": {\"colorbar\": {\"outlinewidth\": 0, \"ticks\": \"\"}}, \"colorscale\": {\"diverging\": [[0, \"#8e0152\"], [0.1, \"#c51b7d\"], [0.2, \"#de77ae\"], [0.3, \"#f1b6da\"], [0.4, \"#fde0ef\"], [0.5, \"#f7f7f7\"], [0.6, \"#e6f5d0\"], [0.7, \"#b8e186\"], [0.8, \"#7fbc41\"], [0.9, \"#4d9221\"], [1, \"#276419\"]], \"sequential\": [[0.0, \"#0d0887\"], [0.1111111111111111, \"#46039f\"], [0.2222222222222222, \"#7201a8\"], [0.3333333333333333, \"#9c179e\"], [0.4444444444444444, \"#bd3786\"], [0.5555555555555556, \"#d8576b\"], [0.6666666666666666, \"#ed7953\"], [0.7777777777777778, \"#fb9f3a\"], [0.8888888888888888, \"#fdca26\"], [1.0, \"#f0f921\"]], \"sequentialminus\": [[0.0, \"#0d0887\"], [0.1111111111111111, \"#46039f\"], [0.2222222222222222, \"#7201a8\"], [0.3333333333333333, \"#9c179e\"], [0.4444444444444444, \"#bd3786\"], [0.5555555555555556, \"#d8576b\"], [0.6666666666666666, \"#ed7953\"], [0.7777777777777778, \"#fb9f3a\"], [0.8888888888888888, \"#fdca26\"], [1.0, \"#f0f921\"]]}, \"colorway\": [\"#636efa\", \"#EF553B\", \"#00cc96\", \"#ab63fa\", \"#FFA15A\", \"#19d3f3\", \"#FF6692\", \"#B6E880\", \"#FF97FF\", \"#FECB52\"], \"font\": {\"color\": \"#2a3f5f\"}, \"geo\": {\"bgcolor\": \"white\", \"lakecolor\": \"white\", \"landcolor\": \"#E5ECF6\", \"showlakes\": true, \"showland\": true, \"subunitcolor\": \"white\"}, \"hoverlabel\": {\"align\": \"left\"}, \"hovermode\": \"closest\", \"mapbox\": {\"style\": \"light\"}, \"paper_bgcolor\": \"white\", \"plot_bgcolor\": \"#E5ECF6\", \"polar\": {\"angularaxis\": {\"gridcolor\": \"white\", \"linecolor\": \"white\", \"ticks\": \"\"}, \"bgcolor\": \"#E5ECF6\", \"radialaxis\": {\"gridcolor\": \"white\", \"linecolor\": \"white\", \"ticks\": \"\"}}, \"scene\": {\"xaxis\": {\"backgroundcolor\": \"#E5ECF6\", \"gridcolor\": \"white\", \"gridwidth\": 2, \"linecolor\": \"white\", \"showbackground\": true, \"ticks\": \"\", \"zerolinecolor\": \"white\"}, \"yaxis\": {\"backgroundcolor\": \"#E5ECF6\", \"gridcolor\": \"white\", \"gridwidth\": 2, \"linecolor\": \"white\", \"showbackground\": true, \"ticks\": \"\", \"zerolinecolor\": \"white\"}, \"zaxis\": {\"backgroundcolor\": \"#E5ECF6\", \"gridcolor\": \"white\", \"gridwidth\": 2, \"linecolor\": \"white\", \"showbackground\": true, \"ticks\": \"\", \"zerolinecolor\": \"white\"}}, \"shapedefaults\": {\"line\": {\"color\": \"#2a3f5f\"}}, \"ternary\": {\"aaxis\": {\"gridcolor\": \"white\", \"linecolor\": \"white\", \"ticks\": \"\"}, \"baxis\": {\"gridcolor\": \"white\", \"linecolor\": \"white\", \"ticks\": \"\"}, \"bgcolor\": \"#E5ECF6\", \"caxis\": {\"gridcolor\": \"white\", \"linecolor\": \"white\", \"ticks\": \"\"}}, \"title\": {\"x\": 0.05}, \"xaxis\": {\"automargin\": true, \"gridcolor\": \"white\", \"linecolor\": \"white\", \"ticks\": \"\", \"title\": {\"standoff\": 15}, \"zerolinecolor\": \"white\", \"zerolinewidth\": 2}, \"yaxis\": {\"automargin\": true, \"gridcolor\": \"white\", \"linecolor\": \"white\", \"ticks\": \"\", \"title\": {\"standoff\": 15}, \"zerolinecolor\": \"white\", \"zerolinewidth\": 2}}}, \"title\": {\"text\": \"US Treasury Term Structure\"}, \"xaxis\": {\"anchor\": \"y\", \"domain\": [0.0, 1.0], \"title\": {\"text\": \"Maturity\"}}, \"yaxis\": {\"anchor\": \"x\", \"domain\": [0.0, 1.0], \"tickformat\": \".2%\", \"title\": {\"text\": \"SpotRate\"}}},\n",
       "                        {\"responsive\": true}\n",
       "                    ).then(function(){\n",
       "                            \n",
       "var gd = document.getElementById('a70931f2-b273-4b12-8463-0d3b6bbeeae4');\n",
       "var x = new MutationObserver(function (mutations, observer) {{\n",
       "        var display = window.getComputedStyle(gd).display;\n",
       "        if (!display || display === 'none') {{\n",
       "            console.log([gd, 'removed!']);\n",
       "            Plotly.purge(gd);\n",
       "            observer.disconnect();\n",
       "        }}\n",
       "}});\n",
       "\n",
       "// Listen for the removal of the full notebook cells\n",
       "var notebookContainer = gd.closest('#notebook-container');\n",
       "if (notebookContainer) {{\n",
       "    x.observe(notebookContainer, {childList: true});\n",
       "}}\n",
       "\n",
       "// Listen for the clearing of the current output cell\n",
       "var outputEl = gd.closest('.output');\n",
       "if (outputEl) {{\n",
       "    x.observe(outputEl, {childList: true});\n",
       "}}\n",
       "\n",
       "                        })\n",
       "                };\n",
       "                });\n",
       "            </script>\n",
       "        </div>"
      ]
     },
     "metadata": {},
     "output_type": "display_data"
    }
   ],
   "source": [
    "TSDates = ['20200131','20200229','20200331','20200430','20200531','20200630']\n",
    "plotDF = TSdf.loc[TSdf[\"Date\"].isin(TSDates),:].reset_index(drop=True)\n",
    "plotDF[\"Date\"] = plotDF[\"Date\"].dt.date.astype(str)\n",
    "\n",
    "px.line(plotDF,x=\"Maturity\",y=\"SpotRate\",color=\"Date\",title=\"US Treasury Term Structure\")\\\n",
    ".update_layout(yaxis=dict(tickformat=\".2%\")).update_traces(mode='lines+markers')"
   ]
  },
  {
   "cell_type": "markdown",
   "metadata": {},
   "source": [
    "# PCA"
   ]
  },
  {
   "cell_type": "markdown",
   "metadata": {},
   "source": [
    "Let $\\mathbf{X}$ be an $n\\times k$ matrix whose columns are centered - i.e., the mean of each column is zero. Then the $k\\times k$ covariance matrix $\\mathbf{\\Sigma}$ is\n",
    "\n",
    "\\begin{equation}\n",
    "\\mathbf{\\Sigma} = \\mathbf{X'X}\n",
    "\\end{equation}\n",
    "\n",
    "We can diagonalize the covariance matrix by the similarity transformation\n",
    "\n",
    "\\begin{equation}\n",
    "\\mathbf{\\Sigma} = \\mathbf{U\\Lambda U'}\n",
    "\\end{equation}\n",
    "where\n",
    "* $\\mathbf{U}$ is a $k\\times k$ matrix whose columns are eigenvectors of $\\mathbf{\\Sigma}$\n",
    "* $\\mathbf{U}$ is an orthogonal matrix, $\\mathbf{UU'= U'U = I}$\n",
    "* $\\mathbf{\\Lambda}$ is a diagonal matrix consisting of the eigenvalues of $\\mathbf{\\Sigma}$\n",
    "\n",
    "The following additional facts are sometimes useful to keep in mind:\n",
    "\n",
    "* If $\\mathbf{\\Sigma}$ is real and symmetric, its eigenvalues are real\n",
    "* If the eigenvalues $\\lambda_i > 0 \\; \\forall\\, i$, then $\\mathbf{\\Sigma}$ is positive definite\n",
    "* If some $\\lambda_i = 0$, then $\\mathbf{\\Sigma}$ is positive semi-definite if the *non-zero* $\\lambda_i$ are greater than zero\n",
    "\n",
    "Note that\n",
    "$$\n",
    "\\text{Total variation} = \\sum_i \\sigma_i^2 = tr(\\mathbf{\\Sigma}) = tr(\\mathbf{\\Lambda}) = \\sum_i \\lambda_i\n",
    "$$\n",
    "where $tr(.)$ is the trace of a matrix and we have used the fact that $tr(\\mathbf{\\Sigma})=tr(\\mathbf{U\\Lambda U'})=tr(\\mathbf{U'U\\Lambda})=tr(\\mathbf{\\Lambda})$.\n",
    "\n",
    "The transformation of the vectors in $\\mathbf{X}$ is given by\n",
    "\\begin{equation}\n",
    "\\mathbf{P} = \\mathbf{X U}\n",
    "\\end{equation}\n",
    "and the $j$th principal component is \n",
    "\\begin{equation}\n",
    "\\mathbf{P}_j = \\mathbf{X}\\mathbf{U}_j\n",
    "\\end{equation}\n",
    "where $\\mathbf{U}_j$ is the $j$th column of $\\mathbf{U}$.\n",
    "\n",
    "The proportion of total variation explained by the $j$th principal component is $\\frac{\\lambda_i}{\\sum_i \\lambda_i}$. This often means that a few principal components can account for a large fraction of the variation. Thus we may choose to ignore the eigenvectors corresponding to the smaller eigenvalues. This is what leads to **dimensionality reduction**.\n",
    "\n",
    "The matrix $\\mathbf{X}$ can be recovered by noting that $\\mathbf{X}=\\mathbf{PU'}$."
   ]
  },
  {
   "cell_type": "code",
   "execution_count": 14,
   "metadata": {},
   "outputs": [],
   "source": [
    "test = plotDF.pivot(index='Date',columns='Maturity',values='SpotRate')"
   ]
  },
  {
   "cell_type": "code",
   "execution_count": 15,
   "metadata": {},
   "outputs": [],
   "source": [
    "#PCA code\n",
    "# Steps\n",
    "# 1. Center X\n",
    "# 2. Compute Sigma = X'X\n",
    "# 3. Compute eigenvalues and eigenvectors. Order eigenvalues by magnitude. Choose eigenvectors corresponding to\n",
    "#    a few of the largest eigenvalues.\n",
    "\n",
    "X = test.values           \n"
   ]
  }
 ],
 "metadata": {
  "kernelspec": {
   "display_name": "Python 3",
   "language": "python",
   "name": "python3"
  },
  "language_info": {
   "codemirror_mode": {
    "name": "ipython",
    "version": 3
   },
   "file_extension": ".py",
   "mimetype": "text/x-python",
   "name": "python",
   "nbconvert_exporter": "python",
   "pygments_lexer": "ipython3",
   "version": "3.7.3"
  },
  "toc": {
   "base_numbering": 1,
   "nav_menu": {},
   "number_sections": true,
   "sideBar": true,
   "skip_h1_title": false,
   "title_cell": "Table of Contents",
   "title_sidebar": "Contents",
   "toc_cell": false,
   "toc_position": {},
   "toc_section_display": true,
   "toc_window_display": false
  }
 },
 "nbformat": 4,
 "nbformat_minor": 4
}
