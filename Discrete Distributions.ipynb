{
 "cells": [
  {
   "cell_type": "code",
   "execution_count": null,
   "metadata": {
    "hide_input": true
   },
   "outputs": [],
   "source": [
    "%%javascript\n",
    "MathJax.Hub.Config({\n",
    "    TeX: { equationNumbers: { autoNumber: \"AMS\" } }\n",
    "});"
   ]
  },
  {
   "cell_type": "markdown",
   "metadata": {},
   "source": [
    "# Discrete distributions\n"
   ]
  },
  {
   "cell_type": "markdown",
   "metadata": {},
   "source": [
    "\n",
    "### Bernoulli distribution\n",
    "Experiment with binary outcome. Random variable $X \\in \\{0,1\\}$ with\n",
    "    $$ P[X=1] = p   ;  P[X=0] = 1-p $$\n",
    "    \n",
    "The **probability mass function** (*pmf*) is\n",
    "\\begin{equation}\n",
    " f_X(k;p) = p^k (1-p)^{(1-k)} \\hspace{2cm} k \\in \\{0,1\\}\n",
    "\\end{equation}\n",
    "\n",
    "Expectation and variance of $X$:\n",
    "\\begin{equation}\n",
    "\\mu = p \\hspace{2cm} \\sigma^2 = p(1-p)\n",
    "\\end{equation}\n",
    "    \n",
    "\n",
    "### Binomial distribution\n",
    "$n$ repetitions of an experiment with binary outcomes, with $p$ the probability of success. Random variable $X$ is the number of successes, and the *pmf* is given by:\n",
    "\\begin{equation}\n",
    " f_X (k; n, p) = P[X=k] = \\binom{n}{k} p^k (1-p)^{(n-k)}  = \\frac{n!}{k!(n-k)!)} p^k (1-p)^{(n-k)}\n",
    "\\end{equation}\n",
    "\n",
    "Since each repetition is an independent Bernoulli trial, the Binomial random variable $X$ can be thought of as a sum of $n$ Bernoulli random variables $$ X = X_1 + X_2 + \\cdots + X_n $$\n",
    "\n",
    "This provides an elegant way to derive the expectation and  variance of $X$:\n",
    "\\begin{equation}\n",
    " \\mu_X = E(X) = \\sum_{i=1}^{n} E(X_i) = np \\hspace{2cm} \\sigma^2_X = \\sum_{i=1}^{n} \\sigma^2(X_i) = n p (1-p)\n",
    "\\end{equation}\n",
    "\n",
    "\n"
   ]
  },
  {
   "cell_type": "code",
   "execution_count": 1,
   "metadata": {},
   "outputs": [],
   "source": [
    "import numpy as np\n",
    "from matplotlib import pyplot as plt\n",
    "import pandas as pd\n",
    "from scipy import stats\n",
    "import statsmodels.api as sm\n",
    "\n",
    "import matplotlib\n",
    "matplotlib.use('nbagg')\n",
    "import matplotlib.pyplot as plt"
   ]
  },
  {
   "cell_type": "code",
   "execution_count": 2,
   "metadata": {},
   "outputs": [
    {
     "data": {
      "image/png": "[encoded data removed]",
      "text/plain": [
       "<Figure size 432x288 with 2 Axes>"
      ]
     },
     "metadata": {
      "needs_background": "light"
     },
     "output_type": "display_data"
    }
   ],
   "source": [
    "\n",
    "# Density functions\n",
    "\n",
    "fig = plt.figure()\n",
    "fig.subplots_adjust(wspace=0.5,hspace=0.5)\n",
    "\n",
    "# Bernoulli\n",
    "rv = stats.bernoulli(0.4)                   # So called \"Frozen\" rv: just means parameters have been fixed.\n",
    "\n",
    "a1 = fig.add_subplot(1,2,1)\n",
    "x=[0,1]\n",
    "_ = a1.vlines(x,0,rv.pmf(x))\n",
    "_ = a1.set(ylabel=\"pmf\",title=\"Bernoulli Distribution\")\n",
    "_ = a1.text(0.5,0.8,\"p=0.4\", transform=a1.transAxes)\n",
    "\n",
    "# Binomial\n",
    "n,p = 30, 0.4 \n",
    "rv = stats.binom(n,p)\n",
    "\n",
    "a2 = fig.add_subplot(1,2,2)\n",
    "x =  np.arange(n+1)\n",
    "_ = a2.vlines(x,0,rv.pmf(x))\n",
    "\n",
    "_ = a2.set(ylabel=\"pmf\",title=\"Binomial Distribution\")\n",
    "_ = a2.text(0.5,0.8,\"n=30, p=0.4\", transform=a2.transAxes)"
   ]
  },
  {
   "cell_type": "markdown",
   "metadata": {},
   "source": [
    "### Multinomial distribution\n",
    "\n",
    "Generalization of binomial. $k$ outcomes with given individual probabilities $p_i, i=1 \\dots k$, and $n$ trials. Simplest example is throwing dice $n$ times. Random variables in the set $\\{X_i\\}$ are the number of times each outcome is obtained\n",
    "\n",
    "$$\n",
    "    f_{\\{X_i\\}} (x_1 \\dots x_k;n,p_1 \\dots p_k) = P [X_1 = x_1 \\dots X_k=x_k]=\\frac{n!}{x_1!  \\dots x_k!} p_1^{x_1} \\dots p_k^{x_k} \\hspace{2cm} \\sum_{i=1}^k x_i = n\n",
    "$$\n",
    "\n",
    "Note that this is a **multivariate and joint** probability mass function for $k$ random variables.\n",
    "\n",
    "**Example**. For six-sided dice, with equal probabilities for each face to appear, the probability of obtaining 5 sixes and 2 each of the other faces is\n",
    "$$\n",
    "f_{\\{X_i\\}} (x_1= x_2 = \\dots x_5=2,x_6=5;n=15,p_1=p_2=\\dots=p_6=1/6) = \\frac{15!}{(2!)^5 5!} (\\frac{1}{6})^{15} = 0.0072\n",
    "$$\n",
    "\n",
    "The choice of $\\{x_i\\}$ in this example is very specific. Generally, we are likely to be more interested in finding the probabilities of events such as the one in the next example.\n",
    "\n",
    "**Example**. What is the probability of getting at least one six in four throws of a fair die?\n",
    "\n",
    "We could list all possibilities (1 six, 2 sixes, etc.) and the corresponding cases for the remaining throws, but a better way to solve the problem is to consider the probability of no sixes in 4 throws:\n",
    "\n",
    "$$\n",
    "\\begin{split}\n",
    "P[\\textrm{at least 1 six in 4 throws}] & = 1 - P[\\textrm{no sixes in 4 throws}]\\\\\n",
    "    & = 1 - (\\frac{5}{6})^4 \\\\\n",
    "    & = 0.52\n",
    "\\end{split}\n",
    "$$\n",
    "\n",
    "So, you need only 4 throws for a better than even chance of getting a six.\n"
   ]
  },
  {
   "cell_type": "code",
   "execution_count": 11,
   "metadata": {},
   "outputs": [
    {
     "data": {
      "text/plain": [
       "0.0007242685563578615"
      ]
     },
     "execution_count": 11,
     "metadata": {},
     "output_type": "execute_result"
    },
    {
     "data": {
      "text/plain": [
       "0.0007242685563578548"
      ]
     },
     "execution_count": 11,
     "metadata": {},
     "output_type": "execute_result"
    }
   ],
   "source": [
    "x = [2,2,2,2,2,5]\n",
    "p = [1/6 for p_i in range(6)]\n",
    "\n",
    "stats.multinomial.pmf(x,n=15,p=[1/6 for p_i in range(6)])\n",
    "(math.factorial(15)/(math.factorial(5)*(2**5)))*(1/6)**15\n"
   ]
  },
  {
   "cell_type": "markdown",
   "metadata": {},
   "source": [
    "### Geometric distribution\n",
    "Binary outcome, with probability of success $p$. Random variable $X$ is number of trials ***before*** first success. The *pmf* is\n",
    "\\begin{equation}\n",
    "f_X(k;p) = (1-p)^{(k-1)} p^k \\hspace{2cm} k \\in \\{1,2,3 \\dots\\}\n",
    "\\end{equation}\n",
    "\n",
    "Expectation and variance of $X$:\n",
    "\\begin{equation}\n",
    "\\mu = \\frac{1}{p} \\hspace{2cm} \\sigma^2 = \\frac{(1-p)}{p^2}\n",
    "\\end{equation}\n",
    "### Negative Binomial distribution\n",
    "Binary outcome, trials continue until $r$ failures are seen. Random variable $X$ is the number of successes before stopping.\n",
    "The *pmf* is\n",
    "\\begin{equation}\n",
    "f_X(k;p,r) = \\binom{k+r-1}{k} \\cdot p^k (1-p)^r \\hspace{2cm} k \\in {0,1,2, \\dots}\n",
    "\\end{equation}\n",
    "\n",
    "The superscript on the binomial coefficient in the *pmf* is interesting: since the $r$-th failure is always the last one, the coefficient has to count the ways of choosing $k$ successes out of $(k+r-1)$ trials.\n",
    "\n",
    "Expectation and variance of $X$:\n",
    "\\begin{equation}\n",
    "\\mu = \\frac{pr}{1-p} \\hspace{2cm} \\sigma^2 = \\frac{pr}{(1-p)^2}\n",
    "\\end{equation}\n",
    "\n",
    "The distribution is called negative binomial because\n",
    "$$ \\binom{k+r-1}{k} = (-1)^k \\binom{-r}{k} $$\n",
    "Proof:\n",
    "\n",
    "The binomial theorem can be written as:\n",
    "$$ (1+x)^a = 1 + a x + \\frac{a(a-1)x^2}{2!} + \\cdots = \\sum_{k=0}^\\infty \\binom{a}{k} x^k$$\n",
    "\n",
    "When $a$ is negative, $$ \\binom{a}{k} = \\frac{a(a-1)\\dots(a-k+1)}{k!} = \\frac{(-1)^k (-a)(-a+1)\\dots(-a+k-1)}{k!}$$\n",
    "\n",
    "Setting $r=-a$, we have $$ \\binom{-r}{k} = (-1)^k \\frac{r(r+1)\\dots(r+k-1)}{k!} = (-1)^k \\binom{k+r-1}{k}$$\n",
    "\n",
    "\n",
    "### Hypergeometric distribution\n",
    "\n",
    "$n$ draws from a population with $N$ objects, of which $K$ are of one kind. The probability that $k$ of the $n$ draws are of that kind is given by the *pmf*\n",
    "\\begin{equation}\n",
    "   f_X (k; N,K,n) = \\frac{\\binom{K}{k} \\cdot \\binom{N-K}{n-k}}{\\binom{N}{n}}\n",
    "\\end{equation}\n",
    "\n",
    "Expectation and variance:\n",
    "\\begin{equation}\n",
    "    \\mu = n\\frac{K}{N} \\hspace{2cm} \\sigma^2 = n \\frac{K}{N} \\frac{(N-K)}{N} \\frac{(N-n)}{(N-1)}\n",
    "\\end{equation}\n",
    "\n",
    "[Nice proof on StackExchange](https://math.stackexchange.com/questions/1380460/derivation-of-mean-and-variance-of-hypergeometric-distribution)\n",
    "\n"
   ]
  },
  {
   "cell_type": "code",
   "execution_count": 10,
   "metadata": {},
   "outputs": [
    {
     "data": {
      "image/png": "[encoded data removed]",
      "text/plain": [
       "<Figure size 432x288 with 2 Axes>"
      ]
     },
     "metadata": {
      "needs_background": "light"
     },
     "output_type": "display_data"
    }
   ],
   "source": [
    "# Density function plots\n",
    "\n",
    "# Density functions\n",
    "\n",
    "fig = plt.figure()\n",
    "fig.subplots_adjust(wspace=0.5,hspace=0.5)\n",
    "\n",
    "k= np.arange(12)\n",
    "# Geometric\n",
    "p=0.4\n",
    "rv = stats.geom(p)\n",
    "a1 = fig.add_subplot(1,2,1)\n",
    "\n",
    "_ = a1.vlines(k,0,rv.pmf(k))\n",
    "_ = a1.set(ylabel=\"pmf\",title=\"Geometric Distribution\")\n",
    "_ = a1.text(0.5,0.8,\"p=0.4\", transform=a1.transAxes)\n",
    "\n",
    "# Negative Binomial\n",
    "r,p = 3, 0.4 \n",
    "rv = stats.nbinom(r,1-p)   # Note: scipy.stats definition is for stopping criterion\n",
    "\n",
    "a2 = fig.add_subplot(1,2,2)\n",
    "_ = a2.vlines(k,0,rv.pmf(x))\n",
    "_ = a2.set(ylabel=\"pmf\",title=\"Negative Binomial Distribution\")\n",
    "_ = a2.text(0.5,0.8,\"r=3, p=0.4\", transform=a2.transAxes)"
   ]
  }
 ],
 "metadata": {
  "kernelspec": {
   "display_name": "Python 3",
   "language": "python",
   "name": "python3"
  },
  "language_info": {
   "codemirror_mode": {
    "name": "ipython",
    "version": 3
   },
   "file_extension": ".py",
   "mimetype": "text/x-python",
   "name": "python",
   "nbconvert_exporter": "python",
   "pygments_lexer": "ipython3",
   "version": "3.5.3"
  },
  "toc": {
   "base_numbering": 1,
   "nav_menu": {},
   "number_sections": true,
   "sideBar": true,
   "skip_h1_title": true,
   "title_cell": "Table of Contents",
   "title_sidebar": "Contents",
   "toc_cell": false,
   "toc_position": {},
   "toc_section_display": true,
   "toc_window_display": true
  }
 },
 "nbformat": 4,
 "nbformat_minor": 2
}
