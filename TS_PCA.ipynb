{
 "cells": [
  {
   "cell_type": "code",
   "execution_count": 1,
   "metadata": {},
   "outputs": [],
   "source": [
    "import numpy as np\n",
    "import pandas as pd\n",
    "from scipy import stats\n",
    "\n",
    "import plotly\n",
    "import plotly.express as px\n",
    "\n",
    "pd.options.mode.chained_assignment = None  # default='warn'\n",
    "from IPython.core.interactiveshell import InteractiveShell\n",
    "InteractiveShell.ast_node_interactivity = \"all\"\n",
    "\n",
    "pd. options. plotting. backend = \"plotly\"\n",
    "\n",
    "import plotly.io as pio\n",
    "pio.renderers.default = 'jupyterlab'\n",
    "\n",
    "pd.set_option('precision',4)\n",
    "\n",
    "import statsmodels.api as sm\n",
    "import statsmodels.formula.api as smf"
   ]
  },
  {
   "cell_type": "markdown",
   "metadata": {},
   "source": [
    "# Term structure data"
   ]
  },
  {
   "cell_type": "code",
   "execution_count": 2,
   "metadata": {},
   "outputs": [],
   "source": [
    "# TNC (Treasury Nominal Coupon) month-end spot rate files are provided as 5-year chunks of data\n",
    "# First column is 'Maturity', with rows at 0.5 year intervals, upto 100 years.\n",
    "# Other columns are for each month-end for 5 years.\n",
    "\n",
    "def ProcessInput(df,start,end):\n",
    "    l=[]\n",
    "    for year in range(start,end+1):\n",
    "        l = l+12*[str(year)]\n",
    "    NewNames = df.columns[1:].str.slice(stop=3)+pd.Series(l)\n",
    "    NewNames = (pd.Series('Maturity').append(NewNames)).reset_index(drop=True)\n",
    "    df = df.rename(columns=dict(zip(df.columns.values,NewNames)))\n",
    "    df = df.melt(id_vars='Maturity',var_name='Date',value_name='SpotRate')\n",
    "    df[\"Date\"] = (pd.to_datetime(df[\"Date\"],format=\"%b%Y\")).dt.date+pd.offsets.MonthEnd(0)\n",
    "    df[\"SpotRate\"] = df[\"SpotRate\"]/100\n",
    "    return(df)\n",
    "\n",
    "# Read in each file and process it. End result is a composite long form dataframe\n",
    "\n",
    "suffixes = ['03_07','08_12','13_17','18_22']\n",
    "dflist=[]\n",
    "for x in suffixes:\n",
    "    file = \"tnceom_\"+x+\".csv\"\n",
    "    filedf = pd.read_csv(file,skiprows=4)\n",
    "    filedf = filedf.drop(columns=filedf.columns[1],index=filedf.index[0])   # blank column and row\n",
    "    start = int('20'+x[0:2])\n",
    "    end = int('20'+x[3:])\n",
    "    dflist.append(ProcessInput(filedf,start,end))\n",
    "\n",
    "tncdf = pd.concat(dflist).reset_index(drop=True).dropna(subset=[\"SpotRate\"])"
   ]
  },
  {
   "cell_type": "code",
   "execution_count": 3,
   "metadata": {},
   "outputs": [],
   "source": [
    "TSPoints = np.array([0.5,1.0,2.0,3.0,5.0,10.0,20.0,30.0])\n",
    "TSdf = tncdf.loc[tncdf[\"Maturity\"].isin(TSPoints),:]"
   ]
  },
  {
   "cell_type": "code",
   "execution_count": 4,
   "metadata": {},
   "outputs": [
    {
     "data": {
      "application/vnd.plotly.v1+json": {
       "config": {
        "plotlyServerURL": "https://plot.ly"
       },
       "data": [
        {
         "hovertemplate": "Date=2020-01-31<br>Maturity=%{x}<br>SpotRate=%{y}<extra></extra>",
         "legendgroup": "2020-01-31",
         "line": {
          "color": "#636efa",
          "dash": "solid"
         },
         "mode": "lines+markers",
         "name": "2020-01-31",
         "orientation": "v",
         "showlegend": true,
         "type": "scatter",
         "x": [
          0.5,
          1,
          2,
          3,
          5,
          10,
          20,
          30
         ],
         "xaxis": "x",
         "y": [
          0.0163,
          0.0151,
          0.0134,
          0.013000000000000001,
          0.013600000000000001,
          0.015,
          0.0197,
          0.0217
         ],
         "yaxis": "y"
        },
        {
         "hovertemplate": "Date=2020-02-29<br>Maturity=%{x}<br>SpotRate=%{y}<extra></extra>",
         "legendgroup": "2020-02-29",
         "line": {
          "color": "#EF553B",
          "dash": "solid"
         },
         "mode": "lines+markers",
         "name": "2020-02-29",
         "orientation": "v",
         "showlegend": true,
         "type": "scatter",
         "x": [
          0.5,
          1,
          2,
          3,
          5,
          10,
          20,
          30
         ],
         "xaxis": "x",
         "y": [
          0.0123,
          0.0109,
          0.0091,
          0.0087,
          0.0095,
          0.011200000000000002,
          0.016,
          0.0183
         ],
         "yaxis": "y"
        },
        {
         "hovertemplate": "Date=2020-03-31<br>Maturity=%{x}<br>SpotRate=%{y}<extra></extra>",
         "legendgroup": "2020-03-31",
         "line": {
          "color": "#00cc96",
          "dash": "solid"
         },
         "mode": "lines+markers",
         "name": "2020-03-31",
         "orientation": "v",
         "showlegend": true,
         "type": "scatter",
         "x": [
          0.5,
          1,
          2,
          3,
          5,
          10,
          20,
          30
         ],
         "xaxis": "x",
         "y": [
          0.0011,
          0.0013,
          0.002,
          0.0028000000000000004,
          0.0043,
          0.006999999999999999,
          0.0121,
          0.0152
         ],
         "yaxis": "y"
        },
        {
         "hovertemplate": "Date=2020-04-30<br>Maturity=%{x}<br>SpotRate=%{y}<extra></extra>",
         "legendgroup": "2020-04-30",
         "line": {
          "color": "#ab63fa",
          "dash": "solid"
         },
         "mode": "lines+markers",
         "name": "2020-04-30",
         "orientation": "v",
         "showlegend": true,
         "type": "scatter",
         "x": [
          0.5,
          1,
          2,
          3,
          5,
          10,
          20,
          30
         ],
         "xaxis": "x",
         "y": [
          0.002,
          0.0018,
          0.0018,
          0.0024,
          0.004,
          0.0059,
          0.011899999999999999,
          0.0146
         ],
         "yaxis": "y"
        },
        {
         "hovertemplate": "Date=2020-05-31<br>Maturity=%{x}<br>SpotRate=%{y}<extra></extra>",
         "legendgroup": "2020-05-31",
         "line": {
          "color": "#FFA15A",
          "dash": "solid"
         },
         "mode": "lines+markers",
         "name": "2020-05-31",
         "orientation": "v",
         "showlegend": true,
         "type": "scatter",
         "x": [
          0.5,
          1,
          2,
          3,
          5,
          10,
          20,
          30
         ],
         "xaxis": "x",
         "y": [
          0.0022,
          0.0018,
          0.0016,
          0.002,
          0.0034999999999999996,
          0.0062,
          0.0128,
          0.0161
         ],
         "yaxis": "y"
        },
        {
         "hovertemplate": "Date=2020-06-30<br>Maturity=%{x}<br>SpotRate=%{y}<extra></extra>",
         "legendgroup": "2020-06-30",
         "line": {
          "color": "#19d3f3",
          "dash": "solid"
         },
         "mode": "lines+markers",
         "name": "2020-06-30",
         "orientation": "v",
         "showlegend": true,
         "type": "scatter",
         "x": [
          0.5,
          1,
          2,
          3,
          5,
          10,
          20,
          30
         ],
         "xaxis": "x",
         "y": [
          0.0021,
          0.0018,
          0.0015,
          0.0019,
          0.0033,
          0.0064,
          0.0127,
          0.016
         ],
         "yaxis": "y"
        }
       ],
       "layout": {
        "autosize": true,
        "legend": {
         "title": {
          "text": "Date"
         },
         "tracegroupgap": 0
        },
        "template": {
         "data": {
          "bar": [
           {
            "error_x": {
             "color": "#2a3f5f"
            },
            "error_y": {
             "color": "#2a3f5f"
            },
            "marker": {
             "line": {
              "color": "#E5ECF6",
              "width": 0.5
             }
            },
            "type": "bar"
           }
          ],
          "barpolar": [
           {
            "marker": {
             "line": {
              "color": "#E5ECF6",
              "width": 0.5
             }
            },
            "type": "barpolar"
           }
          ],
          "carpet": [
           {
            "aaxis": {
             "endlinecolor": "#2a3f5f",
             "gridcolor": "white",
             "linecolor": "white",
             "minorgridcolor": "white",
             "startlinecolor": "#2a3f5f"
            },
            "baxis": {
             "endlinecolor": "#2a3f5f",
             "gridcolor": "white",
             "linecolor": "white",
             "minorgridcolor": "white",
             "startlinecolor": "#2a3f5f"
            },
            "type": "carpet"
           }
          ],
          "choropleth": [
           {
            "colorbar": {
             "outlinewidth": 0,
             "ticks": ""
            },
            "type": "choropleth"
           }
          ],
          "contour": [
           {
            "colorbar": {
             "outlinewidth": 0,
             "ticks": ""
            },
            "colorscale": [
             [
              0,
              "#0d0887"
             ],
             [
              0.1111111111111111,
              "#46039f"
             ],
             [
              0.2222222222222222,
              "#7201a8"
             ],
             [
              0.3333333333333333,
              "#9c179e"
             ],
             [
              0.4444444444444444,
              "#bd3786"
             ],
             [
              0.5555555555555556,
              "#d8576b"
             ],
             [
              0.6666666666666666,
              "#ed7953"
             ],
             [
              0.7777777777777778,
              "#fb9f3a"
             ],
             [
              0.8888888888888888,
              "#fdca26"
             ],
             [
              1,
              "#f0f921"
             ]
            ],
            "type": "contour"
           }
          ],
          "contourcarpet": [
           {
            "colorbar": {
             "outlinewidth": 0,
             "ticks": ""
            },
            "type": "contourcarpet"
           }
          ],
          "heatmap": [
           {
            "colorbar": {
             "outlinewidth": 0,
             "ticks": ""
            },
            "colorscale": [
             [
              0,
              "#0d0887"
             ],
             [
              0.1111111111111111,
              "#46039f"
             ],
             [
              0.2222222222222222,
              "#7201a8"
             ],
             [
              0.3333333333333333,
              "#9c179e"
             ],
             [
              0.4444444444444444,
              "#bd3786"
             ],
             [
              0.5555555555555556,
              "#d8576b"
             ],
             [
              0.6666666666666666,
              "#ed7953"
             ],
             [
              0.7777777777777778,
              "#fb9f3a"
             ],
             [
              0.8888888888888888,
              "#fdca26"
             ],
             [
              1,
              "#f0f921"
             ]
            ],
            "type": "heatmap"
           }
          ],
          "heatmapgl": [
           {
            "colorbar": {
             "outlinewidth": 0,
             "ticks": ""
            },
            "colorscale": [
             [
              0,
              "#0d0887"
             ],
             [
              0.1111111111111111,
              "#46039f"
             ],
             [
              0.2222222222222222,
              "#7201a8"
             ],
             [
              0.3333333333333333,
              "#9c179e"
             ],
             [
              0.4444444444444444,
              "#bd3786"
             ],
             [
              0.5555555555555556,
              "#d8576b"
             ],
             [
              0.6666666666666666,
              "#ed7953"
             ],
             [
              0.7777777777777778,
              "#fb9f3a"
             ],
             [
              0.8888888888888888,
              "#fdca26"
             ],
             [
              1,
              "#f0f921"
             ]
            ],
            "type": "heatmapgl"
           }
          ],
          "histogram": [
           {
            "marker": {
             "colorbar": {
              "outlinewidth": 0,
              "ticks": ""
             }
            },
            "type": "histogram"
           }
          ],
          "histogram2d": [
           {
            "colorbar": {
             "outlinewidth": 0,
             "ticks": ""
            },
            "colorscale": [
             [
              0,
              "#0d0887"
             ],
             [
              0.1111111111111111,
              "#46039f"
             ],
             [
              0.2222222222222222,
              "#7201a8"
             ],
             [
              0.3333333333333333,
              "#9c179e"
             ],
             [
              0.4444444444444444,
              "#bd3786"
             ],
             [
              0.5555555555555556,
              "#d8576b"
             ],
             [
              0.6666666666666666,
              "#ed7953"
             ],
             [
              0.7777777777777778,
              "#fb9f3a"
             ],
             [
              0.8888888888888888,
              "#fdca26"
             ],
             [
              1,
              "#f0f921"
             ]
            ],
            "type": "histogram2d"
           }
          ],
          "histogram2dcontour": [
           {
            "colorbar": {
             "outlinewidth": 0,
             "ticks": ""
            },
            "colorscale": [
             [
              0,
              "#0d0887"
             ],
             [
              0.1111111111111111,
              "#46039f"
             ],
             [
              0.2222222222222222,
              "#7201a8"
             ],
             [
              0.3333333333333333,
              "#9c179e"
             ],
             [
              0.4444444444444444,
              "#bd3786"
             ],
             [
              0.5555555555555556,
              "#d8576b"
             ],
             [
              0.6666666666666666,
              "#ed7953"
             ],
             [
              0.7777777777777778,
              "#fb9f3a"
             ],
             [
              0.8888888888888888,
              "#fdca26"
             ],
             [
              1,
              "#f0f921"
             ]
            ],
            "type": "histogram2dcontour"
           }
          ],
          "mesh3d": [
           {
            "colorbar": {
             "outlinewidth": 0,
             "ticks": ""
            },
            "type": "mesh3d"
           }
          ],
          "parcoords": [
           {
            "line": {
             "colorbar": {
              "outlinewidth": 0,
              "ticks": ""
             }
            },
            "type": "parcoords"
           }
          ],
          "pie": [
           {
            "automargin": true,
            "type": "pie"
           }
          ],
          "scatter": [
           {
            "marker": {
             "colorbar": {
              "outlinewidth": 0,
              "ticks": ""
             }
            },
            "type": "scatter"
           }
          ],
          "scatter3d": [
           {
            "line": {
             "colorbar": {
              "outlinewidth": 0,
              "ticks": ""
             }
            },
            "marker": {
             "colorbar": {
              "outlinewidth": 0,
              "ticks": ""
             }
            },
            "type": "scatter3d"
           }
          ],
          "scattercarpet": [
           {
            "marker": {
             "colorbar": {
              "outlinewidth": 0,
              "ticks": ""
             }
            },
            "type": "scattercarpet"
           }
          ],
          "scattergeo": [
           {
            "marker": {
             "colorbar": {
              "outlinewidth": 0,
              "ticks": ""
             }
            },
            "type": "scattergeo"
           }
          ],
          "scattergl": [
           {
            "marker": {
             "colorbar": {
              "outlinewidth": 0,
              "ticks": ""
             }
            },
            "type": "scattergl"
           }
          ],
          "scattermapbox": [
           {
            "marker": {
             "colorbar": {
              "outlinewidth": 0,
              "ticks": ""
             }
            },
            "type": "scattermapbox"
           }
          ],
          "scatterpolar": [
           {
            "marker": {
             "colorbar": {
              "outlinewidth": 0,
              "ticks": ""
             }
            },
            "type": "scatterpolar"
           }
          ],
          "scatterpolargl": [
           {
            "marker": {
             "colorbar": {
              "outlinewidth": 0,
              "ticks": ""
             }
            },
            "type": "scatterpolargl"
           }
          ],
          "scatterternary": [
           {
            "marker": {
             "colorbar": {
              "outlinewidth": 0,
              "ticks": ""
             }
            },
            "type": "scatterternary"
           }
          ],
          "surface": [
           {
            "colorbar": {
             "outlinewidth": 0,
             "ticks": ""
            },
            "colorscale": [
             [
              0,
              "#0d0887"
             ],
             [
              0.1111111111111111,
              "#46039f"
             ],
             [
              0.2222222222222222,
              "#7201a8"
             ],
             [
              0.3333333333333333,
              "#9c179e"
             ],
             [
              0.4444444444444444,
              "#bd3786"
             ],
             [
              0.5555555555555556,
              "#d8576b"
             ],
             [
              0.6666666666666666,
              "#ed7953"
             ],
             [
              0.7777777777777778,
              "#fb9f3a"
             ],
             [
              0.8888888888888888,
              "#fdca26"
             ],
             [
              1,
              "#f0f921"
             ]
            ],
            "type": "surface"
           }
          ],
          "table": [
           {
            "cells": {
             "fill": {
              "color": "#EBF0F8"
             },
             "line": {
              "color": "white"
             }
            },
            "header": {
             "fill": {
              "color": "#C8D4E3"
             },
             "line": {
              "color": "white"
             }
            },
            "type": "table"
           }
          ]
         },
         "layout": {
          "annotationdefaults": {
           "arrowcolor": "#2a3f5f",
           "arrowhead": 0,
           "arrowwidth": 1
          },
          "coloraxis": {
           "colorbar": {
            "outlinewidth": 0,
            "ticks": ""
           }
          },
          "colorscale": {
           "diverging": [
            [
             0,
             "#8e0152"
            ],
            [
             0.1,
             "#c51b7d"
            ],
            [
             0.2,
             "#de77ae"
            ],
            [
             0.3,
             "#f1b6da"
            ],
            [
             0.4,
             "#fde0ef"
            ],
            [
             0.5,
             "#f7f7f7"
            ],
            [
             0.6,
             "#e6f5d0"
            ],
            [
             0.7,
             "#b8e186"
            ],
            [
             0.8,
             "#7fbc41"
            ],
            [
             0.9,
             "#4d9221"
            ],
            [
             1,
             "#276419"
            ]
           ],
           "sequential": [
            [
             0,
             "#0d0887"
            ],
            [
             0.1111111111111111,
             "#46039f"
            ],
            [
             0.2222222222222222,
             "#7201a8"
            ],
            [
             0.3333333333333333,
             "#9c179e"
            ],
            [
             0.4444444444444444,
             "#bd3786"
            ],
            [
             0.5555555555555556,
             "#d8576b"
            ],
            [
             0.6666666666666666,
             "#ed7953"
            ],
            [
             0.7777777777777778,
             "#fb9f3a"
            ],
            [
             0.8888888888888888,
             "#fdca26"
            ],
            [
             1,
             "#f0f921"
            ]
           ],
           "sequentialminus": [
            [
             0,
             "#0d0887"
            ],
            [
             0.1111111111111111,
             "#46039f"
            ],
            [
             0.2222222222222222,
             "#7201a8"
            ],
            [
             0.3333333333333333,
             "#9c179e"
            ],
            [
             0.4444444444444444,
             "#bd3786"
            ],
            [
             0.5555555555555556,
             "#d8576b"
            ],
            [
             0.6666666666666666,
             "#ed7953"
            ],
            [
             0.7777777777777778,
             "#fb9f3a"
            ],
            [
             0.8888888888888888,
             "#fdca26"
            ],
            [
             1,
             "#f0f921"
            ]
           ]
          },
          "colorway": [
           "#636efa",
           "#EF553B",
           "#00cc96",
           "#ab63fa",
           "#FFA15A",
           "#19d3f3",
           "#FF6692",
           "#B6E880",
           "#FF97FF",
           "#FECB52"
          ],
          "font": {
           "color": "#2a3f5f"
          },
          "geo": {
           "bgcolor": "white",
           "lakecolor": "white",
           "landcolor": "#E5ECF6",
           "showlakes": true,
           "showland": true,
           "subunitcolor": "white"
          },
          "hoverlabel": {
           "align": "left"
          },
          "hovermode": "closest",
          "mapbox": {
           "style": "light"
          },
          "paper_bgcolor": "white",
          "plot_bgcolor": "#E5ECF6",
          "polar": {
           "angularaxis": {
            "gridcolor": "white",
            "linecolor": "white",
            "ticks": ""
           },
           "bgcolor": "#E5ECF6",
           "radialaxis": {
            "gridcolor": "white",
            "linecolor": "white",
            "ticks": ""
           }
          },
          "scene": {
           "xaxis": {
            "backgroundcolor": "#E5ECF6",
            "gridcolor": "white",
            "gridwidth": 2,
            "linecolor": "white",
            "showbackground": true,
            "ticks": "",
            "zerolinecolor": "white"
           },
           "yaxis": {
            "backgroundcolor": "#E5ECF6",
            "gridcolor": "white",
            "gridwidth": 2,
            "linecolor": "white",
            "showbackground": true,
            "ticks": "",
            "zerolinecolor": "white"
           },
           "zaxis": {
            "backgroundcolor": "#E5ECF6",
            "gridcolor": "white",
            "gridwidth": 2,
            "linecolor": "white",
            "showbackground": true,
            "ticks": "",
            "zerolinecolor": "white"
           }
          },
          "shapedefaults": {
           "line": {
            "color": "#2a3f5f"
           }
          },
          "ternary": {
           "aaxis": {
            "gridcolor": "white",
            "linecolor": "white",
            "ticks": ""
           },
           "baxis": {
            "gridcolor": "white",
            "linecolor": "white",
            "ticks": ""
           },
           "bgcolor": "#E5ECF6",
           "caxis": {
            "gridcolor": "white",
            "linecolor": "white",
            "ticks": ""
           }
          },
          "title": {
           "x": 0.05
          },
          "xaxis": {
           "automargin": true,
           "gridcolor": "white",
           "linecolor": "white",
           "ticks": "",
           "title": {
            "standoff": 15
           },
           "zerolinecolor": "white",
           "zerolinewidth": 2
          },
          "yaxis": {
           "automargin": true,
           "gridcolor": "white",
           "linecolor": "white",
           "ticks": "",
           "title": {
            "standoff": 15
           },
           "zerolinecolor": "white",
           "zerolinewidth": 2
          }
         }
        },
        "title": {
         "text": "US Treasury Term Structure"
        },
        "xaxis": {
         "anchor": "y",
         "autorange": true,
         "domain": [
          0,
          1
         ],
         "range": [
          -1.3389485677083328,
          31.838948567708332
         ],
         "title": {
          "text": "Maturity"
         },
         "type": "linear"
        },
        "yaxis": {
         "anchor": "x",
         "autorange": true,
         "domain": [
          0,
          1
         ],
         "range": [
          -0.0004089171974522292,
          0.02320891719745223
         ],
         "tickformat": ".2%",
         "title": {
          "text": "SpotRate"
         },
         "type": "linear"
        }
       }
      },
      "image/png": "[encoded data removed]"
     },
     "metadata": {},
     "output_type": "display_data"
    }
   ],
   "source": [
    "TSDates = ['20200131','20200229','20200331','20200430','20200531','20200630']\n",
    "plotDF = TSdf.loc[TSdf[\"Date\"].isin(TSDates),:].reset_index(drop=True)\n",
    "plotDF[\"Date\"] = plotDF[\"Date\"].dt.date.astype(str)\n",
    "\n",
    "px.line(plotDF,x=\"Maturity\",y=\"SpotRate\",color=\"Date\",title=\"US Treasury Term Structure\")\\\n",
    ".update_layout(yaxis=dict(tickformat=\".2%\")).update_traces(mode='lines+markers')"
   ]
  },
  {
   "cell_type": "markdown",
   "metadata": {},
   "source": [
    "# PCA"
   ]
  },
  {
   "cell_type": "markdown",
   "metadata": {
    "heading_collapsed": true
   },
   "source": [
    "## Background"
   ]
  },
  {
   "cell_type": "markdown",
   "metadata": {
    "hidden": true
   },
   "source": [
    "Let $\\mathbf{X}$ be an $n\\times k$ matrix whose columns are centered - i.e., the mean of each column is zero. Then the $k\\times k$ covariance matrix $\\mathbf{\\Sigma}$ is\n",
    "\n",
    "\\begin{equation}\n",
    "\\mathbf{\\Sigma} = \\frac{1}{n}\\mathbf{X'X}\n",
    "\\end{equation}\n",
    "\n",
    "We can diagonalize the covariance matrix by the similarity transformation\n",
    "\n",
    "\\begin{equation}\n",
    "\\mathbf{\\Sigma} = \\mathbf{U\\Lambda U'}\n",
    "\\end{equation}\n",
    "where\n",
    "* $\\mathbf{U}$ is a $k\\times k$ matrix whose columns are eigenvectors of $\\mathbf{\\Sigma}$\n",
    "* $\\mathbf{U}$ is an orthogonal matrix, $\\mathbf{UU'= U'U = I}$\n",
    "* $\\mathbf{\\Lambda}$ is a diagonal matrix consisting of the eigenvalues of $\\mathbf{\\Sigma}$\n",
    "\n",
    "In addition:\n",
    "\n",
    "* If $\\mathbf{\\Sigma}$ is real and symmetric, its eigenvalues are real\n",
    "* If the eigenvalues $\\lambda_i > 0 \\; \\forall\\, i$, then $\\mathbf{\\Sigma}$ is positive definite\n",
    "* If some $\\lambda_i = 0$, then $\\mathbf{\\Sigma}$ is positive semi-definite if the *non-zero* $\\lambda_i$ are greater than zero\n",
    "\n",
    "**Variation and reduction in dimensionality**\n",
    "\n",
    "$$\n",
    "\\text{Total variation} = \\sum_i \\sigma_i^2 = tr(\\mathbf{\\Sigma}) = tr(\\mathbf{\\Lambda}) = \\sum_i \\lambda_i\n",
    "$$\n",
    "where $tr(.)$ is the trace of a matrix and we have used the fact that $tr(\\mathbf{\\Sigma})=tr(\\mathbf{U\\Lambda U'})=tr(\\mathbf{U'U\\Lambda})=tr(\\mathbf{\\Lambda})$.\n",
    "\n",
    "The vectors in $\\mathbf{X}$ can be transformed to a new basis by post-multiplying them with the matrix $\\mathbf{U}$:\n",
    "\n",
    "\\begin{equation}\n",
    "\\mathbf{P} = \\mathbf{X U}\n",
    "\\end{equation}\n",
    "\n",
    "The columns of $\\mathbf{P}$ are known as principal components. These components are orthogonal to each other. The $j$th principal component is \n",
    "\n",
    "\\begin{equation}\n",
    "\\mathbf{P}_j = \\mathbf{X}\\mathbf{U}_j\n",
    "\\end{equation}\n",
    "where $\\mathbf{U}_j$ is the $j$th column of $\\mathbf{U}$.\n",
    "\n",
    "The proportion of total variation explained by the $j$th principal component is $\\frac{\\lambda_i}{\\sum_i \\lambda_i}$. Often, a few principal components can account for a large fraction of the variation. Thus we may choose to ignore the eigenvectors corresponding to the smaller eigenvalues. This is what leads to **dimensionality reduction**.\n",
    "\n",
    "The matrix $\\mathbf{X}$ can be recovered by noting that $\\mathbf{X}=\\mathbf{PU'}$.\n",
    "\n",
    "**Relationship to Singular Value Decomposition (SVD)**\n",
    "\n",
    "Singular value decomposition is a non-unique decomposition of the matrix $\\mathbf{X}$ such that\n",
    "\n",
    "$$\n",
    "\\mathbf{X}_{n\\times k} = \\mathbf{V}_{n\\times n} \\mathbf{S}_{n\\times k} \\mathbf{U'}_{k\\times n}\n",
    "$$\n",
    "\n",
    "and \n",
    "* $\\mathbf{V, U}$ are unitary (orthogonal if $\\mathbf{X}$ is real)\n",
    "* $\\mathbf{S}$ is diagonal\n",
    "\n",
    "From this, we see that\n",
    "\n",
    "$$\n",
    "\\mathbf{\\Sigma} = \\frac{1}{n}\\mathbf{X'X} = \\frac{1}{n} \\mathbf{U\\,S\\,V'\\,V\\,S\\,U'} = \\frac{1}{n} \\mathbf{U\\, S^2\\, U'}\n",
    "$$\n",
    "\n",
    "which means that $\\frac{1}{n} \\mathbf{S^2} = \\mathbf{\\Lambda}$. Since $\\mathbf{S}$ is diagonal, it follows that\n",
    "\n",
    "$$\n",
    "\\frac{1}{n} s_i^2 = \\lambda_i\n",
    "$$"
   ]
  },
  {
   "cell_type": "markdown",
   "metadata": {},
   "source": [
    "## Implementation"
   ]
  },
  {
   "cell_type": "code",
   "execution_count": 5,
   "metadata": {},
   "outputs": [],
   "source": [
    "from sklearn.decomposition import PCA\n",
    "np.set_printoptions(precision=3, suppress=True)"
   ]
  },
  {
   "cell_type": "code",
   "execution_count": 6,
   "metadata": {},
   "outputs": [],
   "source": [
    "test = plotDF.pivot(index='Date',columns='Maturity',values='SpotRate')\n",
    "Xdf = test.diff().dropna()\n",
    "X = Xdf.values"
   ]
  },
  {
   "cell_type": "code",
   "execution_count": 7,
   "metadata": {
    "code_folding": []
   },
   "outputs": [],
   "source": [
    "#PCA code.  Steps\n",
    "# 1. Center X\n",
    "# 2. Compute Sigma = (1/n) X'X\n",
    "# 3. Compute eigenvalues and eigenvectors. \n",
    "# 4. Order eigenvalues by magnitude. Choose eigenvectors corresponding to a few of the largest eigenvalues.\n",
    "\n",
    "def myPCA(X):\n",
    "    X = X - np.mean(X,axis=0)\n",
    "    Sigma = np.cov(X,rowvar=False)\n",
    "\n",
    "    e,U = np.linalg.eigh(Sigma)    # eigenvalues and eigenvectors\n",
    "\n",
    "    OrderEV = np.argsort(e)[::-1]  # indices of eigenvalues sorted by magnitude. '[::-1]' reverses the vector.\n",
    "    l = e[OrderEV]\n",
    "    U = U[:,OrderEV]               # columns of U have to be ordered according to order of eigenvalues\n",
    "    PC = X @ U\n",
    "    return ((l,U,PC))"
   ]
  },
  {
   "cell_type": "code",
   "execution_count": 8,
   "metadata": {
    "collapsed": true,
    "jupyter": {
     "outputs_hidden": true,
     "source_hidden": true
    }
   },
   "outputs": [
    {
     "data": {
      "text/plain": [
       "array([95.059,  4.362,  0.444,  0.135,  0.   ,  0.   , -0.   , -0.   ])"
      ]
     },
     "execution_count": 8,
     "metadata": {},
     "output_type": "execute_result"
    },
    {
     "data": {
      "text/plain": [
       "array([[-0.564,  0.499,  0.34 , -0.023, -0.112,  0.341,  0.042,  0.432],\n",
       "       [-0.488,  0.273,  0.022, -0.047,  0.479, -0.319, -0.006, -0.594],\n",
       "       [-0.362, -0.046, -0.217, -0.041, -0.675, -0.497, -0.339, -0.003],\n",
       "       [-0.303, -0.17 , -0.434,  0.055, -0.228,  0.22 ,  0.75 , -0.159],\n",
       "       [-0.267, -0.186, -0.503,  0.35 ,  0.23 ,  0.443, -0.518,  0.041],\n",
       "       [-0.228, -0.4  , -0.096, -0.806,  0.247,  0.009, -0.052,  0.258],\n",
       "       [-0.238, -0.408,  0.18 ,  0.466,  0.295, -0.444,  0.197,  0.452],\n",
       "       [-0.203, -0.534,  0.595,  0.066, -0.221,  0.306, -0.105, -0.402]])"
      ]
     },
     "execution_count": 8,
     "metadata": {},
     "output_type": "execute_result"
    },
    {
     "data": {
      "text/plain": [
       "array([[ 0.005,  0.003,  0.   , -0.   , -0.   ,  0.   , -0.   ,  0.   ],\n",
       "       [ 0.013, -0.002, -0.   ,  0.   ,  0.   , -0.   , -0.   , -0.   ],\n",
       "       [-0.006,  0.001, -0.   ,  0.   ,  0.   , -0.   ,  0.   , -0.   ],\n",
       "       [-0.006, -0.002,  0.001, -0.   , -0.   ,  0.   , -0.   ,  0.   ],\n",
       "       [-0.006, -0.001, -0.001, -0.   , -0.   ,  0.   ,  0.   ,  0.   ]])"
      ]
     },
     "execution_count": 8,
     "metadata": {},
     "output_type": "execute_result"
    }
   ],
   "source": [
    "l,U,PC = myPCA(X)\n",
    "(100*l)/sum(l)\n",
    "U\n",
    "PC"
   ]
  },
  {
   "cell_type": "code",
   "execution_count": 9,
   "metadata": {
    "collapsed": true,
    "jupyter": {
     "outputs_hidden": true
    }
   },
   "outputs": [
    {
     "name": "stdout",
     "output_type": "stream",
     "text": [
      "[95.059  4.362  0.444  0.135  0.   ]\n",
      "[[-0.564 -0.488 -0.362 -0.303 -0.267 -0.228 -0.238 -0.203]\n",
      " [ 0.499  0.273 -0.046 -0.17  -0.186 -0.4   -0.408 -0.534]\n",
      " [ 0.34   0.022 -0.217 -0.434 -0.503 -0.096  0.18   0.595]\n",
      " [-0.023 -0.047 -0.041  0.055  0.35  -0.806  0.466  0.066]\n",
      " [ 0.258 -0.602  0.447  0.372 -0.437 -0.087  0.143 -0.116]]\n"
     ]
    },
    {
     "data": {
      "text/plain": [
       "array([[ 0.005,  0.003,  0.   , -0.   ,  0.   ],\n",
       "       [ 0.013, -0.002, -0.   ,  0.   ,  0.   ],\n",
       "       [-0.006,  0.001, -0.   ,  0.   ,  0.   ],\n",
       "       [-0.006, -0.002,  0.001, -0.   ,  0.   ],\n",
       "       [-0.006, -0.001, -0.001, -0.   ,  0.   ]])"
      ]
     },
     "execution_count": 9,
     "metadata": {},
     "output_type": "execute_result"
    }
   ],
   "source": [
    "# Comparison with scikit-learn PCA\n",
    "\n",
    "pca = PCA()          # Creating an object\n",
    "fit = pca.fit(X)\n",
    "print(100*fit.explained_variance_ratio_)\n",
    "print(fit.components_)                           # This is U'\n",
    "pca.fit_transform(X)"
   ]
  },
  {
   "cell_type": "markdown",
   "metadata": {},
   "source": [
    "# PCA factors for US Treasury spot rate changes"
   ]
  },
  {
   "cell_type": "code",
   "execution_count": 10,
   "metadata": {},
   "outputs": [],
   "source": [
    "TSXdf = TSdf.pivot(index='Date',columns='Maturity',values='SpotRate').diff().dropna()\n",
    "TSX = TSXdf.values"
   ]
  },
  {
   "cell_type": "code",
   "execution_count": 25,
   "metadata": {},
   "outputs": [
    {
     "name": "stdout",
     "output_type": "stream",
     "text": [
      "[0.769 0.934 0.978 0.995 0.998 1.    1.    1.   ]\n"
     ]
    }
   ],
   "source": [
    "# Running PCA on the entire panel\n",
    "\n",
    "X = TSXdf.values\n",
    "dvec = TSXdf.index\n",
    "\n",
    "pca = PCA()          # Creating an object\n",
    "fit = pca.fit(X)\n",
    "\n",
    "evr = np.cumsum(fit.explained_variance_ratio_)\n",
    "PC = pd.DataFrame(pca.fit_transform(X), columns=['PC'+str(x) for x in range(pca.n_components_)])\n",
    "PC = pd.concat([pd.Series(dvec),PC],axis=1)\n",
    "\n",
    "print(evr)\n",
    "#PC"
   ]
  },
  {
   "cell_type": "code",
   "execution_count": 27,
   "metadata": {},
   "outputs": [],
   "source": [
    "# Save a 4 component factor model\n",
    "PC.iloc[:,0:5].to_pickle(\"s3://multifactor-etf/UST_PC4.pkl\")"
   ]
  }
 ],
 "metadata": {
  "kernelspec": {
   "display_name": "Python 3",
   "language": "python",
   "name": "python3"
  },
  "language_info": {
   "codemirror_mode": {
    "name": "ipython",
    "version": 3
   },
   "file_extension": ".py",
   "mimetype": "text/x-python",
   "name": "python",
   "nbconvert_exporter": "python",
   "pygments_lexer": "ipython3",
   "version": "3.7.3"
  },
  "toc": {
   "base_numbering": 1,
   "nav_menu": {},
   "number_sections": true,
   "sideBar": true,
   "skip_h1_title": false,
   "title_cell": "Table of Contents",
   "title_sidebar": "Contents",
   "toc_cell": false,
   "toc_position": {},
   "toc_section_display": true,
   "toc_window_display": false
  }
 },
 "nbformat": 4,
 "nbformat_minor": 4
}
