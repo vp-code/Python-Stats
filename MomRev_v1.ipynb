{
 "cells": [
  {
   "cell_type": "code",
   "execution_count": null,
   "metadata": {},
   "outputs": [],
   "source": [
    "#%matplotlib widget \n",
    "import numpy as np\n",
    "import pandas as pd\n",
    "from scipy import stats\n",
    "\n",
    "import matplotlib.pyplot as plt"
   ]
  },
  {
   "cell_type": "code",
   "execution_count": null,
   "metadata": {},
   "outputs": [],
   "source": [
    "df = pd.read_pickle(\"RConstituents.pkl.gz\")\n",
    "df2 = df.loc[:,[\"Date\",\"CUSIP\",\"MTDReturn\"]]\n",
    "df2[\"MTDReturn\"] = df2[\"MTDReturn\"]/100"
   ]
  },
  {
   "cell_type": "markdown",
   "metadata": {},
   "source": [
    "## Momentum and Reversal, version 1 of function"
   ]
  },
  {
   "cell_type": "code",
   "execution_count": null,
   "metadata": {},
   "outputs": [],
   "source": [
    "def momrev(indf,L=12,Date=\"Date\",idvar=\"CUSIP\",Return=\"Return\",):   \n",
    "    indf = indf.sort_values(by=Date)\n",
    "    dvec = indf[\"Date\"].unique()\n",
    "    \n",
    "    ndates = indf.shape[0]\n",
    "    if(ndates < (L+1)):\n",
    "        result= pd.DataFrame({Date:dvec[-1],\"REV1M\":np.nan,\"MOM\"+str(L):np.nan},index=[0])\n",
    "        return(result)\n",
    "        \n",
    "    REV1M = np.zeros(ndates-L)\n",
    "    MOM = np.zeros(ndates-L)    \n",
    "    for t in range(L,ndates):\n",
    "        end = dvec[t]\n",
    "        r = np.array(indf[Return])[(t-L):(t+1)]    # bpython slice weirdness, i:j stops at (j-1)\n",
    "        REV1M[t-L] = r[-1]\n",
    "        rM = np.delete(r,len(r)-1)                 # delete most recent return for momentum signal\n",
    "        MOM[t-L] = np.prod(1+rM[-L:])-1            # cumulate last L returns\n",
    "    \n",
    "    result= pd.DataFrame({Date:dvec[L:],\"REV1M\":REV1M,\"MOM\"+str(L):MOM})    \n",
    "    return(result)   "
   ]
  },
  {
   "cell_type": "code",
   "execution_count": null,
   "metadata": {},
   "outputs": [],
   "source": []
  },
  {
   "cell_type": "code",
   "execution_count": null,
   "metadata": {},
   "outputs": [],
   "source": []
  }
 ],
 "metadata": {
  "kernelspec": {
   "display_name": "Python 3",
   "language": "python",
   "name": "python3"
  },
  "language_info": {
   "codemirror_mode": {
    "name": "ipython",
    "version": 3
   },
   "file_extension": ".py",
   "mimetype": "text/x-python",
   "name": "python",
   "nbconvert_exporter": "python",
   "pygments_lexer": "ipython3",
   "version": "3.8.2"
  }
 },
 "nbformat": 4,
 "nbformat_minor": 4
}
