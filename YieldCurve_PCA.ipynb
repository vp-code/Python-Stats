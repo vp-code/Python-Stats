{
 "cells": [
  {
   "cell_type": "code",
   "execution_count": 1,
   "metadata": {},
   "outputs": [],
   "source": [
    "import numpy as np\n",
    "import pandas as pd\n",
    "from scipy import stats\n",
    "\n",
    "import plotly\n",
    "import plotly.express as px\n",
    "\n",
    "pd.options.mode.chained_assignment = None  # default='warn'\n",
    "from IPython.core.interactiveshell import InteractiveShell\n",
    "InteractiveShell.ast_node_interactivity = \"all\"\n",
    "\n",
    "pd. options. plotting. backend = \"plotly\"\n",
    "\n",
    "import plotly.io as pio\n",
    "pio.renderers.default = 'jupyterlab'\n",
    "\n",
    "pd.set_option('precision',4)\n",
    "\n",
    "import statsmodels.api as sm\n",
    "import statsmodels.formula.api as smf"
   ]
  },
  {
   "cell_type": "markdown",
   "metadata": {},
   "source": [
    "# Yield curve historical data"
   ]
  },
  {
   "cell_type": "code",
   "execution_count": 2,
   "metadata": {},
   "outputs": [],
   "source": [
    "# Obtained from \n",
    "# https://www.treasury.gov/resource-center/data-chart-center/interest-rates/Pages/TextView.aspx?data=yield\n",
    "\n",
    "USTYC = pd.read_csv(\"USTreasury_YieldCurve.csv\")\n",
    "\n",
    "KeepCols = ['Date','3 Mo','6 Mo','1 Yr','2 Yr','5 Yr','10 Yr','20 Yr','30 Yr']\n",
    "USTYC = USTYC.loc[:,KeepCols]\n",
    "USTYC.columns = USTYC.columns.str.replace(' ','')\n",
    "\n",
    "USTYC[\"Date\"] = pd.to_datetime(USTYC[\"Date\"],format=\"%m/%d/%y\")\n",
    "YCols = USTYC.columns.difference([\"Date\"])\n",
    "USTYC[YCols] = USTYC[YCols]/100\n",
    "USTYC = USTYC.rename(columns=dict(zip(YCols,['T'+x for x in YCols])))"
   ]
  },
  {
   "cell_type": "code",
   "execution_count": 3,
   "metadata": {},
   "outputs": [
    {
     "data": {
      "application/vnd.plotly.v1+json": {
       "config": {
        "plotlyServerURL": "https://plot.ly"
       },
       "data": [
        {
         "hovertemplate": "Date=2020-01-31<br>Maturity=%{x}<br>Yield=%{y}<extra></extra>",
         "legendgroup": "2020-01-31",
         "line": {
          "color": "#636efa",
          "dash": "solid"
         },
         "mode": "lines+markers",
         "name": "2020-01-31",
         "orientation": "v",
         "showlegend": true,
         "type": "scatter",
         "x": [
          "3Mo",
          "6Mo",
          "1Yr",
          "2Yr",
          "5Yr",
          "10Yr",
          "20Yr",
          "30Yr"
         ],
         "xaxis": "x",
         "y": [
          0.0155,
          0.0154,
          0.014499999999999999,
          0.013300000000000001,
          0.0132,
          0.0151,
          0.0183,
          0.0199
         ],
         "yaxis": "y"
        },
        {
         "hovertemplate": "Date=2020-03-31<br>Maturity=%{x}<br>Yield=%{y}<extra></extra>",
         "legendgroup": "2020-03-31",
         "line": {
          "color": "#EF553B",
          "dash": "solid"
         },
         "mode": "lines+markers",
         "name": "2020-03-31",
         "orientation": "v",
         "showlegend": true,
         "type": "scatter",
         "x": [
          "3Mo",
          "6Mo",
          "1Yr",
          "2Yr",
          "5Yr",
          "10Yr",
          "20Yr",
          "30Yr"
         ],
         "xaxis": "x",
         "y": [
          0.0011,
          0.0015,
          0.0017000000000000001,
          0.0023,
          0.0037,
          0.006999999999999999,
          0.0115,
          0.013500000000000002
         ],
         "yaxis": "y"
        },
        {
         "hovertemplate": "Date=2020-04-30<br>Maturity=%{x}<br>Yield=%{y}<extra></extra>",
         "legendgroup": "2020-04-30",
         "line": {
          "color": "#00cc96",
          "dash": "solid"
         },
         "mode": "lines+markers",
         "name": "2020-04-30",
         "orientation": "v",
         "showlegend": true,
         "type": "scatter",
         "x": [
          "3Mo",
          "6Mo",
          "1Yr",
          "2Yr",
          "5Yr",
          "10Yr",
          "20Yr",
          "30Yr"
         ],
         "xaxis": "x",
         "y": [
          0.0009,
          0.0011,
          0.0016,
          0.002,
          0.0036,
          0.0064,
          0.0105,
          0.0128
         ],
         "yaxis": "y"
        },
        {
         "hovertemplate": "Date=2020-06-30<br>Maturity=%{x}<br>Yield=%{y}<extra></extra>",
         "legendgroup": "2020-06-30",
         "line": {
          "color": "#ab63fa",
          "dash": "solid"
         },
         "mode": "lines+markers",
         "name": "2020-06-30",
         "orientation": "v",
         "showlegend": true,
         "type": "scatter",
         "x": [
          "3Mo",
          "6Mo",
          "1Yr",
          "2Yr",
          "5Yr",
          "10Yr",
          "20Yr",
          "30Yr"
         ],
         "xaxis": "x",
         "y": [
          0.0016,
          0.0018,
          0.0016,
          0.0016,
          0.0029,
          0.0066,
          0.0118,
          0.0141
         ],
         "yaxis": "y"
        }
       ],
       "layout": {
        "autosize": true,
        "legend": {
         "title": {
          "text": "Date"
         },
         "tracegroupgap": 0
        },
        "template": {
         "data": {
          "bar": [
           {
            "error_x": {
             "color": "#2a3f5f"
            },
            "error_y": {
             "color": "#2a3f5f"
            },
            "marker": {
             "line": {
              "color": "#E5ECF6",
              "width": 0.5
             }
            },
            "type": "bar"
           }
          ],
          "barpolar": [
           {
            "marker": {
             "line": {
              "color": "#E5ECF6",
              "width": 0.5
             }
            },
            "type": "barpolar"
           }
          ],
          "carpet": [
           {
            "aaxis": {
             "endlinecolor": "#2a3f5f",
             "gridcolor": "white",
             "linecolor": "white",
             "minorgridcolor": "white",
             "startlinecolor": "#2a3f5f"
            },
            "baxis": {
             "endlinecolor": "#2a3f5f",
             "gridcolor": "white",
             "linecolor": "white",
             "minorgridcolor": "white",
             "startlinecolor": "#2a3f5f"
            },
            "type": "carpet"
           }
          ],
          "choropleth": [
           {
            "colorbar": {
             "outlinewidth": 0,
             "ticks": ""
            },
            "type": "choropleth"
           }
          ],
          "contour": [
           {
            "colorbar": {
             "outlinewidth": 0,
             "ticks": ""
            },
            "colorscale": [
             [
              0,
              "#0d0887"
             ],
             [
              0.1111111111111111,
              "#46039f"
             ],
             [
              0.2222222222222222,
              "#7201a8"
             ],
             [
              0.3333333333333333,
              "#9c179e"
             ],
             [
              0.4444444444444444,
              "#bd3786"
             ],
             [
              0.5555555555555556,
              "#d8576b"
             ],
             [
              0.6666666666666666,
              "#ed7953"
             ],
             [
              0.7777777777777778,
              "#fb9f3a"
             ],
             [
              0.8888888888888888,
              "#fdca26"
             ],
             [
              1,
              "#f0f921"
             ]
            ],
            "type": "contour"
           }
          ],
          "contourcarpet": [
           {
            "colorbar": {
             "outlinewidth": 0,
             "ticks": ""
            },
            "type": "contourcarpet"
           }
          ],
          "heatmap": [
           {
            "colorbar": {
             "outlinewidth": 0,
             "ticks": ""
            },
            "colorscale": [
             [
              0,
              "#0d0887"
             ],
             [
              0.1111111111111111,
              "#46039f"
             ],
             [
              0.2222222222222222,
              "#7201a8"
             ],
             [
              0.3333333333333333,
              "#9c179e"
             ],
             [
              0.4444444444444444,
              "#bd3786"
             ],
             [
              0.5555555555555556,
              "#d8576b"
             ],
             [
              0.6666666666666666,
              "#ed7953"
             ],
             [
              0.7777777777777778,
              "#fb9f3a"
             ],
             [
              0.8888888888888888,
              "#fdca26"
             ],
             [
              1,
              "#f0f921"
             ]
            ],
            "type": "heatmap"
           }
          ],
          "heatmapgl": [
           {
            "colorbar": {
             "outlinewidth": 0,
             "ticks": ""
            },
            "colorscale": [
             [
              0,
              "#0d0887"
             ],
             [
              0.1111111111111111,
              "#46039f"
             ],
             [
              0.2222222222222222,
              "#7201a8"
             ],
             [
              0.3333333333333333,
              "#9c179e"
             ],
             [
              0.4444444444444444,
              "#bd3786"
             ],
             [
              0.5555555555555556,
              "#d8576b"
             ],
             [
              0.6666666666666666,
              "#ed7953"
             ],
             [
              0.7777777777777778,
              "#fb9f3a"
             ],
             [
              0.8888888888888888,
              "#fdca26"
             ],
             [
              1,
              "#f0f921"
             ]
            ],
            "type": "heatmapgl"
           }
          ],
          "histogram": [
           {
            "marker": {
             "colorbar": {
              "outlinewidth": 0,
              "ticks": ""
             }
            },
            "type": "histogram"
           }
          ],
          "histogram2d": [
           {
            "colorbar": {
             "outlinewidth": 0,
             "ticks": ""
            },
            "colorscale": [
             [
              0,
              "#0d0887"
             ],
             [
              0.1111111111111111,
              "#46039f"
             ],
             [
              0.2222222222222222,
              "#7201a8"
             ],
             [
              0.3333333333333333,
              "#9c179e"
             ],
             [
              0.4444444444444444,
              "#bd3786"
             ],
             [
              0.5555555555555556,
              "#d8576b"
             ],
             [
              0.6666666666666666,
              "#ed7953"
             ],
             [
              0.7777777777777778,
              "#fb9f3a"
             ],
             [
              0.8888888888888888,
              "#fdca26"
             ],
             [
              1,
              "#f0f921"
             ]
            ],
            "type": "histogram2d"
           }
          ],
          "histogram2dcontour": [
           {
            "colorbar": {
             "outlinewidth": 0,
             "ticks": ""
            },
            "colorscale": [
             [
              0,
              "#0d0887"
             ],
             [
              0.1111111111111111,
              "#46039f"
             ],
             [
              0.2222222222222222,
              "#7201a8"
             ],
             [
              0.3333333333333333,
              "#9c179e"
             ],
             [
              0.4444444444444444,
              "#bd3786"
             ],
             [
              0.5555555555555556,
              "#d8576b"
             ],
             [
              0.6666666666666666,
              "#ed7953"
             ],
             [
              0.7777777777777778,
              "#fb9f3a"
             ],
             [
              0.8888888888888888,
              "#fdca26"
             ],
             [
              1,
              "#f0f921"
             ]
            ],
            "type": "histogram2dcontour"
           }
          ],
          "mesh3d": [
           {
            "colorbar": {
             "outlinewidth": 0,
             "ticks": ""
            },
            "type": "mesh3d"
           }
          ],
          "parcoords": [
           {
            "line": {
             "colorbar": {
              "outlinewidth": 0,
              "ticks": ""
             }
            },
            "type": "parcoords"
           }
          ],
          "pie": [
           {
            "automargin": true,
            "type": "pie"
           }
          ],
          "scatter": [
           {
            "marker": {
             "colorbar": {
              "outlinewidth": 0,
              "ticks": ""
             }
            },
            "type": "scatter"
           }
          ],
          "scatter3d": [
           {
            "line": {
             "colorbar": {
              "outlinewidth": 0,
              "ticks": ""
             }
            },
            "marker": {
             "colorbar": {
              "outlinewidth": 0,
              "ticks": ""
             }
            },
            "type": "scatter3d"
           }
          ],
          "scattercarpet": [
           {
            "marker": {
             "colorbar": {
              "outlinewidth": 0,
              "ticks": ""
             }
            },
            "type": "scattercarpet"
           }
          ],
          "scattergeo": [
           {
            "marker": {
             "colorbar": {
              "outlinewidth": 0,
              "ticks": ""
             }
            },
            "type": "scattergeo"
           }
          ],
          "scattergl": [
           {
            "marker": {
             "colorbar": {
              "outlinewidth": 0,
              "ticks": ""
             }
            },
            "type": "scattergl"
           }
          ],
          "scattermapbox": [
           {
            "marker": {
             "colorbar": {
              "outlinewidth": 0,
              "ticks": ""
             }
            },
            "type": "scattermapbox"
           }
          ],
          "scatterpolar": [
           {
            "marker": {
             "colorbar": {
              "outlinewidth": 0,
              "ticks": ""
             }
            },
            "type": "scatterpolar"
           }
          ],
          "scatterpolargl": [
           {
            "marker": {
             "colorbar": {
              "outlinewidth": 0,
              "ticks": ""
             }
            },
            "type": "scatterpolargl"
           }
          ],
          "scatterternary": [
           {
            "marker": {
             "colorbar": {
              "outlinewidth": 0,
              "ticks": ""
             }
            },
            "type": "scatterternary"
           }
          ],
          "surface": [
           {
            "colorbar": {
             "outlinewidth": 0,
             "ticks": ""
            },
            "colorscale": [
             [
              0,
              "#0d0887"
             ],
             [
              0.1111111111111111,
              "#46039f"
             ],
             [
              0.2222222222222222,
              "#7201a8"
             ],
             [
              0.3333333333333333,
              "#9c179e"
             ],
             [
              0.4444444444444444,
              "#bd3786"
             ],
             [
              0.5555555555555556,
              "#d8576b"
             ],
             [
              0.6666666666666666,
              "#ed7953"
             ],
             [
              0.7777777777777778,
              "#fb9f3a"
             ],
             [
              0.8888888888888888,
              "#fdca26"
             ],
             [
              1,
              "#f0f921"
             ]
            ],
            "type": "surface"
           }
          ],
          "table": [
           {
            "cells": {
             "fill": {
              "color": "#EBF0F8"
             },
             "line": {
              "color": "white"
             }
            },
            "header": {
             "fill": {
              "color": "#C8D4E3"
             },
             "line": {
              "color": "white"
             }
            },
            "type": "table"
           }
          ]
         },
         "layout": {
          "annotationdefaults": {
           "arrowcolor": "#2a3f5f",
           "arrowhead": 0,
           "arrowwidth": 1
          },
          "coloraxis": {
           "colorbar": {
            "outlinewidth": 0,
            "ticks": ""
           }
          },
          "colorscale": {
           "diverging": [
            [
             0,
             "#8e0152"
            ],
            [
             0.1,
             "#c51b7d"
            ],
            [
             0.2,
             "#de77ae"
            ],
            [
             0.3,
             "#f1b6da"
            ],
            [
             0.4,
             "#fde0ef"
            ],
            [
             0.5,
             "#f7f7f7"
            ],
            [
             0.6,
             "#e6f5d0"
            ],
            [
             0.7,
             "#b8e186"
            ],
            [
             0.8,
             "#7fbc41"
            ],
            [
             0.9,
             "#4d9221"
            ],
            [
             1,
             "#276419"
            ]
           ],
           "sequential": [
            [
             0,
             "#0d0887"
            ],
            [
             0.1111111111111111,
             "#46039f"
            ],
            [
             0.2222222222222222,
             "#7201a8"
            ],
            [
             0.3333333333333333,
             "#9c179e"
            ],
            [
             0.4444444444444444,
             "#bd3786"
            ],
            [
             0.5555555555555556,
             "#d8576b"
            ],
            [
             0.6666666666666666,
             "#ed7953"
            ],
            [
             0.7777777777777778,
             "#fb9f3a"
            ],
            [
             0.8888888888888888,
             "#fdca26"
            ],
            [
             1,
             "#f0f921"
            ]
           ],
           "sequentialminus": [
            [
             0,
             "#0d0887"
            ],
            [
             0.1111111111111111,
             "#46039f"
            ],
            [
             0.2222222222222222,
             "#7201a8"
            ],
            [
             0.3333333333333333,
             "#9c179e"
            ],
            [
             0.4444444444444444,
             "#bd3786"
            ],
            [
             0.5555555555555556,
             "#d8576b"
            ],
            [
             0.6666666666666666,
             "#ed7953"
            ],
            [
             0.7777777777777778,
             "#fb9f3a"
            ],
            [
             0.8888888888888888,
             "#fdca26"
            ],
            [
             1,
             "#f0f921"
            ]
           ]
          },
          "colorway": [
           "#636efa",
           "#EF553B",
           "#00cc96",
           "#ab63fa",
           "#FFA15A",
           "#19d3f3",
           "#FF6692",
           "#B6E880",
           "#FF97FF",
           "#FECB52"
          ],
          "font": {
           "color": "#2a3f5f"
          },
          "geo": {
           "bgcolor": "white",
           "lakecolor": "white",
           "landcolor": "#E5ECF6",
           "showlakes": true,
           "showland": true,
           "subunitcolor": "white"
          },
          "hoverlabel": {
           "align": "left"
          },
          "hovermode": "closest",
          "mapbox": {
           "style": "light"
          },
          "paper_bgcolor": "white",
          "plot_bgcolor": "#E5ECF6",
          "polar": {
           "angularaxis": {
            "gridcolor": "white",
            "linecolor": "white",
            "ticks": ""
           },
           "bgcolor": "#E5ECF6",
           "radialaxis": {
            "gridcolor": "white",
            "linecolor": "white",
            "ticks": ""
           }
          },
          "scene": {
           "xaxis": {
            "backgroundcolor": "#E5ECF6",
            "gridcolor": "white",
            "gridwidth": 2,
            "linecolor": "white",
            "showbackground": true,
            "ticks": "",
            "zerolinecolor": "white"
           },
           "yaxis": {
            "backgroundcolor": "#E5ECF6",
            "gridcolor": "white",
            "gridwidth": 2,
            "linecolor": "white",
            "showbackground": true,
            "ticks": "",
            "zerolinecolor": "white"
           },
           "zaxis": {
            "backgroundcolor": "#E5ECF6",
            "gridcolor": "white",
            "gridwidth": 2,
            "linecolor": "white",
            "showbackground": true,
            "ticks": "",
            "zerolinecolor": "white"
           }
          },
          "shapedefaults": {
           "line": {
            "color": "#2a3f5f"
           }
          },
          "ternary": {
           "aaxis": {
            "gridcolor": "white",
            "linecolor": "white",
            "ticks": ""
           },
           "baxis": {
            "gridcolor": "white",
            "linecolor": "white",
            "ticks": ""
           },
           "bgcolor": "#E5ECF6",
           "caxis": {
            "gridcolor": "white",
            "linecolor": "white",
            "ticks": ""
           }
          },
          "title": {
           "x": 0.05
          },
          "xaxis": {
           "automargin": true,
           "gridcolor": "white",
           "linecolor": "white",
           "ticks": "",
           "title": {
            "standoff": 15
           },
           "zerolinecolor": "white",
           "zerolinewidth": 2
          },
          "yaxis": {
           "automargin": true,
           "gridcolor": "white",
           "linecolor": "white",
           "ticks": "",
           "title": {
            "standoff": 15
           },
           "zerolinecolor": "white",
           "zerolinewidth": 2
          }
         }
        },
        "title": {
         "text": "US Treasury Yield Curves"
        },
        "xaxis": {
         "anchor": "y",
         "autorange": true,
         "domain": [
          0,
          1
         ],
         "range": [
          -0.4363606770833332,
          7.436360677083333
         ],
         "title": {
          "text": "Maturity"
         },
         "type": "category"
        },
        "yaxis": {
         "anchor": "x",
         "autorange": true,
         "domain": [
          0,
          1
         ],
         "range": [
          -0.0004917197452229299,
          0.021291719745222933
         ],
         "tickformat": ".2%",
         "title": {
          "text": "Yield"
         },
         "type": "linear"
        }
       }
      },
      "image/png": "[encoded data removed]"
     },
     "metadata": {},
     "output_type": "display_data"
    }
   ],
   "source": [
    "YCDates = ['20200131','20200229','20200331','20200430','20200531','20200630']\n",
    "\n",
    "plotDF = pd.melt(USTYC,id_vars=\"Date\",var_name=\"Maturity\",value_name=\"Yield\")\n",
    "plotDF = plotDF.loc[plotDF[\"Date\"].isin(YCDates),:].reset_index(drop=True)\n",
    "plotDF[\"Maturity\"] = plotDF[\"Maturity\"].str.slice(start=1)\n",
    "plotDF[\"Date\"] = plotDF[\"Date\"].dt.date.astype(str)\n",
    "\n",
    "px.line(plotDF,x=\"Maturity\",y=\"Yield\",color=\"Date\",title=\"US Treasury Yield Curves\")\\\n",
    ".update_layout(yaxis=dict(tickformat=\".2%\")).update_traces(mode='lines+markers')"
   ]
  },
  {
   "cell_type": "markdown",
   "metadata": {},
   "source": [
    "# PCA"
   ]
  },
  {
   "cell_type": "markdown",
   "metadata": {
    "heading_collapsed": true
   },
   "source": [
    "## Background"
   ]
  },
  {
   "cell_type": "markdown",
   "metadata": {
    "hidden": true
   },
   "source": [
    "Let $\\mathbf{X}$ be an $n\\times k$ matrix whose columns are centered - i.e., the mean of each column is zero. Then the $k\\times k$ covariance matrix $\\mathbf{\\Sigma}$ is\n",
    "\n",
    "\\begin{equation}\n",
    "\\mathbf{\\Sigma} = \\frac{1}{n}\\mathbf{X'X}\n",
    "\\end{equation}\n",
    "\n",
    "We can diagonalize the covariance matrix by the similarity transformation\n",
    "\n",
    "\\begin{equation}\n",
    "\\mathbf{\\Sigma} = \\mathbf{U\\Lambda U'}\n",
    "\\end{equation}\n",
    "where\n",
    "* $\\mathbf{U}$ is a $k\\times k$ matrix whose columns are eigenvectors of $\\mathbf{\\Sigma}$\n",
    "* $\\mathbf{U}$ is an orthogonal matrix, $\\mathbf{UU'= U'U = I}$\n",
    "* $\\mathbf{\\Lambda}$ is a diagonal matrix consisting of the eigenvalues of $\\mathbf{\\Sigma}$\n",
    "\n",
    "In addition:\n",
    "\n",
    "* If $\\mathbf{\\Sigma}$ is real and symmetric, its eigenvalues are real\n",
    "* If the eigenvalues $\\lambda_i > 0 \\; \\forall\\, i$, then $\\mathbf{\\Sigma}$ is positive definite\n",
    "* If some $\\lambda_i = 0$, then $\\mathbf{\\Sigma}$ is positive semi-definite if the *non-zero* $\\lambda_i$ are greater than zero\n",
    "\n",
    "**Variation and reduction in dimensionality**\n",
    "\n",
    "$$\n",
    "\\text{Total variation} = \\sum_i \\sigma_i^2 = tr(\\mathbf{\\Sigma}) = tr(\\mathbf{\\Lambda}) = \\sum_i \\lambda_i\n",
    "$$\n",
    "where $tr(.)$ is the trace of a matrix and we have used the fact that $tr(\\mathbf{\\Sigma})=tr(\\mathbf{U\\Lambda U'})=tr(\\mathbf{U'U\\Lambda})=tr(\\mathbf{\\Lambda})$.\n",
    "\n",
    "The vectors in $\\mathbf{X}$ can be transformed to a new basis by post-multiplying them with the matrix $\\mathbf{U}$:\n",
    "\n",
    "\\begin{equation}\n",
    "\\mathbf{P} = \\mathbf{X U}\n",
    "\\end{equation}\n",
    "\n",
    "The columns of $\\mathbf{P}$ are known as principal components. These components are orthogonal to each other. The $j$th principal component is \n",
    "\n",
    "\\begin{equation}\n",
    "\\mathbf{P}_j = \\mathbf{X}\\mathbf{U}_j\n",
    "\\end{equation}\n",
    "where $\\mathbf{U}_j$ is the $j$th column of $\\mathbf{U}$.\n",
    "\n",
    "The proportion of total variation explained by the $j$th principal component is $\\frac{\\lambda_i}{\\sum_i \\lambda_i}$. Often, a few principal components can account for a large fraction of the variation. Thus we may choose to ignore the eigenvectors corresponding to the smaller eigenvalues. This is what leads to **dimensionality reduction**.\n",
    "\n",
    "The matrix $\\mathbf{X}$ can be recovered by noting that $\\mathbf{X}=\\mathbf{PU'}$.\n",
    "\n",
    "**Relationship to Singular Value Decomposition (SVD)**\n",
    "\n",
    "Singular value decomposition is a non-unique decomposition of the matrix $\\mathbf{X}$ such that\n",
    "\n",
    "$$\n",
    "\\mathbf{X}_{n\\times k} = \\mathbf{V}_{n\\times n} \\mathbf{S}_{n\\times k} \\mathbf{U'}_{k\\times n}\n",
    "$$\n",
    "\n",
    "and \n",
    "* $\\mathbf{V, U}$ are unitary (orthogonal if $\\mathbf{X}$ is real)\n",
    "* $\\mathbf{S}$ is diagonal\n",
    "\n",
    "From this, we see that\n",
    "\n",
    "$$\n",
    "\\mathbf{\\Sigma} = \\frac{1}{n}\\mathbf{X'X} = \\frac{1}{n} \\mathbf{U\\,S\\,V'\\,V\\,S\\,U'} = \\frac{1}{n} \\mathbf{U\\, S^2\\, U'}\n",
    "$$\n",
    "\n",
    "which means that $\\frac{1}{n} \\mathbf{S^2} = \\mathbf{\\Lambda}$. Since $\\mathbf{S}$ is diagonal, it follows that\n",
    "\n",
    "$$\n",
    "\\frac{1}{n} s_i^2 = \\lambda_i\n",
    "$$"
   ]
  },
  {
   "cell_type": "markdown",
   "metadata": {},
   "source": [
    "## Implementation"
   ]
  },
  {
   "cell_type": "code",
   "execution_count": 4,
   "metadata": {},
   "outputs": [],
   "source": [
    "from sklearn.decomposition import PCA\n",
    "np.set_printoptions(precision=3, suppress=True)"
   ]
  },
  {
   "cell_type": "markdown",
   "metadata": {},
   "source": [
    "# PCA factors for US Treasury yield curve changes"
   ]
  },
  {
   "cell_type": "code",
   "execution_count": 5,
   "metadata": {},
   "outputs": [],
   "source": [
    "YCdf = USTYC.set_index(\"Date\").diff().dropna()       # daily changes\n",
    "YCX = YCdf.values"
   ]
  },
  {
   "cell_type": "code",
   "execution_count": 6,
   "metadata": {},
   "outputs": [
    {
     "name": "stdout",
     "output_type": "stream",
     "text": [
      "[ 71.314  89.542  95.239  97.401  98.51   99.316  99.729 100.   ]\n"
     ]
    }
   ],
   "source": [
    "# Running PCA on the entire panel\n",
    "\n",
    "dvec = YCdf.index\n",
    "\n",
    "pca = PCA()          # Creating an object\n",
    "fit = pca.fit(YCX)\n",
    "\n",
    "evr = np.cumsum(fit.explained_variance_ratio_)\n",
    "PC = pd.DataFrame(pca.fit_transform(YCX), columns=['PC'+str(x) for x in range(pca.n_components_)])\n",
    "PC = pd.concat([pd.Series(dvec),PC],axis=1)\n",
    "\n",
    "print(100*evr)\n",
    "#PC"
   ]
  }
 ],
 "metadata": {
  "kernelspec": {
   "display_name": "conda_python3",
   "language": "python",
   "name": "conda_python3"
  },
  "language_info": {
   "codemirror_mode": {
    "name": "ipython",
    "version": 3
   },
   "file_extension": ".py",
   "mimetype": "text/x-python",
   "name": "python",
   "nbconvert_exporter": "python",
   "pygments_lexer": "ipython3",
   "version": "3.6.10"
  },
  "toc": {
   "base_numbering": 1,
   "nav_menu": {},
   "number_sections": true,
   "sideBar": true,
   "skip_h1_title": false,
   "title_cell": "Table of Contents",
   "title_sidebar": "Contents",
   "toc_cell": false,
   "toc_position": {},
   "toc_section_display": true,
   "toc_window_display": false
  }
 },
 "nbformat": 4,
 "nbformat_minor": 4
}
