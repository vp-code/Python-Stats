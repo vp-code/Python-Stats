{
 "cells": [
  {
   "cell_type": "markdown",
   "id": "d0e889f0-31b1-4ae6-aea8-89c1081508ef",
   "metadata": {},
   "source": [
    "## Descriptive Statistics"
   ]
  },
  {
   "cell_type": "markdown",
   "id": "b0729aec-1b76-4207-8172-513ff3d034d1",
   "metadata": {},
   "source": [
    "We often need to summarize large data sets using a few numbers. Descriptive Statistics enable us to do that. "
   ]
  },
  {
   "cell_type": "markdown",
   "id": "7161d029-ed4d-4359-8220-dacbf78116a5",
   "metadata": {},
   "source": [
    "## Measures of location"
   ]
  },
  {
   "cell_type": "markdown",
   "id": "ad476187-c807-45e8-8c96-5328368fae2b",
   "metadata": {},
   "source": [
    "You are probably familiar with the **mean**, or arithmetic average, used as a summary  number. If we have $n$ numbers $x_1,x_2,\\dots x_n$, then the mean $\\bar{x}$ is given by\n",
    "\\begin{equation}\n",
    "\\bar{x} = \\frac{x_1+x_2\\dots+x_n}{n} = \\frac{1}{n}\\sum_{i=1}^n x_i\n",
    "\\end{equation}\n",
    "\n",
    "The **median** of the data is a similar measure. The word 'median' refers to the middle. We can sort the numbers $x_1,x_2,\\dots x_n$ and pick the middle value as the median. The middle value is obvious if $n$ is odd: it is the $(\\frac{n+1}{2})$-th number. If $n$ is even, then we take the average of the two numbers in the middle:\n",
    "\\begin{equation}\n",
    "\\text{median}=\n",
    "    \\begin{cases}\n",
    "    x_{\\frac{n+1}{2}} & \\text{if}\\ n\\ \\text{is odd}\\\\\n",
    "    \\frac{x_{\\frac{n}{2}}+x_{\\frac{n}{2}+1}}{2} & \\text{if}\\ n\\ \\text{is even}\n",
    "    \\end{cases}\n",
    "\\end{equation}\n",
    "\n",
    "A third measure of location for the data is the **mode**. The mode is the data value which occurs most frequently in the data. Clearly, there might be several values which occur with the highest frequency. In such cases, the mode is not unique. In the simple case when there is only one mode, the data are said to have a **unimodal** distribution."
   ]
  },
  {
   "cell_type": "code",
   "execution_count": 36,
   "id": "03c3631f-c438-4c2c-b69f-b5a668f76b9c",
   "metadata": {
    "execution": {
     "iopub.execute_input": "2022-04-29T04:48:01.380053Z",
     "iopub.status.busy": "2022-04-29T04:48:01.379595Z",
     "iopub.status.idle": "2022-04-29T04:48:01.394335Z",
     "shell.execute_reply": "2022-04-29T04:48:01.393390Z",
     "shell.execute_reply.started": "2022-04-29T04:48:01.380007Z"
    },
    "tags": []
   },
   "outputs": [
    {
     "name": "stdout",
     "output_type": "stream",
     "text": [
      "sorted data [2, 2, 3, 3, 4, 4, 4, 6, 7, 8, 9]\n",
      "mean:  4.73 median:  4\n"
     ]
    }
   ],
   "source": [
    "data = [9,6,3,2,2,4,3,4,7,8,4]\n",
    "\n",
    "n = len(data)\n",
    "mean = sum(data)/n\n",
    "\n",
    "sdata = sorted(data)                  # sorts list, needed for median\n",
    "\n",
    "if n%2 == 1:                          # '%' is the modulo division operator\n",
    "    median = sdata[int((n+1)/2)]\n",
    "else:\n",
    "    median = (sdata[int(n/2)] + sdata[int(n/2)+1])/2\n",
    "\n",
    "print(\"sorted data\", sdata)\n",
    "print(\"mean: \", round(mean,2), \"median: \",median)"
   ]
  },
  {
   "cell_type": "code",
   "execution_count": 47,
   "id": "fdbcc8e0-b760-433a-8457-247be775a704",
   "metadata": {
    "execution": {
     "iopub.execute_input": "2022-04-29T04:56:30.834638Z",
     "iopub.status.busy": "2022-04-29T04:56:30.834301Z",
     "iopub.status.idle": "2022-04-29T04:56:30.852259Z",
     "shell.execute_reply": "2022-04-29T04:56:30.851238Z",
     "shell.execute_reply.started": "2022-04-29T04:56:30.834596Z"
    },
    "tags": []
   },
   "outputs": [
    {
     "name": "stdout",
     "output_type": "stream",
     "text": [
      "frequency:  {9: 1, 6: 1, 3: 2, 2: 2, 4: 3, 7: 1, 8: 1}\n",
      "modes:  [4]\n"
     ]
    }
   ],
   "source": [
    "# Mode values\n",
    "\n",
    "# 1. Build a dictionary to record frequencies for each value in the data\n",
    "\n",
    "frequency = {}\n",
    "for x in data:\n",
    "    if x not in frequency.keys():       # Not encountered before\n",
    "        frequency[x] = 1\n",
    "    else:\n",
    "        frequency[x] = frequency[x] + 1\n",
    "        \n",
    "print(\"frequency: \",frequency)\n",
    "\n",
    "# 2. Find the keys in the dict with the largest valueb\n",
    "\n",
    "vmax = max(frequency.values())\n",
    "modes = [k for k,v in frequency.items() if v==vmax]\n",
    "\n",
    "print(\"modes: \",modes)"
   ]
  },
  {
   "cell_type": "markdown",
   "id": "287fc5ec-8071-454c-85ff-f32c9164c747",
   "metadata": {},
   "source": [
    "## Measures of spread"
   ]
  }
 ],
 "metadata": {
  "environment": {
   "kernel": "python3",
   "name": "common-cpu.m87",
   "type": "gcloud",
   "uri": "gcr.io/deeplearning-platform-release/base-cpu:m87"
  },
  "kernelspec": {
   "display_name": "Python 3",
   "language": "python",
   "name": "python3"
  },
  "language_info": {
   "codemirror_mode": {
    "name": "ipython",
    "version": 3
   },
   "file_extension": ".py",
   "mimetype": "text/x-python",
   "name": "python",
   "nbconvert_exporter": "python",
   "pygments_lexer": "ipython3",
   "version": "3.7.12"
  }
 },
 "nbformat": 4,
 "nbformat_minor": 5
}
