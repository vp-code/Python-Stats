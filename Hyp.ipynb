{
 "cells": [
  {
   "cell_type": "code",
   "execution_count": 1,
   "metadata": {},
   "outputs": [],
   "source": [
    "import numpy as np\n",
    "from matplotlib import pyplot as plt\n",
    "import pandas as pd\n",
    "from scipy import stats\n",
    "import statsmodels.api as sm\n",
    "\n",
    "import matplotlib\n",
    "matplotlib.use('nbagg')\n",
    "import matplotlib.pyplot as plt"
   ]
  },
  {
   "cell_type": "markdown",
   "metadata": {},
   "source": [
    "**One sample t-test**\n",
    "\n",
    "With a sample of size $n$, mean $\\bar{x}$, standard deviation $s$, and population mean $\\mu$, the test statistic \n",
    "$$\n",
    "t = \\frac{\\bar{x}-\\mu}{s/\\sqrt{n}}\n",
    "$$\n",
    "has the t distribution with $n-1$ degrees of freedom.\n",
    "\n",
    "In hypothesis testing, we normally compute the p-value, which is the probability of occurrence of values more extreme than the computed test statistic. This depends on the form of the alternative hypothesis.\n",
    "$$\n",
    "\\begin{split}\n",
    "H_0 &: \\mu = 0 \\\\\n",
    "H_a &: \\mu \\ne 0 \\\\\n",
    "p &= P[T \\le -|t|] + P[T \\ge |t|] \\hspace{1in}\\text{Two-tailed t test}\\\\\n",
    "\\\\\n",
    "H_0 &: \\mu = 0 \\\\\n",
    "H_a &: \\mu \\lt 0 \\\\\n",
    "p &= P[T \\le -|t|] \\hspace{1in}\\text{Lower-tailed t test}\\\\\n",
    "\\\\\n",
    "H_0 &: \\mu = 0 \\\\\n",
    "H_a &: \\mu \\gt 0 \\\\\n",
    "p &= P[T \\ge |t|] \\hspace{1in}\\text{Upper-tailed t test}\n",
    "\\end{split}\n",
    "$$"
   ]
  },
  {
   "cell_type": "code",
   "execution_count": 25,
   "metadata": {},
   "outputs": [
    {
     "data": {
      "text/plain": [
       "(1.8498368520005377, 0.09737624227318431)"
      ]
     },
     "execution_count": 25,
     "metadata": {},
     "output_type": "execute_result"
    },
    {
     "data": {
      "text/plain": [
       "Ttest_1sampResult(statistic=1.8498368520005373, pvalue=0.09737624227318435)"
      ]
     },
     "execution_count": 25,
     "metadata": {},
     "output_type": "execute_result"
    }
   ],
   "source": [
    "# Demo of scipy.stats one sample t test function\n",
    "\n",
    "np.random.seed(12345)\n",
    "n=10\n",
    "v1 = stats.norm.rvs(size=n)  # Standard normal random variates\n",
    "\n",
    "xbar = np.mean(v1)\n",
    "s = np.std(v1, ddof=1)    # ddof=1 uses (n-1) for the denominator, so gives us sample sd\n",
    "\n",
    "# Default behavior of ttest_1samp:\n",
    "# H0: mu = 0, Ha: mu not equal to zero\n",
    "\n",
    "t =  xbar/ (s/np.sqrt(n))    \n",
    "p = 2*(1-stats.t.cdf(t,n-1)) # Two-sided test, so twice the tail probability. Note that degrees of freedom = n-1\n",
    "t,p\n",
    "stats.ttest_1samp(v1,0)\n"
   ]
  },
  {
   "cell_type": "code",
   "execution_count": 37,
   "metadata": {},
   "outputs": [
    {
     "data": {
      "text/plain": [
       "(125, -2.23606797749979, 0.013567791664809134)"
      ]
     },
     "execution_count": 37,
     "metadata": {},
     "output_type": "execute_result"
    }
   ],
   "source": [
    "mu = 43\n",
    "xbar = 40\n",
    "n = 125\n",
    "s = 15\n",
    "t =  (xbar-mu)/ (s/np.sqrt(n))\n",
    "p = stats.t.cdf(t,n-1)\n",
    "n, t,p"
   ]
  },
  {
   "cell_type": "code",
   "execution_count": 39,
   "metadata": {},
   "outputs": [
    {
     "data": {
      "text/plain": [
       "0.04992258704151217"
      ]
     },
     "execution_count": 39,
     "metadata": {},
     "output_type": "execute_result"
    },
    {
     "data": {
      "text/plain": [
       "-1.6572349701441826"
      ]
     },
     "execution_count": 39,
     "metadata": {},
     "output_type": "execute_result"
    },
    {
     "data": {
      "text/plain": [
       "-1.9728699462074992"
      ]
     },
     "execution_count": 39,
     "metadata": {},
     "output_type": "execute_result"
    }
   ],
   "source": [
    "stats.t.cdf(-1.658,124)\n",
    "stats.t.ppf(0.05,124)    # Percent Point Function (inverse of cdf)\n",
    "\n",
    "stats.t.ppf(0.025,185)"
   ]
  },
  {
   "cell_type": "code",
   "execution_count": 44,
   "metadata": {},
   "outputs": [
    {
     "data": {
      "text/plain": [
       "2.452984716810821"
      ]
     },
     "execution_count": 44,
     "metadata": {},
     "output_type": "execute_result"
    }
   ],
   "source": [
    "(3822396/3)/(96092902/185)"
   ]
  },
  {
   "cell_type": "code",
   "execution_count": 47,
   "metadata": {},
   "outputs": [
    {
     "data": {
      "text/plain": [
       "2.6534284283390934"
      ]
     },
     "execution_count": 47,
     "metadata": {},
     "output_type": "execute_result"
    }
   ],
   "source": [
    "stats.f.ppf(0.95,3,185)"
   ]
  }
 ],
 "metadata": {
  "kernelspec": {
   "display_name": "Python 3",
   "language": "python",
   "name": "python3"
  },
  "language_info": {
   "codemirror_mode": {
    "name": "ipython",
    "version": 3
   },
   "file_extension": ".py",
   "mimetype": "text/x-python",
   "name": "python",
   "nbconvert_exporter": "python",
   "pygments_lexer": "ipython3",
   "version": "3.8.2"
  }
 },
 "nbformat": 4,
 "nbformat_minor": 4
}
