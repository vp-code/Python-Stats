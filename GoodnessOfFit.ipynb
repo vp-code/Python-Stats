{
 "cells": [
  {
   "cell_type": "code",
   "execution_count": 1,
   "metadata": {},
   "outputs": [
    {
     "data": {
      "application/javascript": [
       "MathJax.Hub.Config({\n",
       "    TeX: { equationNumbers: { autoNumber: \"AMS\" } }\n",
       "});\n"
      ],
      "text/plain": [
       "<IPython.core.display.Javascript object>"
      ]
     },
     "metadata": {},
     "output_type": "display_data"
    }
   ],
   "source": [
    "%%javascript\n",
    "MathJax.Hub.Config({\n",
    "    TeX: { equationNumbers: { autoNumber: \"AMS\" } }\n",
    "});"
   ]
  },
  {
   "cell_type": "code",
   "execution_count": 4,
   "metadata": {},
   "outputs": [],
   "source": [
    "import numpy as np\n",
    "from matplotlib import pyplot as plt\n",
    "import pandas as pd\n",
    "from scipy import stats\n",
    "import statsmodels.api as sm\n",
    "import statsmodels.stats as smstats\n",
    "\n",
    "from IPython.core.interactiveshell import InteractiveShell\n",
    "InteractiveShell.ast_node_interactivity = \"all\""
   ]
  },
  {
   "cell_type": "markdown",
   "metadata": {},
   "source": [
    "### Goodness of fit tests"
   ]
  },
  {
   "cell_type": "markdown",
   "metadata": {},
   "source": [
    "The multinomial distribution is a generalization of the binomial distribution. Instead of two outcomes, we consider $k$ outcomes with given individual probabilities $p_i, i=1 \\dots k$, and $n$ trials. We also have $k$ random variables in the vector $\\bf{X}$ which record the number of times each outcome occurs.\n",
    "\n",
    "$$\n",
    "    f(\\mathbf{x};n,\\mathbf{p}) = P [X_1 = x_1 \\dots X_k=x_k]=\\frac{n!}{x_1!  \\dots x_k!} p_1^{x_1} \\dots p_k^{x_k} \\hspace{2cm} \\sum_{i=1}^k x_i = n\n",
    "$$\n",
    "\n",
    "Note that this is a **multivariate and joint** probability mass function for $k$ random variables. \n",
    "\n",
    "This is also the sampling distribution of a sample of size $n$ drawn from a population where individuals have a characteristic with $k$ possible values. Under a null hypothesis that the population proportion vector $\\boldsymbol{\\pi} = \\mathbf{p_0}$, we can, in principle, compute exact p values for a given sample realization $\\mathbf{x}$\n",
    "\n",
    "$$\n",
    "p \\text{ value} = \\sum_{\\mathbf{y} \\in S} f (\\mathbf{y};n,\\mathbf{p_0}) \\quad \\text{where}\\; S = \\{\\mathbf{y}: f(\\mathbf{y};n,\\mathbf{p_0}) \\ge f(\\mathbf{x};n,\\mathbf{p_0})\\}\n",
    "$$\n",
    "\n",
    "The computational method is brute force, but even then can take too long if $n$ and/or $k$ is large. A simple approximate test applicable in the large $n$ limit is the chi-squared goodness of fit test. In this test, given the null hypothesis, we compute the expected counts for each of the $k$ categories and compare them with the observed counts. With $E_j$ and $O_j$ as the expected and observed counts respectively,\n",
    "\n",
    "$$\n",
    "\\sum_{j=1}^k \\frac{(O_j-E_j)^2}{E_j} \\sim \\chi^2_{k-1}\n",
    "$$\n",
    "\n",
    "This test is widely used in the analysis of categorical data."
   ]
  },
  {
   "cell_type": "code",
   "execution_count": 12,
   "metadata": {},
   "outputs": [
    {
     "data": {
      "text/plain": [
       "array([661.5 , 515.97, 145.53])"
      ]
     },
     "execution_count": 12,
     "metadata": {},
     "output_type": "execute_result"
    },
    {
     "data": {
      "text/plain": [
       "array([595.35, 595.35, 132.3 ])"
      ]
     },
     "execution_count": 12,
     "metadata": {},
     "output_type": "execute_result"
    },
    {
     "data": {
      "text/plain": [
       "19.256999999999987"
      ]
     },
     "execution_count": 12,
     "metadata": {},
     "output_type": "execute_result"
    },
    {
     "data": {
      "text/plain": [
       "6.582571437507845e-05"
      ]
     },
     "execution_count": 12,
     "metadata": {},
     "output_type": "execute_result"
    },
    {
     "name": "stdout",
     "output_type": "stream",
     "text": [
      "Null hypothesis rejected\n"
     ]
    }
   ],
   "source": [
    "# https://www.newsweek.com/what-latest-polls-say-about-joe-biden-vs-donald-trump-2020-election-1505533\n",
    "# May 21, 2020\n",
    "# According to a new Quinnipiac University poll, 50 percent of voters said they would vote for Biden \n",
    "# if the election were today, while 39 percent favored Trump. The poll surveyed 1,323 registered voters \n",
    "# from May 14 to 18 and had a margin of error of plus or minus 2.7 percentage points.\n",
    "\n",
    "n = 1323\n",
    "k = 3         # Biden, Trump, undecided\n",
    "ConfLevel = 0.95\n",
    "alpha = 1 - ConfLevel\n",
    "\n",
    "p0 = np.array([0.45,0.45,0.1])     # H0: pi = p0, tie between Biden and Trump\n",
    "\n",
    "Observed = n*np.array([0.50,0.39, 0.11])\n",
    "Expected = n*p0\n",
    "\n",
    "TestStat = np.sum((Observed-Expected)**2/Expected)\n",
    "\n",
    "UpperTailProb = 1-stats.chi2.cdf(TestStat,k-1)\n",
    "\n",
    "Observed\n",
    "Expected\n",
    "TestStat\n",
    "UpperTailProb   # Null hypothesis H0 rejected if UpperTailProb < alpha\n",
    "if UpperTailProb < alpha:\n",
    "    print(\"Null hypothesis rejected\")\n",
    "else:\n",
    "    print(\"Failed to reject null hypothesis\")"
   ]
  }
 ],
 "metadata": {
  "kernelspec": {
   "display_name": "Python 3",
   "language": "python",
   "name": "python3"
  },
  "language_info": {
   "codemirror_mode": {
    "name": "ipython",
    "version": 3
   },
   "file_extension": ".py",
   "mimetype": "text/x-python",
   "name": "python",
   "nbconvert_exporter": "python",
   "pygments_lexer": "ipython3",
   "version": "3.7.3"
  },
  "toc-autonumbering": false
 },
 "nbformat": 4,
 "nbformat_minor": 4
}
