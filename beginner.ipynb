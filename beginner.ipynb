{
 "cells": [
  {
   "cell_type": "markdown",
   "metadata": {},
   "source": [
    "# Basic Python"
   ]
  },
  {
   "cell_type": "code",
   "execution_count": 1,
   "metadata": {
    "scrolled": true
   },
   "outputs": [
    {
     "name": "stdout",
     "output_type": "stream",
     "text": [
      "Hello World!\n",
      "HellO cruel World!\n"
     ]
    }
   ],
   "source": [
    "print(\"Hello World!\") # printing syntax\n",
    "\n",
    "string1 = \"HellO\"\n",
    "string2 = \"cruel World!\"\n",
    "print(string1+' '+string2)     # string concatenation with +\n"
   ]
  },
  {
   "cell_type": "markdown",
   "metadata": {},
   "source": [
    "## Sequences\n",
    "Python currently has three types of sequences: list, tuple, and range"
   ]
  },
  {
   "cell_type": "code",
   "execution_count": 2,
   "metadata": {},
   "outputs": [
    {
     "data": {
      "text/plain": [
       "['cat', 'dog']"
      ]
     },
     "execution_count": 2,
     "metadata": {},
     "output_type": "execute_result"
    },
    {
     "data": {
      "text/plain": [
       "'pet monkey'"
      ]
     },
     "execution_count": 2,
     "metadata": {},
     "output_type": "execute_result"
    },
    {
     "data": {
      "text/plain": [
       "'cat'"
      ]
     },
     "execution_count": 2,
     "metadata": {},
     "output_type": "execute_result"
    },
    {
     "data": {
      "text/plain": [
       "['dog', 'pet monkey', 'llama']"
      ]
     },
     "execution_count": 2,
     "metadata": {},
     "output_type": "execute_result"
    },
    {
     "data": {
      "text/plain": [
       "4"
      ]
     },
     "execution_count": 2,
     "metadata": {},
     "output_type": "execute_result"
    },
    {
     "data": {
      "text/plain": [
       "[1, 2, 3, 4, 5, 6, 'cat', 'dog', 'pet monkey', 'llama']"
      ]
     },
     "execution_count": 2,
     "metadata": {},
     "output_type": "execute_result"
    }
   ],
   "source": [
    "# Lists\n",
    "a = [1,2,3,4,5,6]\n",
    "b = ['cat','dog','pet monkey', 'llama']\n",
    "\n",
    "# Slices: counting begins at 0. a[start:stop] stops at stop-1\n",
    "b[0:2]    # Returns list\n",
    "b[2]      # Returns element\n",
    "b[-4]     # Single negative index returns entries from the end\n",
    "b[-3:]    # Slice starting at -3 all the way to the end\n",
    "\n",
    "len(b)    # length of the object\n",
    "\n",
    "# List concatenation\n",
    "a+b       \n"
   ]
  },
  {
   "cell_type": "code",
   "execution_count": 3,
   "metadata": {},
   "outputs": [
    {
     "name": "stdout",
     "output_type": "stream",
     "text": [
      "(1, 2, 3, 4, 5)\n",
      "(1, 2, 3, 4, 5, 6, 7, 8)\n"
     ]
    },
    {
     "data": {
      "text/plain": [
       "(1, 2, 3, 4)"
      ]
     },
     "execution_count": 3,
     "metadata": {},
     "output_type": "execute_result"
    },
    {
     "data": {
      "text/plain": [
       "5"
      ]
     },
     "execution_count": 3,
     "metadata": {},
     "output_type": "execute_result"
    },
    {
     "data": {
      "text/plain": [
       "(1, 2)"
      ]
     },
     "execution_count": 3,
     "metadata": {},
     "output_type": "execute_result"
    },
    {
     "data": {
      "text/plain": [
       "300000000.0"
      ]
     },
     "execution_count": 3,
     "metadata": {},
     "output_type": "execute_result"
    },
    {
     "data": {
      "text/plain": [
       "6.6e-34"
      ]
     },
     "execution_count": 3,
     "metadata": {},
     "output_type": "execute_result"
    }
   ],
   "source": [
    "# A tuple is an immutable list\n",
    "\n",
    "t = (1,2,3,4,5)\n",
    "print(t)\n",
    "t2 = t + (6,7,8)\n",
    "print(t2)\n",
    "t2[0:4]\n",
    "t2[-4]\n",
    "\n",
    "# Immutability means reassignment fails\n",
    "#t[0] = 5\n",
    "\n",
    "# Tuple assignment can be done without parentheses, but that's ugly\n",
    "a = 1,2    # Ugh!\n",
    "a\n",
    "\n",
    "# Tuples enable multiple assignment\n",
    "(c,h) = (3.0E08,6.6E-34)      # Velocity of light, Planck's constant\n",
    "c\n",
    "h\n"
   ]
  },
  {
   "cell_type": "code",
   "execution_count": 4,
   "metadata": {},
   "outputs": [
    {
     "name": "stdout",
     "output_type": "stream",
     "text": [
      "[0, 1, 2, 3, 4]\n"
     ]
    }
   ],
   "source": [
    "# range(n) is a way of generating successive natural numbers. Useful for iterations.\n",
    "\n",
    "a = list(range(5))  # range function in Python 3 is different from older versions.\n",
    "                    # You have to make it a list by casting it to a list.\n",
    "print(a)"
   ]
  },
  {
   "cell_type": "code",
   "execution_count": 5,
   "metadata": {},
   "outputs": [
    {
     "name": "stdout",
     "output_type": "stream",
     "text": [
      "[0, 1, 2, 3, 4]\n",
      "[1, 2, 3, 4]\n",
      "[1, 3]\n"
     ]
    }
   ],
   "source": [
    "# Different ways of getting a range of numbers: range(start,stop,step). Lone argument defaults to stop.\n",
    "# Python counting starts at 0 and stops at stop-1\n",
    "\n",
    "print(list(range(5)))\n",
    "print(list(range(1,5)))\n",
    "print(list(range(1,5,2)))"
   ]
  },
  {
   "cell_type": "markdown",
   "metadata": {},
   "source": [
    "## Dictionaries"
   ]
  },
  {
   "cell_type": "code",
   "execution_count": 2,
   "metadata": {},
   "outputs": [
    {
     "data": {
      "text/plain": [
       "{'BadLuck': 13, 'e': 2.718281828459045, 'pi': 3.141592653589793}"
      ]
     },
     "execution_count": 2,
     "metadata": {},
     "output_type": "execute_result"
    },
    {
     "data": {
      "text/plain": [
       "{'BadLuck': 13, 'e': 2.718281828459045, 'pi': 3.141592653589793}"
      ]
     },
     "execution_count": 2,
     "metadata": {},
     "output_type": "execute_result"
    },
    {
     "data": {
      "text/plain": [
       "3.141592653589793"
      ]
     },
     "execution_count": 2,
     "metadata": {},
     "output_type": "execute_result"
    },
    {
     "data": {
      "text/plain": [
       "dict_values([3.141592653589793, 2.718281828459045, 13])"
      ]
     },
     "execution_count": 2,
     "metadata": {},
     "output_type": "execute_result"
    },
    {
     "data": {
      "text/plain": [
       "dict_keys(['pi', 'e', 'BadLuck'])"
      ]
     },
     "execution_count": 2,
     "metadata": {},
     "output_type": "execute_result"
    },
    {
     "data": {
      "text/plain": [
       "dict_values([3.141592653589793, 2.718281828459045, 14])"
      ]
     },
     "execution_count": 2,
     "metadata": {},
     "output_type": "execute_result"
    },
    {
     "data": {
      "text/plain": [
       "dict_items([('pi', 3.141592653589793), ('e', 2.718281828459045), ('BadLuck', 14)])"
      ]
     },
     "execution_count": 2,
     "metadata": {},
     "output_type": "execute_result"
    },
    {
     "data": {
      "text/plain": [
       "['pi', 'e', 'BadLuck']"
      ]
     },
     "execution_count": 2,
     "metadata": {},
     "output_type": "execute_result"
    },
    {
     "data": {
      "text/plain": [
       "['BadLuck', 'e', 'pi']"
      ]
     },
     "execution_count": 2,
     "metadata": {},
     "output_type": "execute_result"
    },
    {
     "data": {
      "text/plain": [
       "{2: 4, 3: 6, 4: 8, 5: 10, 6: 12, 7: 14, 8: 16, 9: 18}"
      ]
     },
     "execution_count": 2,
     "metadata": {},
     "output_type": "execute_result"
    },
    {
     "data": {
      "text/plain": [
       "dict"
      ]
     },
     "execution_count": 2,
     "metadata": {},
     "output_type": "execute_result"
    }
   ],
   "source": [
    "# A dictionary is a data structure storing key-value pairs\n",
    "import math\n",
    "\n",
    "d = {'pi':math.pi,'e':math.e,'BadLuck':13}  # Initialization. \n",
    "d2 = dict(pi=math.pi,e=math.e, BadLuck=13)  # Can use '=' instead of ':' if using the dict() constructor\n",
    "d \n",
    "d2\n",
    "\n",
    "d['pi']  # Access the value using a key\n",
    "d['BadLuck'] = 14   # Can assign values using keys\n",
    "\n",
    "\n",
    "d.keys()            # Gets keys\n",
    "d.values()          # ... values\n",
    "d.items()           # ... both\n",
    "                    # These objects can be cast to list by using list(.)\n",
    "\n",
    "list(d)             # Shortcut to list of keys\n",
    "sorted(d)           # Keys in sorted order\n",
    "\n",
    "# Dict comprehension\n",
    "x = {x: 2*x for x in range(10) if x**2 > 3}\n",
    "x\n",
    "type(x)\n"
   ]
  },
  {
   "cell_type": "markdown",
   "metadata": {},
   "source": [
    "## Sets\n",
    "\n",
    "A set is an unordered collection of unique objects"
   ]
  },
  {
   "cell_type": "code",
   "execution_count": 12,
   "metadata": {},
   "outputs": [
    {
     "data": {
      "text/plain": [
       "{'a', 'b', 'c', 'd', 'x'}"
      ]
     },
     "execution_count": 12,
     "metadata": {},
     "output_type": "execute_result"
    },
    {
     "data": {
      "text/plain": [
       "{1, 17, 2, 3, 4, 5, 'a', 'b', 'c', 'd', 'x'}"
      ]
     },
     "execution_count": 12,
     "metadata": {},
     "output_type": "execute_result"
    },
    {
     "data": {
      "text/plain": [
       "set()"
      ]
     },
     "execution_count": 12,
     "metadata": {},
     "output_type": "execute_result"
    }
   ],
   "source": [
    "s = {'a','d','b','b','x','c'}\n",
    "s\n",
    "\n",
    "s2 = {1,1,2,3,17,4,5}\n",
    "\n",
    "s | s2     # Union\n",
    "s & s2     # Intersection\n"
   ]
  },
  {
   "cell_type": "markdown",
   "metadata": {},
   "source": [
    "## Comprehension\n",
    "\n",
    "Comprehension is a programming language concept based on set-builder notation.\n",
    "Best explanation comes from Wikipedia: https://en.wikipedia.org/wiki/List_comprehension\n",
    "\n",
    "Example:\n",
    "\n",
    "$ S = \\{2\\cdot x\\mid x\\in \\mathbb {N} ,\\ x^2>3\\}$\n",
    "\n",
    "Read as \"$S$ is the set of all numbers \"2 times $x$\" where  $x$ is an item in the set of natural numbers $\\mathbb{N}$, for which $x$ squared is greater than 3.\"\n",
    "\n",
    "Annotated:\n",
    "\n",
    "$ S=\\{ \\underbrace {2\\cdot x}_{\\text{output expression}} \\mid \\underbrace {x}_{\\text{variable}}\\in \\underbrace {\\mathbb{N}}_{\\text{input set}},\n",
    "\\underbrace {x^2>3}_{\\text{predicate}} \\}$"
   ]
  },
  {
   "cell_type": "code",
   "execution_count": 41,
   "metadata": {},
   "outputs": [
    {
     "name": "stdout",
     "output_type": "stream",
     "text": [
      "[0, 1, 2, 3, 4, 5, 6, 7, 8, 9]\n",
      "[4, 6, 8, 10, 12, 14, 16, 18]\n"
     ]
    },
    {
     "data": {
      "text/plain": [
       "{'ask', 'not'}"
      ]
     },
     "execution_count": 41,
     "metadata": {},
     "output_type": "execute_result"
    },
    {
     "data": {
      "text/plain": [
       "{2: 4, 3: 6, 4: 8, 5: 10, 6: 12, 7: 14, 8: 16, 9: 18}"
      ]
     },
     "execution_count": 41,
     "metadata": {},
     "output_type": "execute_result"
    },
    {
     "data": {
      "text/plain": [
       "(4, 6, 8, 10, 12, 14, 16, 18)"
      ]
     },
     "execution_count": 41,
     "metadata": {},
     "output_type": "execute_result"
    },
    {
     "data": {
      "text/plain": [
       "<generator object <genexpr> at 0x7913cc1493b8>"
      ]
     },
     "execution_count": 41,
     "metadata": {},
     "output_type": "execute_result"
    }
   ],
   "source": [
    "# List comprehension\n",
    "\n",
    "l = [2*x for x in range(10) if x**2 > 3]\n",
    "\n",
    "print(list(range(10))) # [0, 1, 2, 3, 4, 5, 6, 7, 8, 9]\n",
    "print(l)               # First two elements of list(range(10)) don't satisfy the predicate\n",
    "\n",
    "# Works for sets \n",
    "\n",
    "s = { x for x in {'ask', 'not', 'what', 'your'} if len(x)==3}\n",
    "s\n",
    "\n",
    "# And dicts\n",
    "x = {x: 2*x for x in range(10) if x**2 > 3}\n",
    "x\n",
    "\n",
    "# For tuples, casting is required\n",
    "t = tuple(2*x for x in range(10) if x**2 > 3)\n",
    "t\n",
    "\n",
    "# Without casting for tuples, the result is a generator (iterator evaluated only when required)\n",
    "t = (2*x for x in range(10) if x**2 > 3)\n",
    "t"
   ]
  },
  {
   "cell_type": "markdown",
   "metadata": {},
   "source": [
    "## Looping constructs"
   ]
  },
  {
   "cell_type": "code",
   "execution_count": 15,
   "metadata": {},
   "outputs": [
    {
     "name": "stdout",
     "output_type": "stream",
     "text": [
      "for loop\n",
      "0\n",
      "1\n",
      "2\n",
      "3\n",
      "4\n",
      "while loop\n",
      "4\n",
      "5\n",
      "Looping through dict\n",
      "BadLuck 14\n",
      "e 2.718281828459045\n",
      "pi 3.141592653589793\n",
      "\n",
      "\n",
      "Using enumerate\n",
      "0 red\n",
      "1 blue\n",
      "2 green\n"
     ]
    }
   ],
   "source": [
    "# Several objects can serve as 'iterables'\n",
    "# See https://docs.python.org/3/glossary.html#term-iterable for details\n",
    "\n",
    "# for loop\n",
    "print(\"for loop\")\n",
    "for i in range(5):\n",
    "    print(i)\n",
    "    \n",
    "# while loop\n",
    "print(\"while loop\")\n",
    "i = 4\n",
    "while i <= 5:\n",
    "    print(i)\n",
    "    i += 1\n",
    "    \n",
    "# Looping syntax  for dicts\n",
    "print(\"Looping through dict\")\n",
    "for k,v in d.items():\n",
    "    print (k,v)\n",
    "    \n",
    "    \n",
    "# Looping over a list with implicit indexing   \n",
    "print(\"Using enumerate\")\n",
    "for (i,v) in enumerate(['red','blue','green']):\n",
    "    print(i,v)\n",
    "    \n",
    "    "
   ]
  },
  {
   "cell_type": "code",
   "execution_count": 18,
   "metadata": {},
   "outputs": [
    {
     "name": "stdout",
     "output_type": "stream",
     "text": [
      "Using break statement\n",
      "0\n",
      "1\n",
      "2\n",
      "Using continue statement\n",
      "0\n",
      "1\n",
      "2\n",
      "4\n"
     ]
    }
   ],
   "source": [
    "# break and continue\n",
    "\n",
    "print(\"Using break statement\")\n",
    "for i in range(5):\n",
    "    if (i==3):\n",
    "        break          # breaks out of innermost for or while loop\n",
    "    else: \n",
    "        print(i)\n",
    "        \n",
    "print(\"Using continue statement\")\n",
    "for i in range(5):\n",
    "    if (i==3):\n",
    "        continue       # continues with the next iteration\n",
    "    else:\n",
    "        print(i)\n",
    "          "
   ]
  },
  {
   "cell_type": "markdown",
   "metadata": {},
   "source": [
    "## Functions"
   ]
  },
  {
   "cell_type": "code",
   "execution_count": 29,
   "metadata": {},
   "outputs": [
    {
     "data": {
      "text/plain": [
       "10.313000000000017"
      ]
     },
     "execution_count": 29,
     "metadata": {},
     "output_type": "execute_result"
    },
    {
     "data": {
      "text/plain": [
       "10.313000000000017"
      ]
     },
     "execution_count": 29,
     "metadata": {},
     "output_type": "execute_result"
    },
    {
     "data": {
      "text/plain": [
       "[5.000000000000004, 7.100000000000017, 10.313000000000017]"
      ]
     },
     "execution_count": 29,
     "metadata": {},
     "output_type": "execute_result"
    }
   ],
   "source": [
    "def cumret(returns):\n",
    "    \"\"\"Computes cumulative return for a sequence of returns\"\"\"\n",
    "    product = 1\n",
    "    for r in returns:               # You can iterate over a list. No need for looping variable.    \n",
    "        product = product * (1+r)\n",
    "        \n",
    "    return(product-1)\n",
    "\n",
    "100*cumret([x/100 for x in (5,2,3)])   # Result in percentage terms for readability\n",
    "100*((1.05*1.02*1.03)-1)\n",
    "\n",
    "# There's a lot more to be said for functions. Look up Python documentation for details\n",
    "\n",
    "# Running cumulative returns (used for plotting)\n",
    "\n",
    "x = [x/100 for x in (5,2,3)]\n",
    "RCret = [100*cumret(x[0:(i+1)]) for (i,r) in enumerate(x)]     \n",
    "                                         # Slices have to be 0:(i+1) due to Python convention.\n",
    "RCret\n"
   ]
  },
  {
   "cell_type": "markdown",
   "metadata": {},
   "source": [
    "## Reading files"
   ]
  },
  {
   "cell_type": "code",
   "execution_count": 30,
   "metadata": {},
   "outputs": [],
   "source": [
    "# Read a csv file line by line\n",
    "with open(\"/home/vpoduri/RProjects/Test/WB_Macro_indicators.csv\",mode=\"r\") as f:   \n",
    "                                                 # Provides a file object\n",
    "    for line in f:                               # file object is iterable\n",
    "        # print(line.split(',')[0])              # line.split(',') splits line, returns list\n",
    "        # Do other processing\n",
    "        fields = line.split(',')\n",
    "        \n",
    "        "
   ]
  },
  {
   "cell_type": "code",
   "execution_count": 9,
   "metadata": {
    "collapsed": true
   },
   "outputs": [
    {
     "data": {
      "text/html": [
       "<div>\n",
       "<table border=\"1\" class=\"dataframe\">\n",
       "  <thead>\n",
       "    <tr style=\"text-align: right;\">\n",
       "      <th></th>\n",
       "      <th>Country Name</th>\n",
       "      <th>Country Code</th>\n",
       "      <th>Series Name</th>\n",
       "      <th>Series Code</th>\n",
       "      <th>1960 [YR1960]</th>\n",
       "      <th>1961 [YR1961]</th>\n",
       "      <th>1962 [YR1962]</th>\n",
       "      <th>1963 [YR1963]</th>\n",
       "      <th>1964 [YR1964]</th>\n",
       "      <th>1965 [YR1965]</th>\n",
       "      <th>...</th>\n",
       "      <th>2008 [YR2008]</th>\n",
       "      <th>2009 [YR2009]</th>\n",
       "      <th>2010 [YR2010]</th>\n",
       "      <th>2011 [YR2011]</th>\n",
       "      <th>2012 [YR2012]</th>\n",
       "      <th>2013 [YR2013]</th>\n",
       "      <th>2014 [YR2014]</th>\n",
       "      <th>2015 [YR2015]</th>\n",
       "      <th>2016 [YR2016]</th>\n",
       "      <th>2017 [YR2017]</th>\n",
       "    </tr>\n",
       "  </thead>\n",
       "  <tbody>\n",
       "    <tr>\n",
       "      <th>0</th>\n",
       "      <td>India</td>\n",
       "      <td>IND</td>\n",
       "      <td>Population, total</td>\n",
       "      <td>SP.POP.TOTL</td>\n",
       "      <td>449480608.0</td>\n",
       "      <td>4.584950e+08</td>\n",
       "      <td>4.678525e+08</td>\n",
       "      <td>4.775280e+08</td>\n",
       "      <td>4.874845e+08</td>\n",
       "      <td>4.977024e+08</td>\n",
       "      <td>...</td>\n",
       "      <td>1.197147e+09</td>\n",
       "      <td>1.214270e+09</td>\n",
       "      <td>1.230981e+09</td>\n",
       "      <td>1.247236e+09</td>\n",
       "      <td>1.263066e+09</td>\n",
       "      <td>1.278562e+09</td>\n",
       "      <td>1.293859e+09</td>\n",
       "      <td>1.309054e+09</td>\n",
       "      <td>1.324171e+09</td>\n",
       "      <td>1.339180e+09</td>\n",
       "    </tr>\n",
       "    <tr>\n",
       "      <th>1</th>\n",
       "      <td>India</td>\n",
       "      <td>IND</td>\n",
       "      <td>Land area (sq. km)</td>\n",
       "      <td>AG.LND.TOTL.K2</td>\n",
       "      <td>NaN</td>\n",
       "      <td>2.973190e+06</td>\n",
       "      <td>2.973190e+06</td>\n",
       "      <td>2.973190e+06</td>\n",
       "      <td>2.973190e+06</td>\n",
       "      <td>2.973190e+06</td>\n",
       "      <td>...</td>\n",
       "      <td>2.973190e+06</td>\n",
       "      <td>2.973190e+06</td>\n",
       "      <td>2.973190e+06</td>\n",
       "      <td>2.973190e+06</td>\n",
       "      <td>2.973190e+06</td>\n",
       "      <td>2.973190e+06</td>\n",
       "      <td>2.973190e+06</td>\n",
       "      <td>2.973190e+06</td>\n",
       "      <td>2.973190e+06</td>\n",
       "      <td>2.973190e+06</td>\n",
       "    </tr>\n",
       "    <tr>\n",
       "      <th>2</th>\n",
       "      <td>India</td>\n",
       "      <td>IND</td>\n",
       "      <td>Arable land (% of land area)</td>\n",
       "      <td>AG.LND.ARBL.ZS</td>\n",
       "      <td>NaN</td>\n",
       "      <td>5.240365e+01</td>\n",
       "      <td>5.270433e+01</td>\n",
       "      <td>5.296332e+01</td>\n",
       "      <td>5.305144e+01</td>\n",
       "      <td>5.321422e+01</td>\n",
       "      <td>...</td>\n",
       "      <td>5.313989e+01</td>\n",
       "      <td>5.311601e+01</td>\n",
       "      <td>5.280826e+01</td>\n",
       "      <td>5.279817e+01</td>\n",
       "      <td>5.265254e+01</td>\n",
       "      <td>5.261756e+01</td>\n",
       "      <td>5.262462e+01</td>\n",
       "      <td>5.262462e+01</td>\n",
       "      <td>5.262462e+01</td>\n",
       "      <td>NaN</td>\n",
       "    </tr>\n",
       "    <tr>\n",
       "      <th>3</th>\n",
       "      <td>India</td>\n",
       "      <td>IND</td>\n",
       "      <td>GNI per capita, Atlas method (current US$)</td>\n",
       "      <td>NY.GNP.PCAP.CD</td>\n",
       "      <td>NaN</td>\n",
       "      <td>NaN</td>\n",
       "      <td>9.000000e+01</td>\n",
       "      <td>9.000000e+01</td>\n",
       "      <td>1.100000e+02</td>\n",
       "      <td>1.100000e+02</td>\n",
       "      <td>...</td>\n",
       "      <td>1.000000e+03</td>\n",
       "      <td>1.110000e+03</td>\n",
       "      <td>1.220000e+03</td>\n",
       "      <td>1.380000e+03</td>\n",
       "      <td>1.480000e+03</td>\n",
       "      <td>1.520000e+03</td>\n",
       "      <td>1.560000e+03</td>\n",
       "      <td>1.600000e+03</td>\n",
       "      <td>1.680000e+03</td>\n",
       "      <td>1.800000e+03</td>\n",
       "    </tr>\n",
       "    <tr>\n",
       "      <th>4</th>\n",
       "      <td>India</td>\n",
       "      <td>IND</td>\n",
       "      <td>GNI, Atlas method (current US$)</td>\n",
       "      <td>NY.GNP.ATLS.CD</td>\n",
       "      <td>NaN</td>\n",
       "      <td>NaN</td>\n",
       "      <td>4.062168e+10</td>\n",
       "      <td>4.511622e+10</td>\n",
       "      <td>5.183221e+10</td>\n",
       "      <td>5.510842e+10</td>\n",
       "      <td>...</td>\n",
       "      <td>1.191623e+12</td>\n",
       "      <td>1.350266e+12</td>\n",
       "      <td>1.507911e+12</td>\n",
       "      <td>1.715266e+12</td>\n",
       "      <td>1.872096e+12</td>\n",
       "      <td>1.941116e+12</td>\n",
       "      <td>2.020999e+12</td>\n",
       "      <td>2.099220e+12</td>\n",
       "      <td>2.224660e+12</td>\n",
       "      <td>2.405744e+12</td>\n",
       "    </tr>\n",
       "  </tbody>\n",
       "</table>\n",
       "<p>5 rows × 62 columns</p>\n",
       "</div>"
      ],
      "text/plain": [
       "  Country Name Country Code                                 Series Name  \\\n",
       "0        India          IND                           Population, total   \n",
       "1        India          IND                          Land area (sq. km)   \n",
       "2        India          IND                Arable land (% of land area)   \n",
       "3        India          IND  GNI per capita, Atlas method (current US$)   \n",
       "4        India          IND             GNI, Atlas method (current US$)   \n",
       "\n",
       "      Series Code  1960 [YR1960]  1961 [YR1961]  1962 [YR1962]  1963 [YR1963]  \\\n",
       "0     SP.POP.TOTL    449480608.0   4.584950e+08   4.678525e+08   4.775280e+08   \n",
       "1  AG.LND.TOTL.K2            NaN   2.973190e+06   2.973190e+06   2.973190e+06   \n",
       "2  AG.LND.ARBL.ZS            NaN   5.240365e+01   5.270433e+01   5.296332e+01   \n",
       "3  NY.GNP.PCAP.CD            NaN            NaN   9.000000e+01   9.000000e+01   \n",
       "4  NY.GNP.ATLS.CD            NaN            NaN   4.062168e+10   4.511622e+10   \n",
       "\n",
       "   1964 [YR1964]  1965 [YR1965]      ...        2008 [YR2008]  2009 [YR2009]  \\\n",
       "0   4.874845e+08   4.977024e+08      ...         1.197147e+09   1.214270e+09   \n",
       "1   2.973190e+06   2.973190e+06      ...         2.973190e+06   2.973190e+06   \n",
       "2   5.305144e+01   5.321422e+01      ...         5.313989e+01   5.311601e+01   \n",
       "3   1.100000e+02   1.100000e+02      ...         1.000000e+03   1.110000e+03   \n",
       "4   5.183221e+10   5.510842e+10      ...         1.191623e+12   1.350266e+12   \n",
       "\n",
       "   2010 [YR2010]  2011 [YR2011]  2012 [YR2012]  2013 [YR2013]  2014 [YR2014]  \\\n",
       "0   1.230981e+09   1.247236e+09   1.263066e+09   1.278562e+09   1.293859e+09   \n",
       "1   2.973190e+06   2.973190e+06   2.973190e+06   2.973190e+06   2.973190e+06   \n",
       "2   5.280826e+01   5.279817e+01   5.265254e+01   5.261756e+01   5.262462e+01   \n",
       "3   1.220000e+03   1.380000e+03   1.480000e+03   1.520000e+03   1.560000e+03   \n",
       "4   1.507911e+12   1.715266e+12   1.872096e+12   1.941116e+12   2.020999e+12   \n",
       "\n",
       "   2015 [YR2015]  2016 [YR2016]  2017 [YR2017]  \n",
       "0   1.309054e+09   1.324171e+09   1.339180e+09  \n",
       "1   2.973190e+06   2.973190e+06   2.973190e+06  \n",
       "2   5.262462e+01   5.262462e+01            NaN  \n",
       "3   1.600000e+03   1.680000e+03   1.800000e+03  \n",
       "4   2.099220e+12   2.224660e+12   2.405744e+12  \n",
       "\n",
       "[5 rows x 62 columns]"
      ]
     },
     "execution_count": 9,
     "metadata": {},
     "output_type": "execute_result"
    },
    {
     "data": {
      "text/html": [
       "<div>\n",
       "<table border=\"1\" class=\"dataframe\">\n",
       "  <thead>\n",
       "    <tr style=\"text-align: right;\">\n",
       "      <th></th>\n",
       "      <th>Country Code</th>\n",
       "      <th>Series Name</th>\n",
       "      <th>Series Code</th>\n",
       "    </tr>\n",
       "  </thead>\n",
       "  <tbody>\n",
       "    <tr>\n",
       "      <th>1</th>\n",
       "      <td>IND</td>\n",
       "      <td>Land area (sq. km)</td>\n",
       "      <td>AG.LND.TOTL.K2</td>\n",
       "    </tr>\n",
       "    <tr>\n",
       "      <th>2</th>\n",
       "      <td>IND</td>\n",
       "      <td>Arable land (% of land area)</td>\n",
       "      <td>AG.LND.ARBL.ZS</td>\n",
       "    </tr>\n",
       "    <tr>\n",
       "      <th>3</th>\n",
       "      <td>IND</td>\n",
       "      <td>GNI per capita, Atlas method (current US$)</td>\n",
       "      <td>NY.GNP.PCAP.CD</td>\n",
       "    </tr>\n",
       "    <tr>\n",
       "      <th>4</th>\n",
       "      <td>IND</td>\n",
       "      <td>GNI, Atlas method (current US$)</td>\n",
       "      <td>NY.GNP.ATLS.CD</td>\n",
       "    </tr>\n",
       "  </tbody>\n",
       "</table>\n",
       "</div>"
      ],
      "text/plain": [
       "  Country Code                                 Series Name     Series Code\n",
       "1          IND                          Land area (sq. km)  AG.LND.TOTL.K2\n",
       "2          IND                Arable land (% of land area)  AG.LND.ARBL.ZS\n",
       "3          IND  GNI per capita, Atlas method (current US$)  NY.GNP.PCAP.CD\n",
       "4          IND             GNI, Atlas method (current US$)  NY.GNP.ATLS.CD"
      ]
     },
     "execution_count": 9,
     "metadata": {},
     "output_type": "execute_result"
    }
   ],
   "source": [
    "import numpy as np\n",
    "import pandas as pd\n",
    "\n",
    "d1 = pd.read_csv(\"~/RProjects/Test/WB_Macro_indicators.csv\")\n",
    "d1.head(5)\n",
    "d1.iloc[1:5,1:4]     # Rows 1:5, columns 1 to 4. Use .loc for indexing by column names"
   ]
  },
  {
   "cell_type": "markdown",
   "metadata": {},
   "source": [
    "## Plotting"
   ]
  },
  {
   "cell_type": "code",
   "execution_count": 80,
   "metadata": {},
   "outputs": [
    {
     "data": {
      "text/plain": [
       "[<matplotlib.lines.Line2D at 0x7913aa7b8630>]"
      ]
     },
     "execution_count": 80,
     "metadata": {},
     "output_type": "execute_result"
    },
    {
     "data": {
      "image/png": "[encoded data removed]",
      "text/plain": [
       "<matplotlib.figure.Figure at 0x7913abf9ebe0>"
      ]
     },
     "metadata": {
      "needs_background": "light"
     },
     "output_type": "display_data"
    }
   ],
   "source": [
    "import numpy as np\n",
    "import matplotlib.pyplot as plt\n",
    "\n",
    "plt.plot([1,2,3,4],[1,4,9,16])\n",
    "plt.show()"
   ]
  },
  {
   "cell_type": "code",
   "execution_count": 7,
   "metadata": {},
   "outputs": [],
   "source": [
    "import matplotlib"
   ]
  },
  {
   "cell_type": "code",
   "execution_count": 8,
   "metadata": {},
   "outputs": [
    {
     "name": "stdout",
     "output_type": "stream",
     "text": [
      "3.0.3\n",
      "module://ipykernel.pylab.backend_inline\n"
     ]
    }
   ],
   "source": [
    "print(matplotlib.__version__)\n",
    "print(matplotlib.get_backend())"
   ]
  }
 ],
 "metadata": {
  "kernelspec": {
   "display_name": "Python 3",
   "language": "python",
   "name": "python3"
  },
  "language_info": {
   "codemirror_mode": {
    "name": "ipython",
    "version": 3
   },
   "file_extension": ".py",
   "mimetype": "text/x-python",
   "name": "python",
   "nbconvert_exporter": "python",
   "pygments_lexer": "ipython3",
   "version": "3.5.3"
  },
  "latex_envs": {
   "LaTeX_envs_menu_present": true,
   "autoclose": false,
   "autocomplete": true,
   "bibliofile": "biblio.bib",
   "cite_by": "apalike",
   "current_citInitial": 1,
   "eqLabelWithNumbers": true,
   "eqNumInitial": 1,
   "hotkeys": {
    "equation": "Ctrl-E",
    "itemize": "Ctrl-I"
   },
   "labels_anchors": false,
   "latex_user_defs": false,
   "report_style_numbering": false,
   "user_envs_cfg": false
  },
  "toc": {
   "base_numbering": 1,
   "nav_menu": {},
   "number_sections": true,
   "sideBar": true,
   "skip_h1_title": false,
   "title_cell": "Table of Contents",
   "title_sidebar": "Contents",
   "toc_cell": false,
   "toc_position": {},
   "toc_section_display": true,
   "toc_window_display": true
  }
 },
 "nbformat": 4,
 "nbformat_minor": 2
}
