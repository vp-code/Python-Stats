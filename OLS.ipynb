{
 "cells": [
  {
   "cell_type": "code",
   "execution_count": 1,
   "metadata": {},
   "outputs": [
    {
     "data": {
      "application/javascript": [
       "MathJax.Hub.Config({\n",
       "    TeX: { equationNumbers: { autoNumber: \"AMS\" } }\n",
       "});\n"
      ],
      "text/plain": [
       "<IPython.core.display.Javascript object>"
      ]
     },
     "metadata": {},
     "output_type": "display_data"
    }
   ],
   "source": [
    "%%javascript\n",
    "MathJax.Hub.Config({\n",
    "    TeX: { equationNumbers: { autoNumber: \"AMS\" } }\n",
    "});"
   ]
  },
  {
   "cell_type": "code",
   "execution_count": 2,
   "metadata": {},
   "outputs": [],
   "source": [
    "# Run for interactive plots with jupyter lab\n",
    "%matplotlib widget          \n",
    "\n",
    "import numpy as np\n",
    "from matplotlib import pyplot as plt\n",
    "import pandas as pd\n",
    "from scipy import stats\n",
    "import statsmodels.api as sm\n",
    "\n",
    "import matplotlib\n",
    "# matplotlib.use('nbagg')    # Doesn't work with jupyter lab\n",
    "import matplotlib.pyplot as plt"
   ]
  },
  {
   "cell_type": "markdown",
   "metadata": {},
   "source": [
    "## Ordinary Least Squares"
   ]
  },
  {
   "cell_type": "code",
   "execution_count": 3,
   "metadata": {},
   "outputs": [
    {
     "data": {
      "text/plain": [
       "DescribeResult(nobs=30, minmax=(0.04995345894608716, 0.9648400471483856), mean=0.5558004906644833, variance=0.0770657116798012, skewness=-0.23634961375889468, kurtosis=-1.0681272762337057)"
      ]
     },
     "execution_count": 3,
     "metadata": {},
     "output_type": "execute_result"
    },
    {
     "name": "stdout",
     "output_type": "stream",
     "text": [
      "                            OLS Regression Results                            \n",
      "==============================================================================\n",
      "Dep. Variable:                      y   R-squared:                       0.182\n",
      "Model:                            OLS   Adj. R-squared:                  0.121\n",
      "Method:                 Least Squares   F-statistic:                     3.002\n",
      "Date:                Fri, 15 May 2020   Prob (F-statistic):             0.0665\n",
      "Time:                        19:47:14   Log-Likelihood:                -3.4473\n",
      "No. Observations:                  30   AIC:                             12.89\n",
      "Df Residuals:                      27   BIC:                             17.10\n",
      "Df Model:                           2                                         \n",
      "Covariance Type:            nonrobust                                         \n",
      "==============================================================================\n",
      "                 coef    std err          t      P>|t|      [0.025      0.975]\n",
      "------------------------------------------------------------------------------\n",
      "const          0.5371      0.120      4.490      0.000       0.292       0.783\n",
      "x1             0.2963      0.177      1.674      0.106      -0.067       0.659\n",
      "x2             0.2649      0.192      1.379      0.179      -0.129       0.659\n",
      "==============================================================================\n",
      "Omnibus:                        4.062   Durbin-Watson:                   2.074\n",
      "Prob(Omnibus):                  0.131   Jarque-Bera (JB):                1.944\n",
      "Skew:                          -0.310   Prob(JB):                        0.378\n",
      "Kurtosis:                       1.918   Cond. No.                         4.94\n",
      "==============================================================================\n",
      "\n",
      "Warnings:\n",
      "[1] Standard Errors assume that the covariance matrix of the errors is correctly specified.\n"
     ]
    }
   ],
   "source": [
    "# Creating artificial data for regression\n",
    "\n",
    "np.random.seed(1)       # For reproducibility\n",
    "X = np.random.random((30,2))\n",
    "b = [0.2,0.3]\n",
    "e = np.random.random(30)\n",
    "\n",
    "y = np.dot(X,b) + e\n",
    "\n",
    "stats.describe(e)\n",
    "# Running the regression\n",
    "\n",
    "X = sm.add_constant(X)        # Adding an intercept to the regression\n",
    "\n",
    "m1 = sm.OLS(y,X).fit()\n",
    "print(m1.summary())"
   ]
  },
  {
   "cell_type": "code",
   "execution_count": 11,
   "metadata": {},
   "outputs": [
    {
     "data": {
      "text/plain": [
       "(2.7018948326204675, 0.4915620365070974, 2.21033279611337, 2.7018948326204675)"
      ]
     },
     "execution_count": 11,
     "metadata": {},
     "output_type": "execute_result"
    },
    {
     "data": {
      "text/plain": [
       "(0.18193233525316366, 0.18193233525316366)"
      ]
     },
     "execution_count": 11,
     "metadata": {},
     "output_type": "execute_result"
    },
    {
     "data": {
      "text/plain": [
       "(3.0023024155071365, 3.0023024155071365)"
      ]
     },
     "execution_count": 11,
     "metadata": {},
     "output_type": "execute_result"
    }
   ],
   "source": [
    "# Sums of squares, R^2, F stat for overall model fit\n",
    "# SSTotal = SSReg + SSError ;   R^2 = SSReg/SSTotal ; F = (SSReg/df_reg)/(SSError/df_resid) \n",
    "\n",
    "# For the sums of squares statsmodels uses  the terms\n",
    "# centered_tss = ess + ssr\n",
    "\n",
    "m1.centered_tss,m1.ess, m1.ssr, m1.ess+m1.ssr   \n",
    "\n",
    "# Confirm rsquared calculation\n",
    "\n",
    "r2 = m1.ess/m1.centered_tss\n",
    "r2,m1.rsquared              \n",
    "\n",
    "# m1.df_model and m1.df_resid give us the degrees of freedom in case we need them\n",
    "\n",
    "# Confirm F statistic calculation\n",
    "\n",
    "m1.mse_model/m1.mse_resid, m1.fvalue    "
   ]
  },
  {
   "cell_type": "code",
   "execution_count": 12,
   "metadata": {},
   "outputs": [
    {
     "data": {
      "application/vnd.jupyter.widget-view+json": {
       "model_id": "dda49dc3b3ff40798aea332bfa9554cf",
       "version_major": 2,
       "version_minor": 0
      },
      "text/plain": [
       "Canvas(toolbar=Toolbar(toolitems=[('Home', 'Reset original view', 'home', 'home'), ('Back', 'Back to previous …"
      ]
     },
     "metadata": {},
     "output_type": "display_data"
    }
   ],
   "source": [
    "# Residual plots\n",
    "\n",
    "fig = plt.figure()\n",
    "ax = fig.add_subplot(111,title=\"Residual plot\",ylabel=r\"$e_i$\",xlabel=r\"$\\haty$\")\n",
    "\n",
    "y = m1.resid\n",
    "x = m1.predict()\n",
    "_=plt.scatter(x,y)\n"
   ]
  },
  {
   "cell_type": "code",
   "execution_count": null,
   "metadata": {},
   "outputs": [],
   "source": [
    "help(sm.OLS.fit)\n",
    "help(sm.regression.linear_model.RegressionResults)"
   ]
  },
  {
   "cell_type": "code",
   "execution_count": null,
   "metadata": {},
   "outputs": [],
   "source": [
    "# ANOVA\n",
    "# Need to use a different api to make the anova call\n",
    "\n",
    "import statsmodels.formula.api as smf\n",
    "\n",
    "y2 = np.reshape(y,(np.size(y),1))                   # Convert np vector to np array\n",
    "X2 = X[:,1:3]                                       # Drop column of ones (column 0)\n",
    "y2X = np.concatenate((y2,X2),axis=1)                # Stack the columns horizontally\n",
    "df = pd.DataFrame(y2X,columns=['y','x1','x2'])      # Create a data frame\n",
    "\n",
    "Reg1 = smf.ols(formula='y ~ x1 + x2', data=df)\n",
    "fit1 = Reg1.fit()\n",
    "fit1.summary()\n",
    "sm.stats.anova_lm(fit1,typ=2)         # two-way ANOVA table"
   ]
  },
  {
   "cell_type": "code",
   "execution_count": null,
   "metadata": {},
   "outputs": [],
   "source": [
    "ms1 = 0.335897         # Drop x1 from regression\n",
    "ms2 = 0.155665\n",
    "mse = 0.081864\n",
    "ms1/mse, ms2/mse,((ms1+ms2)/2)/mse"
   ]
  },
  {
   "cell_type": "markdown",
   "metadata": {},
   "source": [
    "**The F statistic in multiple regression**\n",
    "\n",
    "The regression has $n$ observations, $k$ predictors, and includes an intercept. The F statistic is\n",
    "$$\n",
    "F = \\frac{\\frac{SSR}{k}}{\\frac{SSE}{[n-k-1]}} = \\frac{MSR}{MSE}\n",
    "$$\n",
    "\n",
    "where $SSR$ is the regression sum of squares, $SSE$ is the sum of squared errors, and $MSR$ and $MSE$ are their means respectively.\n",
    "\n",
    "Since $R^2 = \\frac{SSR}{SST}$,\n",
    "$$\n",
    "\\begin{split}\n",
    "F &= \\frac{SSR}{SSE} \\frac{[n-k-1]}{k}\\\\\n",
    "  & = \\frac{R^2}{1-R^2}\\frac{[n-k-1]}{k}\n",
    "\\end{split}\n",
    "$$\n",
    "\n",
    "**The Omnibus Test**\n",
    "\n",
    "This test is for the normality of the distribution of residuals. [See this].(http://work.thaslwanter.at/Stats/html/statsModels.html)\n",
    "\n"
   ]
  },
  {
   "cell_type": "code",
   "execution_count": 13,
   "metadata": {},
   "outputs": [
    {
     "data": {
      "text/plain": [
       "NormaltestResult(statistic=4.062075177125114, pvalue=0.13119931958670275)"
      ]
     },
     "execution_count": 13,
     "metadata": {},
     "output_type": "execute_result"
    }
   ],
   "source": [
    "# Omnibus test is for normality of residual distribution\n",
    "stats.normaltest(m1.resid)"
   ]
  },
  {
   "cell_type": "code",
   "execution_count": 14,
   "metadata": {
    "collapsed": true,
    "jupyter": {
     "outputs_hidden": true
    }
   },
   "outputs": [
    {
     "name": "stdout",
     "output_type": "stream",
     "text": [
      "Help on function normaltest in module scipy.stats.stats:\n",
      "\n",
      "normaltest(a, axis=0, nan_policy='propagate')\n",
      "    Test whether a sample differs from a normal distribution.\n",
      "    \n",
      "    This function tests the null hypothesis that a sample comes\n",
      "    from a normal distribution.  It is based on D'Agostino and\n",
      "    Pearson's [1]_, [2]_ test that combines skew and kurtosis to\n",
      "    produce an omnibus test of normality.\n",
      "    \n",
      "    Parameters\n",
      "    ----------\n",
      "    a : array_like\n",
      "        The array containing the sample to be tested.\n",
      "    axis : int or None, optional\n",
      "        Axis along which to compute test. Default is 0. If None,\n",
      "        compute over the whole array `a`.\n",
      "    nan_policy : {'propagate', 'raise', 'omit'}, optional\n",
      "        Defines how to handle when input contains nan.\n",
      "        The following options are available (default is 'propagate'):\n",
      "    \n",
      "          * 'propagate': returns nan\n",
      "          * 'raise': throws an error\n",
      "          * 'omit': performs the calculations ignoring nan values\n",
      "    \n",
      "    Returns\n",
      "    -------\n",
      "    statistic : float or array\n",
      "        ``s^2 + k^2``, where ``s`` is the z-score returned by `skewtest` and\n",
      "        ``k`` is the z-score returned by `kurtosistest`.\n",
      "    pvalue : float or array\n",
      "       A 2-sided chi squared probability for the hypothesis test.\n",
      "    \n",
      "    References\n",
      "    ----------\n",
      "    .. [1] D'Agostino, R. B. (1971), \"An omnibus test of normality for\n",
      "           moderate and large sample size\", Biometrika, 58, 341-348\n",
      "    \n",
      "    .. [2] D'Agostino, R. and Pearson, E. S. (1973), \"Tests for departure from\n",
      "           normality\", Biometrika, 60, 613-622\n",
      "    \n",
      "    Examples\n",
      "    --------\n",
      "    >>> from scipy import stats\n",
      "    >>> pts = 1000\n",
      "    >>> np.random.seed(28041990)\n",
      "    >>> a = np.random.normal(0, 1, size=pts)\n",
      "    >>> b = np.random.normal(2, 1, size=pts)\n",
      "    >>> x = np.concatenate((a, b))\n",
      "    >>> k2, p = stats.normaltest(x)\n",
      "    >>> alpha = 1e-3\n",
      "    >>> print(\"p = {:g}\".format(p))\n",
      "    p = 3.27207e-11\n",
      "    >>> if p < alpha:  # null hypothesis: x comes from a normal distribution\n",
      "    ...     print(\"The null hypothesis can be rejected\")\n",
      "    ... else:\n",
      "    ...     print(\"The null hypothesis cannot be rejected\")\n",
      "    The null hypothesis can be rejected\n",
      "\n"
     ]
    }
   ],
   "source": [
    "help (stats.normaltest)"
   ]
  }
 ],
 "metadata": {
  "kernelspec": {
   "display_name": "Python 3",
   "language": "python",
   "name": "python3"
  },
  "language_info": {
   "codemirror_mode": {
    "name": "ipython",
    "version": 3
   },
   "file_extension": ".py",
   "mimetype": "text/x-python",
   "name": "python",
   "nbconvert_exporter": "python",
   "pygments_lexer": "ipython3",
   "version": "3.8.2"
  },
  "toc": {
   "base_numbering": 1,
   "nav_menu": {},
   "number_sections": true,
   "sideBar": true,
   "skip_h1_title": false,
   "title_cell": "Table of Contents",
   "title_sidebar": "Contents",
   "toc_cell": false,
   "toc_position": {},
   "toc_section_display": true,
   "toc_window_display": true
  }
 },
 "nbformat": 4,
 "nbformat_minor": 4
}
