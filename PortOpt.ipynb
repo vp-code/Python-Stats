{
 "cells": [
  {
   "cell_type": "code",
   "execution_count": 1,
   "metadata": {},
   "outputs": [],
   "source": [
    "import numpy as np\n",
    "import pandas as pd\n",
    "import scipy.stats as ss\n",
    "import datetime as dt"
   ]
  },
  {
   "cell_type": "code",
   "execution_count": 2,
   "metadata": {},
   "outputs": [
    {
     "data": {
      "text/html": [
       "        <script type=\"text/javascript\">\n",
       "        window.PlotlyConfig = {MathJaxConfig: 'local'};\n",
       "        if (window.MathJax) {MathJax.Hub.Config({SVG: {font: \"STIX-Web\"}});}\n",
       "        if (typeof require !== 'undefined') {\n",
       "        require.undef(\"plotly\");\n",
       "        requirejs.config({\n",
       "            paths: {\n",
       "                'plotly': ['https://cdn.plot.ly/plotly-latest.min']\n",
       "            }\n",
       "        });\n",
       "        require(['plotly'], function(Plotly) {\n",
       "            window._Plotly = Plotly;\n",
       "        });\n",
       "        }\n",
       "        </script>\n",
       "        "
      ]
     },
     "metadata": {},
     "output_type": "display_data"
    }
   ],
   "source": [
    "import plotly\n",
    "import plotly.express as px\n",
    "\n",
    "import plotly.graph_objs as go\n",
    "from plotly.subplots import make_subplots\n",
    "\n",
    "\n",
    "plotly.offline.init_notebook_mode(connected=True)"
   ]
  },
  {
   "cell_type": "code",
   "execution_count": 3,
   "metadata": {},
   "outputs": [],
   "source": [
    "import cvxpy as cp"
   ]
  },
  {
   "cell_type": "code",
   "execution_count": 61,
   "metadata": {},
   "outputs": [
    {
     "data": {
      "text/plain": [
       "EEM    0.007220\n",
       "IVV    0.004115\n",
       "IWM    0.005639\n",
       "EFA    0.003924\n",
       "dtype: float64"
      ]
     },
     "execution_count": 61,
     "metadata": {},
     "output_type": "execute_result"
    }
   ],
   "source": [
    "Prices = pd.read_pickle('ETF_Prices.pkl')\n",
    "Returns = Prices.pct_change()            # Converts prices to returns\n",
    "Returns.mean()"
   ]
  },
  {
   "cell_type": "code",
   "execution_count": 70,
   "metadata": {},
   "outputs": [],
   "source": [
    "r = np.array(12*Returns.mean())\n",
    "sigma = np.array(np.sqrt(12) * Returns.cov())"
   ]
  },
  {
   "cell_type": "code",
   "execution_count": 117,
   "metadata": {},
   "outputs": [],
   "source": [
    "# Optimization setup\n",
    "n = len(Returns.columns)     # number of assets\n",
    "\n",
    "w = cp.Variable(n)           # Weights vector\n",
    "\n",
    "ret = (r.T)*w                         # Portfolio return term in objective\n",
    "variance = cp.quad_form(w,sigma)      # Risk term\n",
    "RiskAv  = cp.Parameter(nonneg=True)\n",
    "\n",
    "U = ret - RiskAv*variance\n",
    "objective = cp.Maximize(U)\n",
    "\n",
    "constraints = [ w >= 0, w <= 0.5,\n",
    "                cp.sum(w) == 1]\n",
    "\n",
    "prob = cp.Problem(objective,constraints)\n",
    "\n",
    "# Looping to construct a return vs risk frontier\n",
    "\n",
    "nPorts = 100\n",
    "Res = np.zeros((nPorts,n+4))\n",
    "for i in range(nPorts):\n",
    "    RiskAv.value = i *0.2                \n",
    "    _ = prob.solve()\n",
    "    \n",
    "    Res[i] = np.append(w.value,(ret.value,np.sqrt(variance.value),RiskAv.value,U.value))\n",
    "\n",
    "# Collect results in useful form\n",
    "ResDF = pd.DataFrame(Res,columns=list(Returns.columns)+['Return','Risk','RiskAv','Utility'])\n",
    "\n",
    "RiskFree = 1.8/100              # As of August 9, 2019\n",
    "ResDF['SharpeRatio'] = (ResDF['Return']-RiskFree)/ResDF['Risk']"
   ]
  },
  {
   "cell_type": "code",
   "execution_count": 132,
   "metadata": {
    "collapsed": true
   },
   "outputs": [
    {
     "data": {
      "text/html": [
       "<div>\n",
       "<style scoped>\n",
       "    .dataframe tbody tr th:only-of-type {\n",
       "        vertical-align: middle;\n",
       "    }\n",
       "\n",
       "    .dataframe tbody tr th {\n",
       "        vertical-align: top;\n",
       "    }\n",
       "\n",
       "    .dataframe thead th {\n",
       "        text-align: right;\n",
       "    }\n",
       "</style>\n",
       "<table border=\"1\" class=\"dataframe\">\n",
       "  <thead>\n",
       "    <tr style=\"text-align: right;\">\n",
       "      <th></th>\n",
       "      <th>EEM</th>\n",
       "      <th>IVV</th>\n",
       "      <th>IWM</th>\n",
       "      <th>EFA</th>\n",
       "      <th>Return</th>\n",
       "      <th>Risk</th>\n",
       "      <th>RiskAv</th>\n",
       "      <th>Utility</th>\n",
       "      <th>SharpeRatio</th>\n",
       "    </tr>\n",
       "  </thead>\n",
       "  <tbody>\n",
       "    <tr>\n",
       "      <th>95</th>\n",
       "      <td>0.150670</td>\n",
       "      <td>0.5</td>\n",
       "      <td>0.183443</td>\n",
       "      <td>0.165886</td>\n",
       "      <td>0.057968</td>\n",
       "      <td>0.073087</td>\n",
       "      <td>19.0</td>\n",
       "      <td>-0.043524</td>\n",
       "      <td>0.546856</td>\n",
       "    </tr>\n",
       "    <tr>\n",
       "      <th>96</th>\n",
       "      <td>0.146767</td>\n",
       "      <td>0.5</td>\n",
       "      <td>0.181957</td>\n",
       "      <td>0.171276</td>\n",
       "      <td>0.057783</td>\n",
       "      <td>0.073021</td>\n",
       "      <td>19.2</td>\n",
       "      <td>-0.044592</td>\n",
       "      <td>0.544819</td>\n",
       "    </tr>\n",
       "    <tr>\n",
       "      <th>97</th>\n",
       "      <td>0.142944</td>\n",
       "      <td>0.5</td>\n",
       "      <td>0.180501</td>\n",
       "      <td>0.176555</td>\n",
       "      <td>0.057602</td>\n",
       "      <td>0.072956</td>\n",
       "      <td>19.4</td>\n",
       "      <td>-0.045657</td>\n",
       "      <td>0.542815</td>\n",
       "    </tr>\n",
       "    <tr>\n",
       "      <th>98</th>\n",
       "      <td>0.139199</td>\n",
       "      <td>0.5</td>\n",
       "      <td>0.179075</td>\n",
       "      <td>0.181726</td>\n",
       "      <td>0.057424</td>\n",
       "      <td>0.072894</td>\n",
       "      <td>19.6</td>\n",
       "      <td>-0.046721</td>\n",
       "      <td>0.540845</td>\n",
       "    </tr>\n",
       "    <tr>\n",
       "      <th>99</th>\n",
       "      <td>0.135529</td>\n",
       "      <td>0.5</td>\n",
       "      <td>0.177678</td>\n",
       "      <td>0.186793</td>\n",
       "      <td>0.057250</td>\n",
       "      <td>0.072833</td>\n",
       "      <td>19.8</td>\n",
       "      <td>-0.047783</td>\n",
       "      <td>0.538907</td>\n",
       "    </tr>\n",
       "  </tbody>\n",
       "</table>\n",
       "</div>"
      ],
      "text/plain": [
       "         EEM  IVV       IWM       EFA    Return      Risk  RiskAv   Utility  \\\n",
       "95  0.150670  0.5  0.183443  0.165886  0.057968  0.073087    19.0 -0.043524   \n",
       "96  0.146767  0.5  0.181957  0.171276  0.057783  0.073021    19.2 -0.044592   \n",
       "97  0.142944  0.5  0.180501  0.176555  0.057602  0.072956    19.4 -0.045657   \n",
       "98  0.139199  0.5  0.179075  0.181726  0.057424  0.072894    19.6 -0.046721   \n",
       "99  0.135529  0.5  0.177678  0.186793  0.057250  0.072833    19.8 -0.047783   \n",
       "\n",
       "    SharpeRatio  \n",
       "95     0.546856  \n",
       "96     0.544819  \n",
       "97     0.542815  \n",
       "98     0.540845  \n",
       "99     0.538907  "
      ]
     },
     "execution_count": 132,
     "metadata": {},
     "output_type": "execute_result"
    }
   ],
   "source": [
    "ResDF.tail()"
   ]
  },
  {
   "cell_type": "code",
   "execution_count": 131,
   "metadata": {},
   "outputs": [
    {
     "data": {
      "text/html": [
       "<div>\n",
       "<style scoped>\n",
       "    .dataframe tbody tr th:only-of-type {\n",
       "        vertical-align: middle;\n",
       "    }\n",
       "\n",
       "    .dataframe tbody tr th {\n",
       "        vertical-align: top;\n",
       "    }\n",
       "\n",
       "    .dataframe thead th {\n",
       "        text-align: right;\n",
       "    }\n",
       "</style>\n",
       "<table border=\"1\" class=\"dataframe\">\n",
       "  <thead>\n",
       "    <tr style=\"text-align: right;\">\n",
       "      <th></th>\n",
       "      <th>EEM</th>\n",
       "      <th>IVV</th>\n",
       "      <th>IWM</th>\n",
       "      <th>EFA</th>\n",
       "      <th>Return</th>\n",
       "      <th>Risk</th>\n",
       "      <th>RiskAv</th>\n",
       "      <th>Utility</th>\n",
       "      <th>SharpeRatio</th>\n",
       "    </tr>\n",
       "  </thead>\n",
       "  <tbody>\n",
       "    <tr>\n",
       "      <th>12</th>\n",
       "      <td>0.500002</td>\n",
       "      <td>0.000007</td>\n",
       "      <td>0.499997</td>\n",
       "      <td>-0.000006</td>\n",
       "      <td>0.077152</td>\n",
       "      <td>0.087891</td>\n",
       "      <td>2.4</td>\n",
       "      <td>0.058613</td>\n",
       "      <td>0.673019</td>\n",
       "    </tr>\n",
       "  </tbody>\n",
       "</table>\n",
       "</div>"
      ],
      "text/plain": [
       "         EEM       IVV       IWM       EFA    Return      Risk  RiskAv  \\\n",
       "12  0.500002  0.000007  0.499997 -0.000006  0.077152  0.087891     2.4   \n",
       "\n",
       "     Utility  SharpeRatio  \n",
       "12  0.058613     0.673019  "
      ]
     },
     "execution_count": 131,
     "metadata": {},
     "output_type": "execute_result"
    }
   ],
   "source": [
    "#ResDF.loc[ResDF['SharpeRatio']==ResDF['SharpeRatio'].max(),:]\n",
    "\n",
    "ResDF.query('SharpeRatio == SharpeRatio.max()')"
   ]
  },
  {
   "cell_type": "code",
   "execution_count": 112,
   "metadata": {
    "collapsed": true
   },
   "outputs": [
    {
     "data": {
      "application/vnd.plotly.v1+json": {
       "config": {
        "plotlyServerURL": "https://plot.ly"
       },
       "data": [
        {
         "hoverlabel": {
          "namelength": 0
         },
         "hovertemplate": "Risk=%{x}<br>Return=%{y}",
         "legendgroup": "",
         "line": {
          "color": "#636efa",
          "dash": "solid"
         },
         "mode": "lines",
         "name": "",
         "showlegend": false,
         "type": "scatter",
         "x": [
          0.08789103309675776,
          0.08789103309675776,
          0.08789103309675776,
          0.08789103309675776,
          0.08789103309675776,
          0.08789103309675776,
          0.08789103309675776,
          0.08789103309675776,
          0.08789103309675776,
          0.08789103309675776,
          0.08789097054017193,
          0.08789097912946779,
          0.08789097960310856,
          0.08789098387942726,
          0.08789098925314036,
          0.087890995187828,
          0.08789100112022948,
          0.08789100887935308,
          0.08789103309675776,
          0.08789103309675776,
          0.08789103309675776,
          0.08789103309675776,
          0.08789103309675776,
          0.08789103309675778,
          0.08782640184986354,
          0.08696595816767744,
          0.0861956880072018,
          0.08550356296692078,
          0.08487947752547909,
          0.08431489399822041,
          0.08380256136942142,
          0.08290146029223992,
          0.08195694271307385,
          0.08108741450380379,
          0.08028525072894319,
          0.07954376384234635,
          0.07885706909374648,
          0.07821997199495773,
          0.07762787378636896,
          0.07707669167221154,
          0.07656409840525111,
          0.07648541854243938,
          0.07641221884972557,
          0.07634400339810492,
          0.076280330965845,
          0.07622080797111344,
          0.07616508244482147,
          0.07611283887269343,
          0.07606379376649108,
          0.07601769184916334,
          0.0759743027587421,
          0.0759334181920588,
          0.07589484942258899,
          0.07585842513754916,
          0.07582398954824693,
          0.07579140073499717,
          0.07576052919396192,
          0.07573125655828698,
          0.07570347447008252,
          0.07567708358328085,
          0.07565199268032594,
          0.07562811788810256,
          0.0756053819805817,
          0.07558371375740673,
          0.07556304748912612,
          0.07554332242103756,
          0.07552448232868032,
          0.07550647511892884,
          0.07548925247142471,
          0.07547276951575663,
          0.07545698454037719,
          0.075441858729744,
          0.07541889269736006,
          0.07527196524424483,
          0.07513068375750609,
          0.07499476526482399,
          0.07486394415937804,
          0.07473797094543082,
          0.07461661108775602,
          0.07449964395524696,
          0.07438686185003704,
          0.07427806911434946,
          0.07417308130807737,
          0.0740717244507946,
          0.07397383432251951,
          0.073879255818108,
          0.07378784235064885,
          0.07369945529967527,
          0.07361396350040461,
          0.07353124277057248,
          0.07345117547174607,
          0.07337365010228876,
          0.07329856091940413,
          0.0732258075879203,
          0.07315529485368379,
          0.07308693223962044,
          0.07302063376269174,
          0.07295631767012727,
          0.072893906193455,
          0.07283332531897524
         ],
         "xaxis": "x",
         "y": [
          0.0771522596006898,
          0.0771522596006898,
          0.0771522596006898,
          0.0771522596006898,
          0.0771522596006898,
          0.0771522596006898,
          0.0771522596006898,
          0.0771522596006898,
          0.0771522596006898,
          0.0771522596006898,
          0.07715226897264041,
          0.07715229540887976,
          0.07715230837878173,
          0.07715230984366533,
          0.0771523059567952,
          0.07715229956135851,
          0.07715229239503894,
          0.07715228251706872,
          0.0771522596006898,
          0.0771522596006898,
          0.0771522596006898,
          0.0771522596006898,
          0.0771522596006898,
          0.0771522596006898,
          0.07709782722577045,
          0.07636117915129784,
          0.07568119631332312,
          0.07505158257445767,
          0.07446694124551115,
          0.07392262000821614,
          0.0734145868534074,
          0.07249687680121755,
          0.07151614050639807,
          0.07059484277490098,
          0.06972773902760958,
          0.06891018406587773,
          0.06813804882424204,
          0.06740765062269484,
          0.06671569443175535,
          0.06605922317368454,
          0.06543717671768431,
          0.0653396520727716,
          0.06524677145856901,
          0.06515821087293402,
          0.06507367576846423,
          0.06499289777974868,
          0.064915631877499,
          0.06484165388598336,
          0.06477075831078086,
          0.0647027564325254,
          0.06463747462940017,
          0.06457475289698572,
          0.06451444353889493,
          0.06445641000563773,
          0.06440052586250117,
          0.06434667387002412,
          0.06429474516299266,
          0.06424463851585706,
          0.06419625968413994,
          0.06414952081282001,
          0.0641043399038774,
          0.0640606403362116,
          0.0640183504320189,
          0.06397740306446723,
          0.06393773530215155,
          0.06389928808636865,
          0.06386200593773068,
          0.06382583668905206,
          0.06379073124180518,
          0.06375664334375385,
          0.06372352938564682,
          0.06369134821509215,
          0.06364168521689624,
          0.063320661438798,
          0.06300831397902672,
          0.0627042957848493,
          0.06240827806946602,
          0.06211994912591092,
          0.0618390132321905,
          0.06156518963957694,
          0.061298211636778795,
          0.06103782568343238,
          0.06078379060699689,
          0.060535876857704354,
          0.060293865816728395,
          0.06005754915318716,
          0.05982672822600736,
          0.059601213527038545,
          0.05938082416213723,
          0.059165387367233695,
          0.05895473805666134,
          0.058748718401266414,
          0.05854717743403223,
          0.05834997068114717,
          0.058156959816621404,
          0.05796801233871715,
          0.05778300126660266,
          0.05760180485576883,
          0.05742430633087041,
          0.0572503936347578
         ],
         "yaxis": "y"
        }
       ],
       "layout": {
        "height": 600,
        "legend": {
         "tracegroupgap": 0
        },
        "margin": {
         "t": 60
        },
        "template": {
         "data": {
          "bar": [
           {
            "error_x": {
             "color": "#2a3f5f"
            },
            "error_y": {
             "color": "#2a3f5f"
            },
            "marker": {
             "line": {
              "color": "#E5ECF6",
              "width": 0.5
             }
            },
            "type": "bar"
           }
          ],
          "barpolar": [
           {
            "marker": {
             "line": {
              "color": "#E5ECF6",
              "width": 0.5
             }
            },
            "type": "barpolar"
           }
          ],
          "carpet": [
           {
            "aaxis": {
             "endlinecolor": "#2a3f5f",
             "gridcolor": "white",
             "linecolor": "white",
             "minorgridcolor": "white",
             "startlinecolor": "#2a3f5f"
            },
            "baxis": {
             "endlinecolor": "#2a3f5f",
             "gridcolor": "white",
             "linecolor": "white",
             "minorgridcolor": "white",
             "startlinecolor": "#2a3f5f"
            },
            "type": "carpet"
           }
          ],
          "choropleth": [
           {
            "colorbar": {
             "outlinewidth": 0,
             "ticks": ""
            },
            "type": "choropleth"
           }
          ],
          "contour": [
           {
            "colorbar": {
             "outlinewidth": 0,
             "ticks": ""
            },
            "colorscale": [
             [
              0,
              "#0d0887"
             ],
             [
              0.1111111111111111,
              "#46039f"
             ],
             [
              0.2222222222222222,
              "#7201a8"
             ],
             [
              0.3333333333333333,
              "#9c179e"
             ],
             [
              0.4444444444444444,
              "#bd3786"
             ],
             [
              0.5555555555555556,
              "#d8576b"
             ],
             [
              0.6666666666666666,
              "#ed7953"
             ],
             [
              0.7777777777777778,
              "#fb9f3a"
             ],
             [
              0.8888888888888888,
              "#fdca26"
             ],
             [
              1,
              "#f0f921"
             ]
            ],
            "type": "contour"
           }
          ],
          "contourcarpet": [
           {
            "colorbar": {
             "outlinewidth": 0,
             "ticks": ""
            },
            "type": "contourcarpet"
           }
          ],
          "heatmap": [
           {
            "colorbar": {
             "outlinewidth": 0,
             "ticks": ""
            },
            "colorscale": [
             [
              0,
              "#0d0887"
             ],
             [
              0.1111111111111111,
              "#46039f"
             ],
             [
              0.2222222222222222,
              "#7201a8"
             ],
             [
              0.3333333333333333,
              "#9c179e"
             ],
             [
              0.4444444444444444,
              "#bd3786"
             ],
             [
              0.5555555555555556,
              "#d8576b"
             ],
             [
              0.6666666666666666,
              "#ed7953"
             ],
             [
              0.7777777777777778,
              "#fb9f3a"
             ],
             [
              0.8888888888888888,
              "#fdca26"
             ],
             [
              1,
              "#f0f921"
             ]
            ],
            "type": "heatmap"
           }
          ],
          "heatmapgl": [
           {
            "colorbar": {
             "outlinewidth": 0,
             "ticks": ""
            },
            "colorscale": [
             [
              0,
              "#0d0887"
             ],
             [
              0.1111111111111111,
              "#46039f"
             ],
             [
              0.2222222222222222,
              "#7201a8"
             ],
             [
              0.3333333333333333,
              "#9c179e"
             ],
             [
              0.4444444444444444,
              "#bd3786"
             ],
             [
              0.5555555555555556,
              "#d8576b"
             ],
             [
              0.6666666666666666,
              "#ed7953"
             ],
             [
              0.7777777777777778,
              "#fb9f3a"
             ],
             [
              0.8888888888888888,
              "#fdca26"
             ],
             [
              1,
              "#f0f921"
             ]
            ],
            "type": "heatmapgl"
           }
          ],
          "histogram": [
           {
            "marker": {
             "colorbar": {
              "outlinewidth": 0,
              "ticks": ""
             }
            },
            "type": "histogram"
           }
          ],
          "histogram2d": [
           {
            "colorbar": {
             "outlinewidth": 0,
             "ticks": ""
            },
            "colorscale": [
             [
              0,
              "#0d0887"
             ],
             [
              0.1111111111111111,
              "#46039f"
             ],
             [
              0.2222222222222222,
              "#7201a8"
             ],
             [
              0.3333333333333333,
              "#9c179e"
             ],
             [
              0.4444444444444444,
              "#bd3786"
             ],
             [
              0.5555555555555556,
              "#d8576b"
             ],
             [
              0.6666666666666666,
              "#ed7953"
             ],
             [
              0.7777777777777778,
              "#fb9f3a"
             ],
             [
              0.8888888888888888,
              "#fdca26"
             ],
             [
              1,
              "#f0f921"
             ]
            ],
            "type": "histogram2d"
           }
          ],
          "histogram2dcontour": [
           {
            "colorbar": {
             "outlinewidth": 0,
             "ticks": ""
            },
            "colorscale": [
             [
              0,
              "#0d0887"
             ],
             [
              0.1111111111111111,
              "#46039f"
             ],
             [
              0.2222222222222222,
              "#7201a8"
             ],
             [
              0.3333333333333333,
              "#9c179e"
             ],
             [
              0.4444444444444444,
              "#bd3786"
             ],
             [
              0.5555555555555556,
              "#d8576b"
             ],
             [
              0.6666666666666666,
              "#ed7953"
             ],
             [
              0.7777777777777778,
              "#fb9f3a"
             ],
             [
              0.8888888888888888,
              "#fdca26"
             ],
             [
              1,
              "#f0f921"
             ]
            ],
            "type": "histogram2dcontour"
           }
          ],
          "mesh3d": [
           {
            "colorbar": {
             "outlinewidth": 0,
             "ticks": ""
            },
            "type": "mesh3d"
           }
          ],
          "parcoords": [
           {
            "line": {
             "colorbar": {
              "outlinewidth": 0,
              "ticks": ""
             }
            },
            "type": "parcoords"
           }
          ],
          "scatter": [
           {
            "marker": {
             "colorbar": {
              "outlinewidth": 0,
              "ticks": ""
             }
            },
            "type": "scatter"
           }
          ],
          "scatter3d": [
           {
            "line": {
             "colorbar": {
              "outlinewidth": 0,
              "ticks": ""
             }
            },
            "marker": {
             "colorbar": {
              "outlinewidth": 0,
              "ticks": ""
             }
            },
            "type": "scatter3d"
           }
          ],
          "scattercarpet": [
           {
            "marker": {
             "colorbar": {
              "outlinewidth": 0,
              "ticks": ""
             }
            },
            "type": "scattercarpet"
           }
          ],
          "scattergeo": [
           {
            "marker": {
             "colorbar": {
              "outlinewidth": 0,
              "ticks": ""
             }
            },
            "type": "scattergeo"
           }
          ],
          "scattergl": [
           {
            "marker": {
             "colorbar": {
              "outlinewidth": 0,
              "ticks": ""
             }
            },
            "type": "scattergl"
           }
          ],
          "scattermapbox": [
           {
            "marker": {
             "colorbar": {
              "outlinewidth": 0,
              "ticks": ""
             }
            },
            "type": "scattermapbox"
           }
          ],
          "scatterpolar": [
           {
            "marker": {
             "colorbar": {
              "outlinewidth": 0,
              "ticks": ""
             }
            },
            "type": "scatterpolar"
           }
          ],
          "scatterpolargl": [
           {
            "marker": {
             "colorbar": {
              "outlinewidth": 0,
              "ticks": ""
             }
            },
            "type": "scatterpolargl"
           }
          ],
          "scatterternary": [
           {
            "marker": {
             "colorbar": {
              "outlinewidth": 0,
              "ticks": ""
             }
            },
            "type": "scatterternary"
           }
          ],
          "surface": [
           {
            "colorbar": {
             "outlinewidth": 0,
             "ticks": ""
            },
            "colorscale": [
             [
              0,
              "#0d0887"
             ],
             [
              0.1111111111111111,
              "#46039f"
             ],
             [
              0.2222222222222222,
              "#7201a8"
             ],
             [
              0.3333333333333333,
              "#9c179e"
             ],
             [
              0.4444444444444444,
              "#bd3786"
             ],
             [
              0.5555555555555556,
              "#d8576b"
             ],
             [
              0.6666666666666666,
              "#ed7953"
             ],
             [
              0.7777777777777778,
              "#fb9f3a"
             ],
             [
              0.8888888888888888,
              "#fdca26"
             ],
             [
              1,
              "#f0f921"
             ]
            ],
            "type": "surface"
           }
          ],
          "table": [
           {
            "cells": {
             "fill": {
              "color": "#EBF0F8"
             },
             "line": {
              "color": "white"
             }
            },
            "header": {
             "fill": {
              "color": "#C8D4E3"
             },
             "line": {
              "color": "white"
             }
            },
            "type": "table"
           }
          ]
         },
         "layout": {
          "annotationdefaults": {
           "arrowcolor": "#2a3f5f",
           "arrowhead": 0,
           "arrowwidth": 1
          },
          "colorscale": {
           "diverging": [
            [
             0,
             "#8e0152"
            ],
            [
             0.1,
             "#c51b7d"
            ],
            [
             0.2,
             "#de77ae"
            ],
            [
             0.3,
             "#f1b6da"
            ],
            [
             0.4,
             "#fde0ef"
            ],
            [
             0.5,
             "#f7f7f7"
            ],
            [
             0.6,
             "#e6f5d0"
            ],
            [
             0.7,
             "#b8e186"
            ],
            [
             0.8,
             "#7fbc41"
            ],
            [
             0.9,
             "#4d9221"
            ],
            [
             1,
             "#276419"
            ]
           ],
           "sequential": [
            [
             0,
             "#0d0887"
            ],
            [
             0.1111111111111111,
             "#46039f"
            ],
            [
             0.2222222222222222,
             "#7201a8"
            ],
            [
             0.3333333333333333,
             "#9c179e"
            ],
            [
             0.4444444444444444,
             "#bd3786"
            ],
            [
             0.5555555555555556,
             "#d8576b"
            ],
            [
             0.6666666666666666,
             "#ed7953"
            ],
            [
             0.7777777777777778,
             "#fb9f3a"
            ],
            [
             0.8888888888888888,
             "#fdca26"
            ],
            [
             1,
             "#f0f921"
            ]
           ],
           "sequentialminus": [
            [
             0,
             "#0d0887"
            ],
            [
             0.1111111111111111,
             "#46039f"
            ],
            [
             0.2222222222222222,
             "#7201a8"
            ],
            [
             0.3333333333333333,
             "#9c179e"
            ],
            [
             0.4444444444444444,
             "#bd3786"
            ],
            [
             0.5555555555555556,
             "#d8576b"
            ],
            [
             0.6666666666666666,
             "#ed7953"
            ],
            [
             0.7777777777777778,
             "#fb9f3a"
            ],
            [
             0.8888888888888888,
             "#fdca26"
            ],
            [
             1,
             "#f0f921"
            ]
           ]
          },
          "colorway": [
           "#636efa",
           "#EF553B",
           "#00cc96",
           "#ab63fa",
           "#FFA15A",
           "#19d3f3",
           "#FF6692",
           "#B6E880",
           "#FF97FF",
           "#FECB52"
          ],
          "font": {
           "color": "#2a3f5f"
          },
          "geo": {
           "bgcolor": "white",
           "lakecolor": "white",
           "landcolor": "#E5ECF6",
           "showlakes": true,
           "showland": true,
           "subunitcolor": "white"
          },
          "hoverlabel": {
           "align": "left"
          },
          "hovermode": "closest",
          "mapbox": {
           "style": "light"
          },
          "paper_bgcolor": "white",
          "plot_bgcolor": "#E5ECF6",
          "polar": {
           "angularaxis": {
            "gridcolor": "white",
            "linecolor": "white",
            "ticks": ""
           },
           "bgcolor": "#E5ECF6",
           "radialaxis": {
            "gridcolor": "white",
            "linecolor": "white",
            "ticks": ""
           }
          },
          "scene": {
           "xaxis": {
            "backgroundcolor": "#E5ECF6",
            "gridcolor": "white",
            "gridwidth": 2,
            "linecolor": "white",
            "showbackground": true,
            "ticks": "",
            "zerolinecolor": "white"
           },
           "yaxis": {
            "backgroundcolor": "#E5ECF6",
            "gridcolor": "white",
            "gridwidth": 2,
            "linecolor": "white",
            "showbackground": true,
            "ticks": "",
            "zerolinecolor": "white"
           },
           "zaxis": {
            "backgroundcolor": "#E5ECF6",
            "gridcolor": "white",
            "gridwidth": 2,
            "linecolor": "white",
            "showbackground": true,
            "ticks": "",
            "zerolinecolor": "white"
           }
          },
          "shapedefaults": {
           "line": {
            "color": "#2a3f5f"
           }
          },
          "ternary": {
           "aaxis": {
            "gridcolor": "white",
            "linecolor": "white",
            "ticks": ""
           },
           "baxis": {
            "gridcolor": "white",
            "linecolor": "white",
            "ticks": ""
           },
           "bgcolor": "#E5ECF6",
           "caxis": {
            "gridcolor": "white",
            "linecolor": "white",
            "ticks": ""
           }
          },
          "title": {
           "x": 0.05
          },
          "xaxis": {
           "automargin": true,
           "gridcolor": "white",
           "linecolor": "white",
           "ticks": "",
           "zerolinecolor": "white",
           "zerolinewidth": 2
          },
          "yaxis": {
           "automargin": true,
           "gridcolor": "white",
           "linecolor": "white",
           "ticks": "",
           "zerolinecolor": "white",
           "zerolinewidth": 2
          }
         }
        },
        "xaxis": {
         "anchor": "y",
         "domain": [
          0,
          0.98
         ],
         "tickformat": ".1%",
         "title": {
          "text": "Risk"
         }
        },
        "yaxis": {
         "anchor": "x",
         "domain": [
          0,
          1
         ],
         "tickformat": ".1%",
         "title": {
          "text": "Return"
         }
        }
       }
      },
      "text/html": [
       "<div>\n",
       "        \n",
       "        \n",
       "            <div id=\"be169bf0-64db-4f2c-87eb-7e5ecfb98594\" class=\"plotly-graph-div\" style=\"height:600px; width:100%;\"></div>\n",
       "            <script type=\"text/javascript\">\n",
       "                require([\"plotly\"], function(Plotly) {\n",
       "                    window.PLOTLYENV=window.PLOTLYENV || {};\n",
       "                    \n",
       "                if (document.getElementById(\"be169bf0-64db-4f2c-87eb-7e5ecfb98594\")) {\n",
       "                    Plotly.newPlot(\n",
       "                        'be169bf0-64db-4f2c-87eb-7e5ecfb98594',\n",
       "                        [{\"hoverlabel\": {\"namelength\": 0}, \"hovertemplate\": \"Risk=%{x}<br>Return=%{y}\", \"legendgroup\": \"\", \"line\": {\"color\": \"#636efa\", \"dash\": \"solid\"}, \"mode\": \"lines\", \"name\": \"\", \"showlegend\": false, \"type\": \"scatter\", \"x\": [0.08789103309675776, 0.08789103309675776, 0.08789103309675776, 0.08789103309675776, 0.08789103309675776, 0.08789103309675776, 0.08789103309675776, 0.08789103309675776, 0.08789103309675776, 0.08789103309675776, 0.08789097054017193, 0.08789097912946779, 0.08789097960310856, 0.08789098387942726, 0.08789098925314036, 0.087890995187828, 0.08789100112022948, 0.08789100887935308, 0.08789103309675776, 0.08789103309675776, 0.08789103309675776, 0.08789103309675776, 0.08789103309675776, 0.08789103309675778, 0.08782640184986354, 0.08696595816767744, 0.0861956880072018, 0.08550356296692078, 0.08487947752547909, 0.08431489399822041, 0.08380256136942142, 0.08290146029223992, 0.08195694271307385, 0.08108741450380379, 0.08028525072894319, 0.07954376384234635, 0.07885706909374648, 0.07821997199495773, 0.07762787378636896, 0.07707669167221154, 0.07656409840525111, 0.07648541854243938, 0.07641221884972557, 0.07634400339810492, 0.076280330965845, 0.07622080797111344, 0.07616508244482147, 0.07611283887269343, 0.07606379376649108, 0.07601769184916334, 0.0759743027587421, 0.0759334181920588, 0.07589484942258899, 0.07585842513754916, 0.07582398954824693, 0.07579140073499717, 0.07576052919396192, 0.07573125655828698, 0.07570347447008252, 0.07567708358328085, 0.07565199268032594, 0.07562811788810256, 0.0756053819805817, 0.07558371375740673, 0.07556304748912612, 0.07554332242103756, 0.07552448232868032, 0.07550647511892884, 0.07548925247142471, 0.07547276951575663, 0.07545698454037719, 0.075441858729744, 0.07541889269736006, 0.07527196524424483, 0.07513068375750609, 0.07499476526482399, 0.07486394415937804, 0.07473797094543082, 0.07461661108775602, 0.07449964395524696, 0.07438686185003704, 0.07427806911434946, 0.07417308130807737, 0.0740717244507946, 0.07397383432251951, 0.073879255818108, 0.07378784235064885, 0.07369945529967527, 0.07361396350040461, 0.07353124277057248, 0.07345117547174607, 0.07337365010228876, 0.07329856091940413, 0.0732258075879203, 0.07315529485368379, 0.07308693223962044, 0.07302063376269174, 0.07295631767012727, 0.072893906193455, 0.07283332531897524], \"xaxis\": \"x\", \"y\": [0.0771522596006898, 0.0771522596006898, 0.0771522596006898, 0.0771522596006898, 0.0771522596006898, 0.0771522596006898, 0.0771522596006898, 0.0771522596006898, 0.0771522596006898, 0.0771522596006898, 0.07715226897264041, 0.07715229540887976, 0.07715230837878173, 0.07715230984366533, 0.0771523059567952, 0.07715229956135851, 0.07715229239503894, 0.07715228251706872, 0.0771522596006898, 0.0771522596006898, 0.0771522596006898, 0.0771522596006898, 0.0771522596006898, 0.0771522596006898, 0.07709782722577045, 0.07636117915129784, 0.07568119631332312, 0.07505158257445767, 0.07446694124551115, 0.07392262000821614, 0.0734145868534074, 0.07249687680121755, 0.07151614050639807, 0.07059484277490098, 0.06972773902760958, 0.06891018406587773, 0.06813804882424204, 0.06740765062269484, 0.06671569443175535, 0.06605922317368454, 0.06543717671768431, 0.0653396520727716, 0.06524677145856901, 0.06515821087293402, 0.06507367576846423, 0.06499289777974868, 0.064915631877499, 0.06484165388598336, 0.06477075831078086, 0.0647027564325254, 0.06463747462940017, 0.06457475289698572, 0.06451444353889493, 0.06445641000563773, 0.06440052586250117, 0.06434667387002412, 0.06429474516299266, 0.06424463851585706, 0.06419625968413994, 0.06414952081282001, 0.0641043399038774, 0.0640606403362116, 0.0640183504320189, 0.06397740306446723, 0.06393773530215155, 0.06389928808636865, 0.06386200593773068, 0.06382583668905206, 0.06379073124180518, 0.06375664334375385, 0.06372352938564682, 0.06369134821509215, 0.06364168521689624, 0.063320661438798, 0.06300831397902672, 0.0627042957848493, 0.06240827806946602, 0.06211994912591092, 0.0618390132321905, 0.06156518963957694, 0.061298211636778795, 0.06103782568343238, 0.06078379060699689, 0.060535876857704354, 0.060293865816728395, 0.06005754915318716, 0.05982672822600736, 0.059601213527038545, 0.05938082416213723, 0.059165387367233695, 0.05895473805666134, 0.058748718401266414, 0.05854717743403223, 0.05834997068114717, 0.058156959816621404, 0.05796801233871715, 0.05778300126660266, 0.05760180485576883, 0.05742430633087041, 0.0572503936347578], \"yaxis\": \"y\"}],\n",
       "                        {\"height\": 600, \"legend\": {\"tracegroupgap\": 0}, \"margin\": {\"t\": 60}, \"template\": {\"data\": {\"bar\": [{\"error_x\": {\"color\": \"#2a3f5f\"}, \"error_y\": {\"color\": \"#2a3f5f\"}, \"marker\": {\"line\": {\"color\": \"#E5ECF6\", \"width\": 0.5}}, \"type\": \"bar\"}], \"barpolar\": [{\"marker\": {\"line\": {\"color\": \"#E5ECF6\", \"width\": 0.5}}, \"type\": \"barpolar\"}], \"carpet\": [{\"aaxis\": {\"endlinecolor\": \"#2a3f5f\", \"gridcolor\": \"white\", \"linecolor\": \"white\", \"minorgridcolor\": \"white\", \"startlinecolor\": \"#2a3f5f\"}, \"baxis\": {\"endlinecolor\": \"#2a3f5f\", \"gridcolor\": \"white\", \"linecolor\": \"white\", \"minorgridcolor\": \"white\", \"startlinecolor\": \"#2a3f5f\"}, \"type\": \"carpet\"}], \"choropleth\": [{\"colorbar\": {\"outlinewidth\": 0, \"ticks\": \"\"}, \"type\": \"choropleth\"}], \"contour\": [{\"colorbar\": {\"outlinewidth\": 0, \"ticks\": \"\"}, \"colorscale\": [[0.0, \"#0d0887\"], [0.1111111111111111, \"#46039f\"], [0.2222222222222222, \"#7201a8\"], [0.3333333333333333, \"#9c179e\"], [0.4444444444444444, \"#bd3786\"], [0.5555555555555556, \"#d8576b\"], [0.6666666666666666, \"#ed7953\"], [0.7777777777777778, \"#fb9f3a\"], [0.8888888888888888, \"#fdca26\"], [1.0, \"#f0f921\"]], \"type\": \"contour\"}], \"contourcarpet\": [{\"colorbar\": {\"outlinewidth\": 0, \"ticks\": \"\"}, \"type\": \"contourcarpet\"}], \"heatmap\": [{\"colorbar\": {\"outlinewidth\": 0, \"ticks\": \"\"}, \"colorscale\": [[0.0, \"#0d0887\"], [0.1111111111111111, \"#46039f\"], [0.2222222222222222, \"#7201a8\"], [0.3333333333333333, \"#9c179e\"], [0.4444444444444444, \"#bd3786\"], [0.5555555555555556, \"#d8576b\"], [0.6666666666666666, \"#ed7953\"], [0.7777777777777778, \"#fb9f3a\"], [0.8888888888888888, \"#fdca26\"], [1.0, \"#f0f921\"]], \"type\": \"heatmap\"}], \"heatmapgl\": [{\"colorbar\": {\"outlinewidth\": 0, \"ticks\": \"\"}, \"colorscale\": [[0.0, \"#0d0887\"], [0.1111111111111111, \"#46039f\"], [0.2222222222222222, \"#7201a8\"], [0.3333333333333333, \"#9c179e\"], [0.4444444444444444, \"#bd3786\"], [0.5555555555555556, \"#d8576b\"], [0.6666666666666666, \"#ed7953\"], [0.7777777777777778, \"#fb9f3a\"], [0.8888888888888888, \"#fdca26\"], [1.0, \"#f0f921\"]], \"type\": \"heatmapgl\"}], \"histogram\": [{\"marker\": {\"colorbar\": {\"outlinewidth\": 0, \"ticks\": \"\"}}, \"type\": \"histogram\"}], \"histogram2d\": [{\"colorbar\": {\"outlinewidth\": 0, \"ticks\": \"\"}, \"colorscale\": [[0.0, \"#0d0887\"], [0.1111111111111111, \"#46039f\"], [0.2222222222222222, \"#7201a8\"], [0.3333333333333333, \"#9c179e\"], [0.4444444444444444, \"#bd3786\"], [0.5555555555555556, \"#d8576b\"], [0.6666666666666666, \"#ed7953\"], [0.7777777777777778, \"#fb9f3a\"], [0.8888888888888888, \"#fdca26\"], [1.0, \"#f0f921\"]], \"type\": \"histogram2d\"}], \"histogram2dcontour\": [{\"colorbar\": {\"outlinewidth\": 0, \"ticks\": \"\"}, \"colorscale\": [[0.0, \"#0d0887\"], [0.1111111111111111, \"#46039f\"], [0.2222222222222222, \"#7201a8\"], [0.3333333333333333, \"#9c179e\"], [0.4444444444444444, \"#bd3786\"], [0.5555555555555556, \"#d8576b\"], [0.6666666666666666, \"#ed7953\"], [0.7777777777777778, \"#fb9f3a\"], [0.8888888888888888, \"#fdca26\"], [1.0, \"#f0f921\"]], \"type\": \"histogram2dcontour\"}], \"mesh3d\": [{\"colorbar\": {\"outlinewidth\": 0, \"ticks\": \"\"}, \"type\": \"mesh3d\"}], \"parcoords\": [{\"line\": {\"colorbar\": {\"outlinewidth\": 0, \"ticks\": \"\"}}, \"type\": \"parcoords\"}], \"scatter\": [{\"marker\": {\"colorbar\": {\"outlinewidth\": 0, \"ticks\": \"\"}}, \"type\": \"scatter\"}], \"scatter3d\": [{\"line\": {\"colorbar\": {\"outlinewidth\": 0, \"ticks\": \"\"}}, \"marker\": {\"colorbar\": {\"outlinewidth\": 0, \"ticks\": \"\"}}, \"type\": \"scatter3d\"}], \"scattercarpet\": [{\"marker\": {\"colorbar\": {\"outlinewidth\": 0, \"ticks\": \"\"}}, \"type\": \"scattercarpet\"}], \"scattergeo\": [{\"marker\": {\"colorbar\": {\"outlinewidth\": 0, \"ticks\": \"\"}}, \"type\": \"scattergeo\"}], \"scattergl\": [{\"marker\": {\"colorbar\": {\"outlinewidth\": 0, \"ticks\": \"\"}}, \"type\": \"scattergl\"}], \"scattermapbox\": [{\"marker\": {\"colorbar\": {\"outlinewidth\": 0, \"ticks\": \"\"}}, \"type\": \"scattermapbox\"}], \"scatterpolar\": [{\"marker\": {\"colorbar\": {\"outlinewidth\": 0, \"ticks\": \"\"}}, \"type\": \"scatterpolar\"}], \"scatterpolargl\": [{\"marker\": {\"colorbar\": {\"outlinewidth\": 0, \"ticks\": \"\"}}, \"type\": \"scatterpolargl\"}], \"scatterternary\": [{\"marker\": {\"colorbar\": {\"outlinewidth\": 0, \"ticks\": \"\"}}, \"type\": \"scatterternary\"}], \"surface\": [{\"colorbar\": {\"outlinewidth\": 0, \"ticks\": \"\"}, \"colorscale\": [[0.0, \"#0d0887\"], [0.1111111111111111, \"#46039f\"], [0.2222222222222222, \"#7201a8\"], [0.3333333333333333, \"#9c179e\"], [0.4444444444444444, \"#bd3786\"], [0.5555555555555556, \"#d8576b\"], [0.6666666666666666, \"#ed7953\"], [0.7777777777777778, \"#fb9f3a\"], [0.8888888888888888, \"#fdca26\"], [1.0, \"#f0f921\"]], \"type\": \"surface\"}], \"table\": [{\"cells\": {\"fill\": {\"color\": \"#EBF0F8\"}, \"line\": {\"color\": \"white\"}}, \"header\": {\"fill\": {\"color\": \"#C8D4E3\"}, \"line\": {\"color\": \"white\"}}, \"type\": \"table\"}]}, \"layout\": {\"annotationdefaults\": {\"arrowcolor\": \"#2a3f5f\", \"arrowhead\": 0, \"arrowwidth\": 1}, \"colorscale\": {\"diverging\": [[0, \"#8e0152\"], [0.1, \"#c51b7d\"], [0.2, \"#de77ae\"], [0.3, \"#f1b6da\"], [0.4, \"#fde0ef\"], [0.5, \"#f7f7f7\"], [0.6, \"#e6f5d0\"], [0.7, \"#b8e186\"], [0.8, \"#7fbc41\"], [0.9, \"#4d9221\"], [1, \"#276419\"]], \"sequential\": [[0.0, \"#0d0887\"], [0.1111111111111111, \"#46039f\"], [0.2222222222222222, \"#7201a8\"], [0.3333333333333333, \"#9c179e\"], [0.4444444444444444, \"#bd3786\"], [0.5555555555555556, \"#d8576b\"], [0.6666666666666666, \"#ed7953\"], [0.7777777777777778, \"#fb9f3a\"], [0.8888888888888888, \"#fdca26\"], [1.0, \"#f0f921\"]], \"sequentialminus\": [[0.0, \"#0d0887\"], [0.1111111111111111, \"#46039f\"], [0.2222222222222222, \"#7201a8\"], [0.3333333333333333, \"#9c179e\"], [0.4444444444444444, \"#bd3786\"], [0.5555555555555556, \"#d8576b\"], [0.6666666666666666, \"#ed7953\"], [0.7777777777777778, \"#fb9f3a\"], [0.8888888888888888, \"#fdca26\"], [1.0, \"#f0f921\"]]}, \"colorway\": [\"#636efa\", \"#EF553B\", \"#00cc96\", \"#ab63fa\", \"#FFA15A\", \"#19d3f3\", \"#FF6692\", \"#B6E880\", \"#FF97FF\", \"#FECB52\"], \"font\": {\"color\": \"#2a3f5f\"}, \"geo\": {\"bgcolor\": \"white\", \"lakecolor\": \"white\", \"landcolor\": \"#E5ECF6\", \"showlakes\": true, \"showland\": true, \"subunitcolor\": \"white\"}, \"hoverlabel\": {\"align\": \"left\"}, \"hovermode\": \"closest\", \"mapbox\": {\"style\": \"light\"}, \"paper_bgcolor\": \"white\", \"plot_bgcolor\": \"#E5ECF6\", \"polar\": {\"angularaxis\": {\"gridcolor\": \"white\", \"linecolor\": \"white\", \"ticks\": \"\"}, \"bgcolor\": \"#E5ECF6\", \"radialaxis\": {\"gridcolor\": \"white\", \"linecolor\": \"white\", \"ticks\": \"\"}}, \"scene\": {\"xaxis\": {\"backgroundcolor\": \"#E5ECF6\", \"gridcolor\": \"white\", \"gridwidth\": 2, \"linecolor\": \"white\", \"showbackground\": true, \"ticks\": \"\", \"zerolinecolor\": \"white\"}, \"yaxis\": {\"backgroundcolor\": \"#E5ECF6\", \"gridcolor\": \"white\", \"gridwidth\": 2, \"linecolor\": \"white\", \"showbackground\": true, \"ticks\": \"\", \"zerolinecolor\": \"white\"}, \"zaxis\": {\"backgroundcolor\": \"#E5ECF6\", \"gridcolor\": \"white\", \"gridwidth\": 2, \"linecolor\": \"white\", \"showbackground\": true, \"ticks\": \"\", \"zerolinecolor\": \"white\"}}, \"shapedefaults\": {\"line\": {\"color\": \"#2a3f5f\"}}, \"ternary\": {\"aaxis\": {\"gridcolor\": \"white\", \"linecolor\": \"white\", \"ticks\": \"\"}, \"baxis\": {\"gridcolor\": \"white\", \"linecolor\": \"white\", \"ticks\": \"\"}, \"bgcolor\": \"#E5ECF6\", \"caxis\": {\"gridcolor\": \"white\", \"linecolor\": \"white\", \"ticks\": \"\"}}, \"title\": {\"x\": 0.05}, \"xaxis\": {\"automargin\": true, \"gridcolor\": \"white\", \"linecolor\": \"white\", \"ticks\": \"\", \"zerolinecolor\": \"white\", \"zerolinewidth\": 2}, \"yaxis\": {\"automargin\": true, \"gridcolor\": \"white\", \"linecolor\": \"white\", \"ticks\": \"\", \"zerolinecolor\": \"white\", \"zerolinewidth\": 2}}}, \"xaxis\": {\"anchor\": \"y\", \"domain\": [0.0, 0.98], \"tickformat\": \".1%\", \"title\": {\"text\": \"Risk\"}}, \"yaxis\": {\"anchor\": \"x\", \"domain\": [0.0, 1.0], \"tickformat\": \".1%\", \"title\": {\"text\": \"Return\"}}},\n",
       "                        {\"responsive\": true}\n",
       "                    ).then(function(){\n",
       "                            \n",
       "var gd = document.getElementById('be169bf0-64db-4f2c-87eb-7e5ecfb98594');\n",
       "var x = new MutationObserver(function (mutations, observer) {{\n",
       "        var display = window.getComputedStyle(gd).display;\n",
       "        if (!display || display === 'none') {{\n",
       "            console.log([gd, 'removed!']);\n",
       "            Plotly.purge(gd);\n",
       "            observer.disconnect();\n",
       "        }}\n",
       "}});\n",
       "\n",
       "// Listen for the removal of the full notebook cells\n",
       "var notebookContainer = gd.closest('#notebook-container');\n",
       "if (notebookContainer) {{\n",
       "    x.observe(notebookContainer, {childList: true});\n",
       "}}\n",
       "\n",
       "// Listen for the clearing of the current output cell\n",
       "var outputEl = gd.closest('.output');\n",
       "if (outputEl) {{\n",
       "    x.observe(outputEl, {childList: true});\n",
       "}}\n",
       "\n",
       "                        })\n",
       "                };\n",
       "                });\n",
       "            </script>\n",
       "        </div>"
      ]
     },
     "metadata": {},
     "output_type": "display_data"
    }
   ],
   "source": [
    "px.line(ResDF,x='Risk',y='Return').update_layout(xaxis=dict(tickformat='.1%'),\n",
    "                                                 yaxis=dict(tickformat='.1%'))"
   ]
  }
 ],
 "metadata": {
  "kernelspec": {
   "display_name": "Python 3",
   "language": "python",
   "name": "python3"
  },
  "language_info": {
   "codemirror_mode": {
    "name": "ipython",
    "version": 3
   },
   "file_extension": ".py",
   "mimetype": "text/x-python",
   "name": "python",
   "nbconvert_exporter": "python",
   "pygments_lexer": "ipython3",
   "version": "3.5.3"
  },
  "latex_envs": {
   "LaTeX_envs_menu_present": true,
   "autoclose": false,
   "autocomplete": true,
   "bibliofile": "biblio.bib",
   "cite_by": "apalike",
   "current_citInitial": 1,
   "eqLabelWithNumbers": true,
   "eqNumInitial": 1,
   "hotkeys": {
    "equation": "Ctrl-E",
    "itemize": "Ctrl-I"
   },
   "labels_anchors": false,
   "latex_user_defs": false,
   "report_style_numbering": false,
   "user_envs_cfg": false
  },
  "toc": {
   "base_numbering": 1,
   "nav_menu": {},
   "number_sections": true,
   "sideBar": true,
   "skip_h1_title": false,
   "title_cell": "Table of Contents",
   "title_sidebar": "Contents",
   "toc_cell": false,
   "toc_position": {},
   "toc_section_display": true,
   "toc_window_display": false
  }
 },
 "nbformat": 4,
 "nbformat_minor": 2
}
