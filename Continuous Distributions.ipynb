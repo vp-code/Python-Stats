{
 "cells": [
  {
   "cell_type": "code",
   "execution_count": 32,
   "metadata": {},
   "outputs": [],
   "source": [
    "plt.close('all')    # closes all open figures"
   ]
  },
  {
   "cell_type": "code",
   "execution_count": 1,
   "metadata": {},
   "outputs": [
    {
     "data": {
      "application/javascript": [
       "MathJax.Hub.Config({\n",
       "    TeX: { equationNumbers: { autoNumber: \"AMS\" } }\n",
       "});\n"
      ],
      "text/plain": [
       "<IPython.core.display.Javascript object>"
      ]
     },
     "metadata": {},
     "output_type": "display_data"
    }
   ],
   "source": [
    "%%javascript\n",
    "MathJax.Hub.Config({\n",
    "    TeX: { equationNumbers: { autoNumber: \"AMS\" } }\n",
    "});"
   ]
  },
  {
   "cell_type": "markdown",
   "metadata": {
    "hide_input": false
   },
   "source": [
    "# Continuous distributions"
   ]
  },
  {
   "cell_type": "markdown",
   "metadata": {
    "jupyter": {
     "source_hidden": true
    }
   },
   "source": [
    "The gamma function is $\\Gamma(t) \\equiv \\int_0^\\infty y^{t-1} e^{-t} dt$. Some useful properties are\n",
    "$$\n",
    "\\begin{split}\n",
    "\\Gamma(t+1) & = t\\;\\Gamma(t) \\\\\n",
    "\\Gamma(1) &= 1 \\\\\n",
    "\\Gamma(\\frac{1}{2}) &= \\sqrt{\\pi}\n",
    "\\end{split}\n",
    "$$\n",
    "\n",
    "The moment generating function $M_X(t) \\equiv E(e^{tX})$ is useful for certain proofs. It is an alternative way of characterizing the entire distribution, since\n",
    "$$\n",
    "E(X^n) =  \\frac{d^n M_X}{dt^n}\\bigg\\rvert_{t=0}\n",
    "$$\n"
   ]
  },
  {
   "cell_type": "markdown",
   "metadata": {},
   "source": [
    "## Normal distribution"
   ]
  },
  {
   "cell_type": "markdown",
   "metadata": {
    "hide_input": true
   },
   "source": [
    "$$f_X(x;\\mu,\\sigma) = \\frac{1}{\\sqrt{2\\pi}\\sigma} e^{-\\frac{(x-\\mu)^2}{2\\sigma^2}}$$\n",
    "\n",
    "Expectation and variance:\n",
    "$$\n",
    "\\begin{split}\n",
    "\\mu_X &= \\mu \\\\\n",
    "\\sigma_x^2 &= \\sigma^2\n",
    "\\end{split}\n",
    "$$\n",
    "\n",
    "Standard normal: $\\mu=0$ and $\\sigma=1$\n",
    "$$f_X(x;0,1) = \\frac{1}{\\sqrt{2\\pi}} e^{-\\frac{x^2}{2}}$$"
   ]
  },
  {
   "cell_type": "code",
   "execution_count": 2,
   "metadata": {
    "jupyter": {
     "source_hidden": true
    }
   },
   "outputs": [],
   "source": [
    "%matplotlib widget\n",
    "import numpy as np\n",
    "from matplotlib import pyplot as plt\n",
    "import pandas as pd\n",
    "from scipy import stats\n",
    "import statsmodels.api as sm\n",
    "\n",
    "import matplotlib\n",
    "#matplotlib.use('nbagg')         # Doesn't work with jupyter lab\n",
    "import matplotlib.pyplot as plt"
   ]
  },
  {
   "cell_type": "code",
   "execution_count": 3,
   "metadata": {
    "collapsed": true,
    "jupyter": {
     "outputs_hidden": true,
     "source_hidden": true
    }
   },
   "outputs": [
    {
     "data": {
      "application/vnd.jupyter.widget-view+json": {
       "model_id": "af8163e48d794514993d17d6fb699023",
       "version_major": 2,
       "version_minor": 0
      },
      "text/plain": [
       "Canvas(toolbar=Toolbar(toolitems=[('Home', 'Reset original view', 'home', 'home'), ('Back', 'Back to previous …"
      ]
     },
     "metadata": {},
     "output_type": "display_data"
    }
   ],
   "source": [
    "# Density\n",
    "\n",
    "fig = plt.figure()\n",
    "x = np.linspace(-10,10,100)     # Generates 100 evenly spaced numbers in the interval [-10,10]\n",
    "\n",
    "for sigma in [1,2]:\n",
    "    _=plt.plot(x,stats.norm.pdf(x,loc=0,scale=sigma),label=r\"$\\sigma=$\"+str(sigma))\n",
    "    _=plt.legend()\n",
    "    \n",
    "_=plt.text(4.5,0.37,r\"$\\mu=0$\")\n"
   ]
  },
  {
   "cell_type": "code",
   "execution_count": 4,
   "metadata": {
    "collapsed": true,
    "jupyter": {
     "outputs_hidden": true,
     "source_hidden": true
    }
   },
   "outputs": [
    {
     "data": {
      "application/vnd.jupyter.widget-view+json": {
       "model_id": "4f113239fbab4389baafe6f5bda57458",
       "version_major": 2,
       "version_minor": 0
      },
      "text/plain": [
       "Canvas(toolbar=Toolbar(toolitems=[('Home', 'Reset original view', 'home', 'home'), ('Back', 'Back to previous …"
      ]
     },
     "metadata": {},
     "output_type": "display_data"
    }
   ],
   "source": [
    "# Normal random numbers\n",
    "fig = plt.figure()\n",
    "x=stats.norm.rvs(size=10000)\n",
    "_=plt.hist(x,histtype='step')\n"
   ]
  },
  {
   "cell_type": "markdown",
   "metadata": {},
   "source": [
    "## Gamma distribution"
   ]
  },
  {
   "cell_type": "markdown",
   "metadata": {},
   "source": [
    "$$\n",
    "\\begin{split}\n",
    "f_X(x;\\alpha,\\beta) &= N_{\\alpha,\\beta}\\; x^{\\alpha-1}\\; e^{-\\beta x} \\qquad\\qquad x \\in [0,\\infty) \\\\\n",
    " N_{\\alpha,\\beta} &= \\frac{\\beta^\\alpha}{\\Gamma(\\alpha)}\n",
    "\\end{split}\n",
    "$$\n",
    "\n",
    "Moment generating function:\n",
    "$$\n",
    "M_X(t) = E(e^{tX}) = N_{\\alpha,\\beta} \\int_0^\\infty x^{\\alpha-1}\\; e^{-(\\beta-t) x} = \\frac{\\beta^\\alpha}{\\Gamma(\\alpha)} \\frac{\\Gamma (\\alpha)}{(\\beta-t)^\\alpha} = \\frac{1}{(1-\\frac{t}{\\beta})^\\alpha}\n",
    "$$\n",
    "\n",
    "Expectation and variance:\n",
    "$$\n",
    "\\begin{split}\n",
    "\\mu_X &= \\frac{d M_X}{dt}\\bigg\\rvert_{t=0} = \\frac{\\alpha}{\\beta}\\\\\n",
    "\\sigma_X^2 &= E(X^2) - \\mu_X^2 = \\frac{d^2M_X}{dt^2}\\bigg\\rvert_{t=0} - \\mu_X^2 = \\frac{\\alpha(\\alpha+1)}{\\beta^2} - \\left(\\frac{\\alpha}{\\beta}\\right)^2 = \\frac{\\alpha}{\\beta^2}\n",
    "\\end{split}\n",
    "$$"
   ]
  },
  {
   "cell_type": "markdown",
   "metadata": {},
   "source": [
    "## Chi squared distribution"
   ]
  },
  {
   "cell_type": "markdown",
   "metadata": {},
   "source": [
    "This is a special case of the Gamma distribution with $\\alpha=k/2$ and $\\beta=1/2$.\n",
    "\n",
    "$$\n",
    "\\begin{split}\n",
    "f_X(x ; k) &= N_k\\; x^{\\frac{k}{2}-1}\\; e^{-\\frac{x}{2}}\\\\\n",
    "N_k &= \\frac{1}{\\Gamma \\left(\\frac{k}{2}\\right)\\; 2^{\\frac{k}{2}}}\n",
    "\\end{split}\n",
    "$$\n",
    "\n",
    "\n",
    "For the Chi squared distribution,\n",
    "$$\n",
    "M_X(t) = (1-2t)^{-\\frac{k}{2}}\n",
    "$$\n",
    "\n",
    "Expectation and variance:\n",
    "$$\n",
    "\\mu_X = k \\qquad\\qquad\\qquad \\sigma_X^2 = 2k\n",
    "$$\n"
   ]
  },
  {
   "cell_type": "code",
   "execution_count": 5,
   "metadata": {
    "collapsed": true,
    "jupyter": {
     "outputs_hidden": true,
     "source_hidden": true
    }
   },
   "outputs": [
    {
     "data": {
      "application/vnd.jupyter.widget-view+json": {
       "model_id": "fa41f373a1d74c7dbaa9e9f6c06f5bd8",
       "version_major": 2,
       "version_minor": 0
      },
      "text/plain": [
       "Canvas(toolbar=Toolbar(toolitems=[('Home', 'Reset original view', 'home', 'home'), ('Back', 'Back to previous …"
      ]
     },
     "metadata": {},
     "output_type": "display_data"
    }
   ],
   "source": [
    "# Density\n",
    "\n",
    "fig = plt.figure()\n",
    "x = np.linspace(0,20,1000)\n",
    "\n",
    "for k in [1,2,3,5,6,8]:\n",
    "    _=plt.plot(x,stats.chi2.pdf(x,df=k),label=r\"$k=$\"+str(k))\n",
    "    _=plt.legend()\n",
    "_= plt.ylim(0,0.4)"
   ]
  },
  {
   "cell_type": "markdown",
   "metadata": {},
   "source": [
    "## F distribution"
   ]
  },
  {
   "cell_type": "markdown",
   "metadata": {},
   "source": [
    "$$\n",
    "\\begin{split}\n",
    "f_X(x) &= N_{k_1,k_2}\\; x^{\\frac{k_1}{2}-1}\\; \\left (1+\\frac{k_1}{k_2}x \\right )^{-\\;\\frac{k_1+k_2}{2}}\\\\\n",
    "N_{k_1,k_2} &= \\frac{\\Gamma\\left(\\frac{k_1+k_2}{2}\\right)}{\\Gamma\\left(\\frac{k_1}{2}\\right)\\; \\Gamma\\left(\\frac{k_2}{2}\\right)} \\left(\\frac{k_1}{k_2}\\right)^{\\frac{k_1}{2}}\n",
    "\\end{split}\n",
    "$$\n",
    "\n",
    "The probability density function has support $x \\in [0,\\infty)$, except if $k_1=1$ when it becomes undefined at $x=0$.\n",
    "\n",
    "Expectation and variance:\n",
    "$$\n",
    "\\mu_X = \\frac{k_2}{k_2-2}\\; \\text{for}\\; k_2 > 2 \\qquad\\qquad \\sigma_X^2 = \\frac{2\\,k_2^2\\,(k_1+k_2-2)}{k_1 (k_2-2)^2 (k_2-4)}\\; \\text{for}\\; k_2 >4\n",
    "$$\n",
    "\n",
    "See [Wikipedia entry](https://en.wikipedia.org/wiki/F-distribution). \n",
    "\n"
   ]
  },
  {
   "cell_type": "code",
   "execution_count": 6,
   "metadata": {},
   "outputs": [
    {
     "data": {
      "text/plain": [
       "(1, 4)"
      ]
     },
     "execution_count": 6,
     "metadata": {},
     "output_type": "execute_result"
    },
    {
     "data": {
      "text/plain": [
       "(5, 10)"
      ]
     },
     "execution_count": 6,
     "metadata": {},
     "output_type": "execute_result"
    },
    {
     "data": {
      "text/plain": [
       "(10, 12)"
      ]
     },
     "execution_count": 6,
     "metadata": {},
     "output_type": "execute_result"
    }
   ],
   "source": [
    "for k1,k2 in [(1,4),(5,10),(10,12)]:\n",
    "    k1,k2"
   ]
  },
  {
   "cell_type": "code",
   "execution_count": 16,
   "metadata": {
    "collapsed": true,
    "jupyter": {
     "outputs_hidden": true,
     "source_hidden": true
    }
   },
   "outputs": [
    {
     "data": {
      "application/vnd.jupyter.widget-view+json": {
       "model_id": "f62dca28154b4acd9bbc4529f0661654",
       "version_major": 2,
       "version_minor": 0
      },
      "text/plain": [
       "Canvas(toolbar=Toolbar(toolitems=[('Home', 'Reset original view', 'home', 'home'), ('Back', 'Back to previous …"
      ]
     },
     "metadata": {},
     "output_type": "display_data"
    }
   ],
   "source": [
    "# Density, F distribution\n",
    "\n",
    "fig = plt.figure(figsize=(6,4))     # Figure size is (width,height) in inches\n",
    "x = np.linspace(0,5,1000)\n",
    "\n",
    "for k1,k2 in [(2,4),(5,10),(10,5),(11,13)]:\n",
    "    _=plt.plot(x,stats.f.pdf(x,k1,k2),label=r\"$k1,k2=$\"+str(k1)+\",\"+str(k2))\n",
    "    _=plt.legend()\n",
    "_=plt.title(\"F distribution\")"
   ]
  },
  {
   "cell_type": "markdown",
   "metadata": {},
   "source": [
    "## Student's t distribution"
   ]
  },
  {
   "cell_type": "markdown",
   "metadata": {
    "jupyter": {
     "source_hidden": true
    },
    "toc-hr-collapsed": true,
    "toc-nb-collapsed": true
   },
   "source": [
    "$$\n",
    "\\begin{split}\n",
    " f_X(x) &= N_k \\left (1+\\frac{x^2}{k}\\right )^{-\\frac{k+1}{2}} \\\\\n",
    " N_k &= \\frac{\\Gamma \\left( \\frac{k+1}{2} \\right )}{\\sqrt{k\\pi} \\; \\Gamma \\left (\\frac{k}{2} \\right )}\n",
    "\\end{split} \n",
    "$$\n",
    "\n",
    "Expectation and variance:\n",
    "$$\n",
    "\\mu_X = 0 \\qquad\\qquad\\qquad \\sigma_X^2 = \\frac{k}{k-2} \\; \\text{for}\\; k >2, \\; \\infty \\;\\text{for} \\; 1 < k \\le 2, \\; \\text{undefined otherwise}\n",
    "$$\n",
    "\n",
    "The probability density function has support $x \\in (-\\infty,\\infty)$, is symmetric about zero, and looks similar to the normal density function. Note, however, that it has thicker tails (higher kurtosis) than the  normal distribution."
   ]
  },
  {
   "cell_type": "code",
   "execution_count": 17,
   "metadata": {},
   "outputs": [
    {
     "data": {
      "application/vnd.jupyter.widget-view+json": {
       "model_id": "6cfc949bcafa427ba19359d5d5aaf3ed",
       "version_major": 2,
       "version_minor": 0
      },
      "text/plain": [
       "Canvas(toolbar=Toolbar(toolitems=[('Home', 'Reset original view', 'home', 'home'), ('Back', 'Back to previous …"
      ]
     },
     "metadata": {},
     "output_type": "display_data"
    }
   ],
   "source": [
    "# Density, t distribution\n",
    "\n",
    "fig = plt.figure(figsize=(9,4))     # Figure size is (width,height) in inches\n",
    "fig.subplots_adjust(wspace=0.4,hspace=0.4)\n",
    "\n",
    "x = np.linspace(-5,5,1000)\n",
    "\n",
    "a1 = fig.add_subplot(121)\n",
    "for k in [1,2,10]:\n",
    "    _=plt.plot(x,stats.t.pdf(x,df=k),label=r\"$k=$\"+str(k))\n",
    "    _=plt.legend()\n",
    "_=plt.title(\"Student's t distribution\")\n",
    "    \n",
    "a2 = fig.add_subplot(122)\n",
    "_=plt.plot(x,stats.norm.pdf(x),label=r\"$N(0,1)$\")\n",
    "k=6\n",
    "_=plt.plot(x,stats.t.pdf(x,df=k),label=r\"$t,k=$\"+str(k))\n",
    "_=plt.legend()\n",
    "_=plt.title(\"Normal and t dist comparison\")\n"
   ]
  },
  {
   "cell_type": "markdown",
   "metadata": {},
   "source": [
    "## Importance"
   ]
  },
  {
   "cell_type": "markdown",
   "metadata": {},
   "source": [
    "1. **The square of a standard normal random variable is Chi-square distributed**.\n",
    "\n",
    "With $X \\sim N(0,1)$, let $Y = X^2$. Then,\n",
    "\n",
    "$$\n",
    "\\begin{split}\n",
    "F_Y(y) = P[Y \\le y] = P[X^2 \\le y] &= \\int_{-\\sqrt{y}}^{\\sqrt{y}}\\frac{1}{\\sqrt{2\\pi}} e^{-\\frac{x^2}{2}} dx\\\\\n",
    " &=  2 \\int_{0}^{\\sqrt{y}}\\frac{1}{\\sqrt{2\\pi}} e^{-\\frac{x^2}{2}} dx\\\\\n",
    "     & = \\int_{0}^{y}\\frac{1}{\\sqrt{2\\pi}} \\frac{e^{-\\frac{y'}{2}}}{\\sqrt{y'}} dy'\n",
    "\\end{split}\n",
    "$$\n",
    "\n",
    "Differentiating the cumulative distribution function with respect to $y$, we get\n",
    "$$\n",
    "f_Y(y) = \\frac{1}{\\sqrt{2\\pi}} \\frac{e^{-\\frac{y}{2}}}{\\sqrt{y}} = \\chi_1^2(y)\n",
    "$$\n",
    "\n",
    "2. **The sum of the squares of $n$ standard normal variables is distributed as $\\chi^2_n$**.\n",
    "\n",
    "This is best proved by using moment generating functions.\n",
    "\n",
    "Let $Y = X_1^2 + \\dots + X_n^2$, where the set $\\{X_i\\}$ consists of $n$ independent, identically distributed (iid) standard normal variables. Then,\n",
    "$$\n",
    "\\begin{split}\n",
    "M_Y(t) = E(e^{tY}) &= E(e^{t(X_1^2+\\dots+X_n^2)})\\\\\n",
    "     & = \\int e^{t(x_1^2+\\dots+x_n^2)}\\; f(x_1,\\dots,x_n)\\; dx_1 \\dots dx_n \\\\\n",
    "     & = \\int e^{tx_1^2}f(x_1) dx_1 \\dots \\int e^{tx_n^2}f(x_n)dx_n \\\\\n",
    "     & = M_{X_1^2}(t) \\dots M_{X_n^2}(t) \\\\\n",
    "     & = \\prod_{i=1}^n (1-2t)^{-\\frac{1}{2}}\\\\\n",
    "     & = (1-2t)^{-\\frac{n}{2}}\n",
    "\\end{split}\n",
    "$$\n",
    "The last line implies that $Y \\sim \\chi_n^2$.\n",
    "\n",
    "3. **The F distribution arises from the ratio of two independent $\\chi^2$ variables**.\n",
    "\n",
    "Let $U$ and $V$ be $\\chi^2$ distributed with $k_1$ and $k_2$ degrees of freedom respectively. Then\n",
    "$$\n",
    "F = \\frac{U/k_1}{V/k_2}\\\n",
    "$$\n",
    "has the $F$ distribution.\n",
    "\n",
    "See [here](http://www.milefoot.com/math/stat/pdfc-fdist.htm) for a clearly written derivation.\n",
    "\n",
    "4. **The ratio $T=\\frac{Z}{\\sqrt{Y/n}}$ where $Z \\sim N(0,1)$, $Y \\sim \\chi_n^2$, and $Z$ and $Y$ are independent, has the t distribution with $n$ degrees of freedom**.\n",
    "\n",
    "For a proof, see Schaum's Probability and Statistics, 2nd Edition, p. 144-145\n",
    "\n",
    "5. **The square of a t distributed variable is F distributed**.\n",
    "\n",
    "From #4 above, $T^2=\\frac{Z^2}{Y/n}$. We also know, from #1 above, that $Z^2 \\sim\\chi^2_1$. Therefore $T^2 \\sim F(1,n)$."
   ]
  }
 ],
 "metadata": {
  "kernelspec": {
   "display_name": "Python 3",
   "language": "python",
   "name": "python3"
  },
  "language_info": {
   "codemirror_mode": {
    "name": "ipython",
    "version": 3
   },
   "file_extension": ".py",
   "mimetype": "text/x-python",
   "name": "python",
   "nbconvert_exporter": "python",
   "pygments_lexer": "ipython3",
   "version": "3.8.2"
  },
  "latex_envs": {
   "LaTeX_envs_menu_present": true,
   "autoclose": false,
   "autocomplete": true,
   "bibliofile": "biblio.bib",
   "cite_by": "apalike",
   "current_citInitial": 1,
   "eqLabelWithNumbers": true,
   "eqNumInitial": 1,
   "hotkeys": {
    "equation": "Ctrl-E",
    "itemize": "Ctrl-I"
   },
   "labels_anchors": false,
   "latex_user_defs": false,
   "report_style_numbering": false,
   "user_envs_cfg": false
  },
  "toc": {
   "base_numbering": 1,
   "nav_menu": {},
   "number_sections": true,
   "sideBar": true,
   "skip_h1_title": true,
   "title_cell": "Table of Contents",
   "title_sidebar": "Contents",
   "toc_cell": false,
   "toc_position": {},
   "toc_section_display": true,
   "toc_window_display": true
  }
 },
 "nbformat": 4,
 "nbformat_minor": 4
}
