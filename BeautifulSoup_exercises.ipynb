{
 "cells": [
  {
   "cell_type": "code",
   "execution_count": 1,
   "metadata": {
    "ExecuteTime": {
     "end_time": "2021-12-09T19:31:07.289191Z",
     "start_time": "2021-12-09T19:31:05.129652Z"
    }
   },
   "outputs": [],
   "source": [
    "import os, requests,math\n",
    "import pandas as pd\n",
    "from bs4 import BeautifulSoup\n"
   ]
  },
  {
   "cell_type": "code",
   "execution_count": 3,
   "metadata": {
    "ExecuteTime": {
     "end_time": "2021-12-09T19:32:00.976014Z",
     "start_time": "2021-12-09T19:31:55.864942Z"
    }
   },
   "outputs": [],
   "source": [
    "# %load /home/vpoduri/standard_imports.py\n",
    "import numpy as np\n",
    "import pandas as pd\n",
    "import scipy.stats as stats\n",
    "from sklearn import datasets,metrics\n",
    "\n",
    "import plotly\n",
    "import plotly.express as px\n",
    "\n",
    "from IPython.core.interactiveshell import InteractiveShell\n",
    "InteractiveShell.ast_node_interactivity = \"all\"\n",
    "\n",
    "pd.plotting.backend = \"plotly\"\n"
   ]
  },
  {
   "cell_type": "code",
   "execution_count": 4,
   "metadata": {},
   "outputs": [],
   "source": [
    "html = '<a href=\"schedule.html\"><i>CS220</i> is <b>amazing</b></a>'\n",
    "doc = BeautifulSoup(html,\"html.parser\")"
   ]
  },
  {
   "cell_type": "code",
   "execution_count": 8,
   "metadata": {},
   "outputs": [
    {
     "data": {
      "text/plain": [
       "[<i>CS220</i>, ' is ', <b>amazing</b>]"
      ]
     },
     "execution_count": 8,
     "metadata": {},
     "output_type": "execute_result"
    }
   ],
   "source": [
    "list(doc.find(\"a\").children)"
   ]
  },
  {
   "cell_type": "code",
   "execution_count": 20,
   "metadata": {
    "ExecuteTime": {
     "end_time": "2021-12-09T05:36:03.252845Z",
     "start_time": "2021-12-09T05:35:58.667829Z"
    }
   },
   "outputs": [],
   "source": [
    "f = open(\"2019-2020.html\",encoding=\"utf-8\")\n",
    "rank19_doc = BeautifulSoup(f.read(),\"html.parser\")\n",
    "f.close()"
   ]
  },
  {
   "cell_type": "code",
   "execution_count": 30,
   "metadata": {
    "ExecuteTime": {
     "end_time": "2021-12-09T05:42:39.843792Z",
     "start_time": "2021-12-09T05:42:39.745186Z"
    }
   },
   "outputs": [
    {
     "data": {
      "text/plain": [
       "['World Rank',\n",
       " 'Institution',\n",
       " 'Country',\n",
       " 'National Rank',\n",
       " 'Quality of Education Rank',\n",
       " 'Alumni Employment Rank',\n",
       " 'Quality of Faculty Rank',\n",
       " 'Research Performance Rank',\n",
       " 'Score']"
      ]
     },
     "execution_count": 30,
     "metadata": {},
     "output_type": "execute_result"
    }
   ],
   "source": [
    "headers = [element.get_text() for element in rank19_doc.find_all(\"th\")]\n",
    "headers"
   ]
  },
  {
   "cell_type": "code",
   "execution_count": 49,
   "metadata": {
    "ExecuteTime": {
     "end_time": "2021-12-09T06:07:59.708909Z",
     "start_time": "2021-12-09T06:07:59.188611Z"
    },
    "collapsed": true
   },
   "outputs": [
    {
     "data": {
      "text/plain": [
       "[{'Year': '2019-2020',\n",
       "  'World Rank': '1',\n",
       "  'Institution': 'Harvard University',\n",
       "  'Country': 'USA',\n",
       "  'National Rank': '1',\n",
       "  'Quality of Education Rank': '2',\n",
       "  'Alumni Employment Rank': '1',\n",
       "  'Quality of Faculty Rank': '1',\n",
       "  'Research Performance Rank': '1',\n",
       "  'Score': '100'},\n",
       " {'Year': '2019-2020',\n",
       "  'World Rank': '2',\n",
       "  'Institution': 'Massachusetts Institute of Technology',\n",
       "  'Country': 'USA',\n",
       "  'National Rank': '2',\n",
       "  'Quality of Education Rank': '1',\n",
       "  'Alumni Employment Rank': '10',\n",
       "  'Quality of Faculty Rank': '2',\n",
       "  'Research Performance Rank': '5',\n",
       "  'Score': '96.7'},\n",
       " {'Year': '2019-2020',\n",
       "  'World Rank': '3',\n",
       "  'Institution': 'Stanford University',\n",
       "  'Country': 'USA',\n",
       "  'National Rank': '3',\n",
       "  'Quality of Education Rank': '9',\n",
       "  'Alumni Employment Rank': '3',\n",
       "  'Quality of Faculty Rank': '3',\n",
       "  'Research Performance Rank': '2',\n",
       "  'Score': '95.2'},\n",
       " {'Year': '2019-2020',\n",
       "  'World Rank': '4',\n",
       "  'Institution': 'University of Cambridge',\n",
       "  'Country': 'United Kingdom',\n",
       "  'National Rank': '1',\n",
       "  'Quality of Education Rank': '4',\n",
       "  'Alumni Employment Rank': '19',\n",
       "  'Quality of Faculty Rank': '5',\n",
       "  'Research Performance Rank': '11',\n",
       "  'Score': '94.1'},\n",
       " {'Year': '2019-2020',\n",
       "  'World Rank': '5',\n",
       "  'Institution': 'University of Oxford',\n",
       "  'Country': 'United Kingdom',\n",
       "  'National Rank': '2',\n",
       "  'Quality of Education Rank': '10',\n",
       "  'Alumni Employment Rank': '24',\n",
       "  'Quality of Faculty Rank': '10',\n",
       "  'Research Performance Rank': '4',\n",
       "  'Score': '93.3'}]"
      ]
     },
     "execution_count": 49,
     "metadata": {},
     "output_type": "execute_result"
    }
   ],
   "source": [
    "# Q19\n",
    "tbl = rank19_doc.find_all(\"table\")[0]\n",
    "trs = tbl.find_all(\"tr\")\n",
    "\n",
    "headers = [element.get_text() for element in trs[0].find_all(\"th\")] # list comprehension to create a list\n",
    "lst = []\n",
    "for tr in trs[1:]:\n",
    "    d = {'Year':'2019-2020'}\n",
    "    row_entries = [element.get_text() for element in tr.find_all(\"td\")]\n",
    "    dict_row = dict(zip(headers,row_entries))        # nice way to make a dict out of two lists\n",
    "    d.update(dict_row)                               # 'append' for dicts\n",
    "    \n",
    "    lst.append(d)\n",
    "lst[0:5]   "
   ]
  },
  {
   "cell_type": "code",
   "execution_count": 54,
   "metadata": {
    "ExecuteTime": {
     "end_time": "2021-12-09T06:12:48.046908Z",
     "start_time": "2021-12-09T06:12:48.000984Z"
    }
   },
   "outputs": [],
   "source": [
    "def get_ldict(filename):\n",
    "    f = open(filename,encoding=\"utf-8\")\n",
    "    doc = BeautifulSoup(f.read(),\"html.parser\")\n",
    "    f.close()\n",
    "    Year = filename.split(\".\")[0]\n",
    "    \n",
    "    tbl = doc.find_all(\"table\")[0]\n",
    "    trs = tbl.find_all(\"tr\")\n",
    "    headers = [element.get_text() for element in trs[0].find_all(\"th\")] \n",
    "    lst = []\n",
    "    for tr in trs[1:]:\n",
    "        d = {'Year':'2019-2020'}\n",
    "        row_entries = [element.get_text() for element in tr.find_all(\"td\")]\n",
    "        dict_row = dict(zip(headers,row_entries))        \n",
    "        d.update(dict_row)                               \n",
    "        lst.append(d)        \n",
    "    return(lst)    \n",
    "\n",
    "get_ldict(\"2019-2020.html\")[0:5]"
   ]
  }
 ],
 "metadata": {
  "kernelspec": {
   "display_name": "Python 3",
   "language": "python",
   "name": "python3"
  },
  "language_info": {
   "codemirror_mode": {
    "name": "ipython",
    "version": 3
   },
   "file_extension": ".py",
   "mimetype": "text/x-python",
   "name": "python",
   "nbconvert_exporter": "python",
   "pygments_lexer": "ipython3",
   "version": "3.7.3"
  },
  "toc": {
   "base_numbering": 1,
   "nav_menu": {},
   "number_sections": true,
   "sideBar": true,
   "skip_h1_title": false,
   "title_cell": "Table of Contents",
   "title_sidebar": "Contents",
   "toc_cell": false,
   "toc_position": {},
   "toc_section_display": true,
   "toc_window_display": false
  },
  "varInspector": {
   "cols": {
    "lenName": 16,
    "lenType": 16,
    "lenVar": 40
   },
   "kernels_config": {
    "python": {
     "delete_cmd_postfix": "",
     "delete_cmd_prefix": "del ",
     "library": "var_list.py",
     "varRefreshCmd": "print(var_dic_list())"
    },
    "r": {
     "delete_cmd_postfix": ") ",
     "delete_cmd_prefix": "rm(",
     "library": "var_list.r",
     "varRefreshCmd": "cat(var_dic_list()) "
    }
   },
   "types_to_exclude": [
    "module",
    "function",
    "builtin_function_or_method",
    "instance",
    "_Feature"
   ],
   "window_display": false
  }
 },
 "nbformat": 4,
 "nbformat_minor": 4
}
