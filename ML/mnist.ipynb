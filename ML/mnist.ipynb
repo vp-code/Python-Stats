{
 "cells": [
  {
   "cell_type": "code",
   "execution_count": 1,
   "id": "a9f5a50d",
   "metadata": {
    "ExecuteTime": {
     "end_time": "2021-12-25T19:42:07.434475Z",
     "start_time": "2021-12-25T19:41:53.454200Z"
    }
   },
   "outputs": [],
   "source": [
    "import numpy as np\n",
    "import pandas as pd\n",
    "import scipy.stats as stats\n",
    "from sklearn import datasets,metrics,naive_bayes,tree,svm\n",
    "\n",
    "from sklearn.neighbors import KNeighborsClassifier\n",
    "from sklearn.linear_model import LogisticRegression\n",
    "from sklearn.neural_network import MLPClassifier\n",
    "from sklearn.model_selection import cross_val_score,cross_validate\n",
    "\n",
    "\n",
    "from matplotlib import pyplot as plt\n",
    "\n",
    "import plotly\n",
    "import plotly.express as px\n",
    "from plotly.subplots import make_subplots\n",
    "import plotly.graph_objects as go\n",
    "\n",
    "\n",
    "from IPython.core.interactiveshell import InteractiveShell\n",
    "InteractiveShell.ast_node_interactivity = \"all\"\n",
    "\n",
    "pd.plotting.backend = \"plotly\"\n",
    "\n",
    "\n",
    "import idx2numpy"
   ]
  },
  {
   "cell_type": "markdown",
   "id": "30613f7a",
   "metadata": {},
   "source": [
    "# Data"
   ]
  },
  {
   "cell_type": "markdown",
   "id": "42e1e3ab",
   "metadata": {},
   "source": [
    "From http://yann.lecun.com/exdb/mnist/. \n",
    "\n",
    "Simplest to download the data to a local directory and unzip the files.\n",
    "\n",
    "70 k images of handwritten digits, split into a training set of 60 k and a test set with 10 k. Each image is a 28 x 28 array of pixels. Classification task is to recognize the digits."
   ]
  },
  {
   "cell_type": "code",
   "execution_count": 35,
   "id": "99efb65a",
   "metadata": {
    "ExecuteTime": {
     "end_time": "2021-12-25T20:17:08.147891Z",
     "start_time": "2021-12-25T20:17:07.028011Z"
    },
    "scrolled": false
   },
   "outputs": [
    {
     "data": {
      "text/plain": [
       "<matplotlib.image.AxesImage at 0x7f4cb02ff5c0>"
      ]
     },
     "execution_count": 35,
     "metadata": {},
     "output_type": "execute_result"
    },
    {
     "data": {
      "image/png": "[encoded data removed]",
      "text/plain": [
       "<Figure size 432x288 with 1 Axes>"
      ]
     },
     "metadata": {
      "needs_background": "light"
     },
     "output_type": "display_data"
    }
   ],
   "source": [
    "# Reading training data from unzipped mnist files\n",
    "files = { 'X_train': 'train-images-idx3-ubyte',\n",
    "         'y_train': 'train-labels-idx1-ubyte',\n",
    "         'X_test': 't10k-images-idx3-ubyte',\n",
    "         'y_test': 't10k-labels-idx1-ubyte'    \n",
    "}\n",
    "\n",
    "DA = {}\n",
    "for k,v in files.items():\n",
    "    DA[k] = idx2numpy.convert_from_file('data/'+v)        # files are in a local directory called data/\n",
    "    if k[0:1]=='X':\n",
    "        DA[k] = DA[k].reshape((-1,28*28))                         # re-shaping X values to work with sklearn\n",
    "        \n",
    "plt.imshow(DA['X_test'][0].reshape((28,28)),cmap=plt.cm.binary)      # back to 28 x 28 array for display only"
   ]
  },
  {
   "cell_type": "code",
   "execution_count": 36,
   "id": "488f2d8d",
   "metadata": {
    "ExecuteTime": {
     "end_time": "2021-12-25T20:18:02.478147Z",
     "start_time": "2021-12-25T20:18:02.455514Z"
    }
   },
   "outputs": [],
   "source": [
    "# Random sampling of test images\n",
    "\n",
    "# n_test = DA['y_test'].shape[0]\n",
    "# sample = np.random.choice(n_test,size = 10)\n",
    "# sample\n",
    "# DA['X_test'][sample]"
   ]
  },
  {
   "cell_type": "code",
   "execution_count": null,
   "id": "9be149df",
   "metadata": {
    "ExecuteTime": {
     "start_time": "2021-12-25T20:18:16.143Z"
    }
   },
   "outputs": [],
   "source": [
    "knn = KNeighborsClassifier()     \n",
    "\n",
    "_=knn.fit(DA['X_train'],DA['y_train'])                   # Train the classifier on all training data\n",
    "\n",
    "yhat = knn.predict(DA['X_test'])\n",
    "metrics.confusion_matrix(DA['y_test'],yhat)"
   ]
  },
  {
   "cell_type": "code",
   "execution_count": 25,
   "id": "3563b77a",
   "metadata": {
    "ExecuteTime": {
     "end_time": "2021-12-25T20:08:29.953066Z",
     "start_time": "2021-12-25T20:08:29.919782Z"
    }
   },
   "outputs": [
    {
     "data": {
      "text/plain": [
       "(10000, 784)"
      ]
     },
     "execution_count": 25,
     "metadata": {},
     "output_type": "execute_result"
    }
   ],
   "source": [
    "X = DA['X_test'].reshape((-1,28*28))\n",
    "X.shape"
   ]
  },
  {
   "cell_type": "code",
   "execution_count": 33,
   "id": "9fbf144b",
   "metadata": {
    "ExecuteTime": {
     "end_time": "2021-12-25T20:14:26.156637Z",
     "start_time": "2021-12-25T20:14:26.112491Z"
    }
   },
   "outputs": [
    {
     "data": {
      "text/plain": [
       "['X_train', 'X_test']"
      ]
     },
     "execution_count": 33,
     "metadata": {},
     "output_type": "execute_result"
    }
   ],
   "source": [
    "[k for k in DA.keys() ]"
   ]
  },
  {
   "cell_type": "code",
   "execution_count": 30,
   "id": "89eb5f3a",
   "metadata": {
    "ExecuteTime": {
     "end_time": "2021-12-25T20:11:16.171517Z",
     "start_time": "2021-12-25T20:11:15.428354Z"
    }
   },
   "outputs": [
    {
     "data": {
      "text/plain": [
       "<matplotlib.image.AxesImage at 0x7f4cb6c47278>"
      ]
     },
     "execution_count": 30,
     "metadata": {},
     "output_type": "execute_result"
    },
    {
     "data": {
      "image/png": "[encoded data removed]",
      "text/plain": [
       "<Figure size 432x288 with 1 Axes>"
      ]
     },
     "metadata": {
      "needs_background": "light"
     },
     "output_type": "display_data"
    }
   ],
   "source": [
    "plt.imshow(X[0].reshape((28,28)),cmap=plt.cm.binary)"
   ]
  }
 ],
 "metadata": {
  "kernelspec": {
   "display_name": "Python 3 (ipykernel)",
   "language": "python",
   "name": "python3"
  },
  "language_info": {
   "codemirror_mode": {
    "name": "ipython",
    "version": 3
   },
   "file_extension": ".py",
   "mimetype": "text/x-python",
   "name": "python",
   "nbconvert_exporter": "python",
   "pygments_lexer": "ipython3",
   "version": "3.7.3"
  },
  "toc": {
   "base_numbering": 1,
   "nav_menu": {},
   "number_sections": true,
   "sideBar": true,
   "skip_h1_title": false,
   "title_cell": "Table of Contents",
   "title_sidebar": "Contents",
   "toc_cell": false,
   "toc_position": {},
   "toc_section_display": true,
   "toc_window_display": false
  },
  "varInspector": {
   "cols": {
    "lenName": 16,
    "lenType": 16,
    "lenVar": 40
   },
   "kernels_config": {
    "python": {
     "delete_cmd_postfix": "",
     "delete_cmd_prefix": "del ",
     "library": "var_list.py",
     "varRefreshCmd": "print(var_dic_list())"
    },
    "r": {
     "delete_cmd_postfix": ") ",
     "delete_cmd_prefix": "rm(",
     "library": "var_list.r",
     "varRefreshCmd": "cat(var_dic_list()) "
    }
   },
   "types_to_exclude": [
    "module",
    "function",
    "builtin_function_or_method",
    "instance",
    "_Feature"
   ],
   "window_display": false
  }
 },
 "nbformat": 4,
 "nbformat_minor": 5
}
