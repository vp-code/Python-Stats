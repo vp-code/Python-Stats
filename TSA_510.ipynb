{
 "cells": [
  {
   "cell_type": "code",
   "execution_count": 1,
   "metadata": {
    "ExecuteTime": {
     "end_time": "2021-09-18T02:35:03.973794Z",
     "start_time": "2021-09-18T02:34:59.362524Z"
    },
    "scrolled": true
   },
   "outputs": [],
   "source": [
    "%matplotlib inline\n",
    "import numpy as np\n",
    "import pandas as pd\n",
    "import statsmodels.api as sm\n",
    "import statsmodels.tsa.stattools as st\n",
    "\n",
    "import matplotlib\n",
    "import matplotlib.pyplot as plt\n",
    "#params = {'text.usetex' : True,'font.size' : 14}\n",
    "#matplotlib.rcParams.update(params)"
   ]
  },
  {
   "cell_type": "markdown",
   "metadata": {},
   "source": [
    "# Time Series Analysis\n",
    "\n",
    "Based on the Penn State course, [STAT 510 Applied Time Series Analysis](https://online.stat.psu.edu/stat510/)."
   ]
  },
  {
   "cell_type": "markdown",
   "metadata": {},
   "source": [
    "Models in which time $t$ value $x_t$ related to past values and past estimation errors are called ARIMA (Autoregressive Integrated Moving Average) models or Box-Jenkins models.\n",
    "\n",
    "**Time Series** At each instant $t$, we have a random variable $x_t$.\n",
    "\n",
    "**Weak Stationarity**\n",
    "1. The mean is constant: $E(x_t)$ does not depend on $t$\n",
    "2. The variance is constant: $\\text{var}(x_t)$ does not depend on $t$\n",
    "3. Time translation invariance of auto-covariances: $\\text{cov}(x_t,x_{t-h})$ is independent of $t$ \n",
    "\n",
    "**White noise**\n",
    "\n",
    "A set of uncorrelated random variables $w_t$ with zero mean and finite variance, is called white noise. In addition, if the variables are also independent of each other, we have iid white noise. If the distribution is normal, the series is called Gaussian white noise, and may be denoted as\n",
    "$$\n",
    "w_t \\stackrel{iid}\\sim N(0,\\sigma_w^2)\n",
    "$$"
   ]
  },
  {
   "cell_type": "markdown",
   "metadata": {},
   "source": [
    "## Initial Analysis"
   ]
  },
  {
   "cell_type": "markdown",
   "metadata": {},
   "source": [
    "Check for\n",
    "* **Trend**\n",
    "* **Seasonality**\n",
    "* **Long-run cycle**\n",
    "* **Outliers**\n",
    "* **Constancy of variance**\n",
    "* **Regime shifts**"
   ]
  },
  {
   "cell_type": "markdown",
   "metadata": {},
   "source": [
    "## The autocorrelation function"
   ]
  },
  {
   "cell_type": "markdown",
   "metadata": {},
   "source": [
    "  We designate the covariance of the random variables at two time instants, $t$ and $t-h$, as\n",
    "  \n",
    "  $$\n",
    "  \\gamma_x(t-h,t)=\\text{cov}(x_{t-h},x_t)\n",
    "  $$\n",
    "  \n",
    "  The lag $h$ **autocorrelation** $\\rho_x(h)$ of a stationary series is given by\n",
    "    $$\n",
    "    \\rho_x(h) = \\frac{\\gamma_x(t-h,t)}{\\sqrt{\\text{var}(x_{t-h})} \\sqrt{\\text{var}(x_{t})}}\n",
    "    $$"
   ]
  },
  {
   "cell_type": "markdown",
   "metadata": {},
   "source": [
    "## The partial autocorrelation function"
   ]
  },
  {
   "cell_type": "markdown",
   "metadata": {},
   "source": [
    "In multiple regression, we use the partial correlation function to gauge the relationship between two variables while controlling for others. For example, if the dependent variable is $y$ and the regressors are $x_1,x_2$, and $x_3$, we can examine the relationship between $y$ and $x_3$ while controlling for $x_1$ and $x_2$. \n",
    "\n",
    "Let $\\mathbf{e}_{y|x_1,x_2}$ and $\\mathbf{e}_{x_3|x_1,x_2}$ be the residuals obtained by regressing $y$ and $x_3$ on $x_1,x_2$ respectively. Then the correlation between these two sets of residuals is the partial correlation between $y$ and $x_3$ while controlling for $x_1,x_2$. This is defined as:\n",
    "\n",
    "$$\n",
    "\\rho_{y,x_3|x_1,x_2} = \\frac{\\text{cov}(y,x_3|x_1,x_2)}{\\sqrt{\\text{var}(y|x_1,x_2)}\\sqrt{\\text{var}(x_3|x_1,x_2)}}\n",
    "$$\n",
    "\n",
    "In time series analysis, we are interested in the partial autocorrelation function, which is the correlation between $x_t$ and $x_{t-h}$, while controlling for all random variables at intermediate instances, $x_{t-h+1},\\cdots,x_{t-1}$.\n",
    "\n",
    "Clearly, when $h=1$, there are no intermediate variables to control for, and the partial autocorrelation function is the same as the autocorrelation function with lag 1. For $h=2,3$, we have\n",
    "$$\n",
    "\\rho_{x_t,x_{t-2}|x_{t-1}} = \\frac{\\text{cov}(x_t,x_{t-2}|x_{t-1})}{\\sqrt{\\text{var}(x_t|x_{t-1})}\\sqrt{\\text{var}(x_{t-2}|x_{t-1})}}\n",
    "$$\n",
    "\n",
    "$$\n",
    "\\rho_{x_t,x_{t-3}|x_{t-1},x_{t-2}} = \\frac{\\text{cov}(x_t,x_{t-3}|x_{t-1},x_{t-2})}{\\sqrt{\\text{var}(x_t|x_{t-1},x_{t-2})}\\sqrt{\\text{var}(x_{t-3}|x_{t-1},x_{t-2})}}\n",
    "$$"
   ]
  },
  {
   "cell_type": "markdown",
   "metadata": {},
   "source": [
    "## AR(1) model"
   ]
  },
  {
   "cell_type": "markdown",
   "metadata": {},
   "source": [
    "\\begin{equation}\n",
    "\\label{eq-AR1}\n",
    "x_t = \\delta + \\phi_1 x_{t-1} + w_t\n",
    "\\end{equation}\n",
    "\n",
    "where\n",
    "$$\n",
    "\\begin{split}\n",
    "w_t &\\sim N(0,\\sigma_w^2)\\\\\n",
    "E(x_t,w_t) &= E(x_t)E(w_t) = 0\n",
    "\\end{split}\n",
    "$$\n",
    "\n",
    "**Properties of AR(1)**\n",
    "1. $E(x_t) = \\delta + \\phi_1 E(x_{t-1}) \\implies E(x_t) = \\frac{\\delta}{1-\\phi_1}$\n",
    "2. $\\text{var}(x_t) = \\phi_1^2 \\text{var}(x_{t-1}) + \\sigma_w^2 \\implies \\text{var}(x_t) = \\frac{\\sigma_w^2}{1-\\phi_1^2} \\implies |{\\phi_1}| \\lt 1$\n",
    "\n",
    "3. Noting that the autocovariance is\n",
    "    $$\n",
    "    \\begin{split}\n",
    "    \\gamma_x(t-1,t) &= \\phi_1 \\gamma_x(t-1,t-1) = \\phi_1\\text{var}(x_{t})\\\\\n",
    "    \\gamma_x(t-2,t) &= \\phi_1 \\gamma_x(t-2,t-1) = \\phi_1^2\\text{var}(x_{t})\\\\\n",
    "    &\\cdots \\\\\n",
    "    \\gamma_x(t-h,t) &= \\phi_1^h \\text{var}(x_t)\n",
    "    \\end{split}\n",
    "$$\n",
    "\n",
    "The autocorrelation $\\rho_x(h)$ is given by\n",
    "    $$\n",
    "    \\rho_x(h) = \\frac{\\gamma_x(t-h,t)}{\\sqrt{\\text{var}(x_{t-h})} \\sqrt{\\text{var}(x_{t})}} = \\frac{\\gamma_x(t-h,t)}{\\text{var}(x_t)} = \\phi_1^h\n",
    "    $$\n",
    "\n",
    "The last property gives us the autocorrelation function (**ACF**) of the model."
   ]
  },
  {
   "cell_type": "code",
   "execution_count": 2,
   "metadata": {
    "ExecuteTime": {
     "end_time": "2021-09-18T02:35:04.129152Z",
     "start_time": "2021-09-18T02:35:03.984900Z"
    },
    "jupyter": {
     "source_hidden": true
    }
   },
   "outputs": [
    {
     "data": {
      "text/plain": [
       "count    99.000000\n",
       "mean     20.020202\n",
       "std       7.263242\n",
       "min       6.000000\n",
       "25%      15.000000\n",
       "50%      20.000000\n",
       "75%      24.000000\n",
       "max      41.000000\n",
       "Name: quakes, dtype: float64"
      ]
     },
     "execution_count": 2,
     "metadata": {},
     "output_type": "execute_result"
    }
   ],
   "source": [
    "# 99 Years of data for worldwide magnitude 7+ earthquakes\n",
    "\n",
    "foo = pd.read_csv(\"/home/vpoduri/Python-Stats/TSA_510_data/quakes.txt\",header=None,sep=\"\\s+\")\n",
    "\n",
    "# # Data wraps around. Concatenate to construct a series, drop NaN and reset the index\n",
    "\n",
    "s1 = pd.concat([foo.iloc[r,:] for r in range(foo.shape[0])]).dropna().reset_index(drop=True).rename('quakes')\n",
    "\n",
    "s1.describe()"
   ]
  },
  {
   "cell_type": "markdown",
   "metadata": {},
   "source": [
    "## MA(1) model"
   ]
  },
  {
   "cell_type": "markdown",
   "metadata": {},
   "source": [
    "\\begin{equation}\n",
    "\\label{eq-MA1}\n",
    "x_t = \\mu + w_t + \\theta_1w_{t-1} \\quad w_t \\stackrel{iid}\\sim N(0,\\sigma_w^2)\n",
    "\\end{equation}\n",
    "\n",
    "**Properties of MA(1) model**\n",
    "1. $E(x_t) = \\mu$\n",
    "2. $\\text{var}(x_t) = \\sigma_w^2 + \\theta_1\\sigma_w^2 = (1+\\theta_1^2)\\sigma_w^2$\n",
    "3. $ \\gamma_x(t-1,t) = \\theta_1 \\text{cov}(x_{t-1},w_{t-1}) = \\theta_1 \\sigma_w^2\\;, \\qquad \\gamma_x(t-2,t)= 0$\n",
    " \n",
    "    $\\implies \\rho_x(1) = \\frac{\\theta_1}{1+\\theta_1^2}\\;, \\qquad \\rho_x(h) = 0\\; \\text{for} \\; h \\ge 2$\n",
    "\n"
   ]
  },
  {
   "cell_type": "markdown",
   "metadata": {},
   "source": [
    "## Relationship between AR and MA models"
   ]
  },
  {
   "cell_type": "markdown",
   "metadata": {},
   "source": [
    "**MA(1) is an infinite AR model**\n",
    "\n",
    "Define $z_t = x_t-\\mu$ in (\\ref{eq-MA1}). Then \n",
    "$$\n",
    "\\begin{split}\n",
    "z_t &= w_t + \\theta_1 w_{t-1}\\\\\n",
    "&= w_t + \\theta_1(z_{t-1}-\\theta_1 w_{t-2}) = w_t +\\theta_1z_{t-1} -\\theta_1^2 w_{t-2}\\\\\n",
    "&= w_t + \\theta_1z_{t-1} -\\theta_1^2(z_{t-2}-\\theta_1 w_{t-3}) = w_t + \\theta_1z_{t-1} -\\theta_1^2 z_{t-2} + \\theta_1^3 w_{t-3}\n",
    "\\end{split}\n",
    "$$ \n",
    "Continuing this iterative process, we get\n",
    "$$\n",
    "z_t = w_t +\\sum_{i=1}^\\infty (-1)^{i+1} \\theta_1^i z_{t-i}\n",
    "$$\n",
    "\n",
    "In order for the sum to converge, we need $|\\theta_1| \\lt 1$.\n",
    "\n",
    "**AR(1) is an infinite MA model**\n",
    "\n",
    "Starting with equation (\\ref{eq-AR1}), we have\n",
    "$$\n",
    "\\begin{split}\n",
    "x_t &= \\delta + \\phi_1 x_{t-1} + w_t = \\delta + \\phi_1 (\\delta + \\phi_1 x_{t-2} + w_{t-1}) + w_t\\\\\n",
    "&= w_t + \\delta(1+\\phi_1) + \\phi_1^2 x_{t-2} +\\phi_1 w_{t-1} \\\\\n",
    "&= w_t + \\delta(1+\\phi_1+\\phi_1^2) + \\phi_1 w_{t-1} + \\phi_1^2 w_{t-2} + \\phi_1^3 x_{t-3}\n",
    "\\end{split}\n",
    "$$\n",
    "\n",
    "Continuing this way, we have\n",
    "$$\n",
    "\\begin{split}\n",
    "x_t &= \\delta(1+\\phi_1+\\phi_1^2 + \\cdots) + \\sum_{i=0}^\\infty \\phi_1^i w_{t-i}\\\\\n",
    "&= \\delta \\frac{1}{1-\\phi_1} + \\sum_{i=0}^\\infty \\phi_1^i w_{t-i}\\\\\n",
    "&= \\mu + \\sum_{i=0}^\\infty \\phi_1^i w_{t-i}\n",
    "\\end{split}\n",
    "$$\n",
    "where the infinite geometric series with powers of $\\phi_1$ converges because $|\\phi_1| \\lt 1$.\n",
    "\n"
   ]
  },
  {
   "cell_type": "markdown",
   "metadata": {},
   "source": [
    "## Detecting the type of dependence"
   ]
  },
  {
   "cell_type": "markdown",
   "metadata": {},
   "source": [
    "* For an AR($p$) model, the PACF is zero beyond lag $p$. Thus, the PACF is useful for identifying the order of and AR model.\n",
    "\n",
    "* For an MA($q$) model, the ACF is non-zero only at lags involved in the model."
   ]
  },
  {
   "cell_type": "code",
   "execution_count": 8,
   "metadata": {
    "ExecuteTime": {
     "end_time": "2021-09-18T02:37:33.748314Z",
     "start_time": "2021-09-18T02:37:32.245099Z"
    },
    "scrolled": false
   },
   "outputs": [
    {
     "data": {
      "image/png": "[encoded data removed]",
      "text/plain": [
       "<Figure size 432x288 with 1 Axes>"
      ]
     },
     "metadata": {
      "needs_background": "light"
     },
     "output_type": "display_data"
    }
   ],
   "source": [
    "# Scatter plot\n",
    "\n",
    "s1_lag = s1.shift()\n",
    "plt.close()\n",
    "fig,ax = plt.subplots(1,1)\n",
    "ax.set_title(\"Earthquakes with magnitude > 7\",usetex=False)\n",
    "ax.set_xlabel(r\"$x_{t-1}$\",usetex=True,fontsize=16)\n",
    "ax.set_ylabel(r\"$x_t$\", usetex=True,fontsize=16,labelpad=18)\n",
    "_ = ax.plot(s1_lag.values,s1.values,'.r') "
   ]
  },
  {
   "cell_type": "code",
   "execution_count": 26,
   "metadata": {
    "ExecuteTime": {
     "end_time": "2021-09-18T04:07:23.349214Z",
     "start_time": "2021-09-18T04:07:21.009605Z"
    }
   },
   "outputs": [
    {
     "data": {
      "image/png": "[encoded data removed]",
      "text/plain": [
       "<Figure size 432x720 with 3 Axes>"
      ]
     },
     "metadata": {
      "needs_background": "light"
     },
     "output_type": "display_data"
    }
   ],
   "source": [
    "# Autocorrelation and partial autocorrelation functions\n",
    "\n",
    "acf = st.acf(s1,nlags=10,fft=False)    # This calculated acf array can be plotted with  ax.plot(acf)\n",
    "\n",
    "plt.close()\n",
    "fig,(ax1,ax2,ax3) = plt.subplots(3,1,figsize=(6,10))\n",
    "plt.subplots_adjust(hspace=0.5)\n",
    "_ = fig.suptitle('Earthquakes with magnitude > 7',usetex=False,y=0.95)   \n",
    "\n",
    "_ = ax1.plot(s1.index,s1.values,'.-r') \n",
    "_ = ax1.hlines(s1.mean(),s1.index.min(),s1.index.max(),'r')   # add a line at the mean value\n",
    "_ = ax1.set(xlabel='Year',ylabel='Count')\n",
    "\n",
    "\n",
    "_= ax2.set_xlabel(\"Lag\")\n",
    "_ = sm.graphics.tsa.plot_acf(s1,ax=ax2,alpha=0.05)   # statsmodels function with 95% bands\n",
    "\n",
    "_= ax3.set_xlabel(\"Lag\")\n",
    "_ = sm.graphics.tsa.plot_pacf(s1,ax=ax3,alpha=0.05)   # statsmodels function with 95% bands\n"
   ]
  }
 ],
 "metadata": {
  "kernelspec": {
   "display_name": "Python 3",
   "language": "python",
   "name": "python3"
  },
  "language_info": {
   "codemirror_mode": {
    "name": "ipython",
    "version": 3
   },
   "file_extension": ".py",
   "mimetype": "text/x-python",
   "name": "python",
   "nbconvert_exporter": "python",
   "pygments_lexer": "ipython3",
   "version": "3.7.3"
  },
  "toc": {
   "base_numbering": 1,
   "nav_menu": {},
   "number_sections": true,
   "sideBar": true,
   "skip_h1_title": false,
   "title_cell": "Table of Contents",
   "title_sidebar": "Contents",
   "toc_cell": false,
   "toc_position": {},
   "toc_section_display": true,
   "toc_window_display": false
  },
  "toc-autonumbering": true,
  "varInspector": {
   "cols": {
    "lenName": 16,
    "lenType": 16,
    "lenVar": 40
   },
   "kernels_config": {
    "python": {
     "delete_cmd_postfix": "",
     "delete_cmd_prefix": "del ",
     "library": "var_list.py",
     "varRefreshCmd": "print(var_dic_list())"
    },
    "r": {
     "delete_cmd_postfix": ") ",
     "delete_cmd_prefix": "rm(",
     "library": "var_list.r",
     "varRefreshCmd": "cat(var_dic_list()) "
    }
   },
   "types_to_exclude": [
    "module",
    "function",
    "builtin_function_or_method",
    "instance",
    "_Feature"
   ],
   "window_display": false
  }
 },
 "nbformat": 4,
 "nbformat_minor": 4
}
