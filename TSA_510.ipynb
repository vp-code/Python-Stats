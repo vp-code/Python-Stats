{
 "cells": [
  {
   "cell_type": "code",
   "execution_count": 46,
   "metadata": {},
   "outputs": [],
   "source": [
    "%matplotlib widget\n",
    "import numpy as np\n",
    "import pandas as pd\n",
    "import statsmodels.api as sm\n",
    "import statsmodels.tsa.stattools as st\n",
    "\n",
    "import matplotlib\n",
    "import matplotlib.pyplot as plt\n"
   ]
  },
  {
   "cell_type": "markdown",
   "metadata": {},
   "source": [
    "# Time Series Analysis\n",
    "\n",
    "Based on the Penn State course, [STAT 510 Applied Time Series Analysis](https://online.stat.psu.edu/stat510/)."
   ]
  },
  {
   "cell_type": "markdown",
   "metadata": {},
   "source": [
    "Models in which time $t$ value $x_t$ related to past values and past estimation errors are called ARIMA (Autoregressive Integrated Moving Average) models or Box-Jenkins models.\n",
    "\n",
    "**Time Series** At each instant $t$, we have a random variable $x_t$.\n",
    "\n",
    "**Weak Stationarity**\n",
    "1. The mean is constant: $E(x_t)$ does not depend on $t$\n",
    "2. The variance is constant: $\\text{var}(t)$ does not depend on $t$\n",
    "3. Time translation invariance of auto-covariances: $\\text{cov}(x_t,x_{t-h})$ is independent of $t$ \n",
    "\n",
    "**AR(1) model**\n",
    "\\begin{equation}\n",
    "x_t = \\delta + \\phi_1 x_{t-1} + w_t\n",
    "\\end{equation}\n",
    "where\n",
    "$$\n",
    "\\begin{split}\n",
    "w_t &\\sim N(0,\\sigma_w^2)\\\\\n",
    "E(x_t,w_t) &= E(x_t)E(w_t) = 0\n",
    "\\end{split}\n",
    "$$\n",
    "\n",
    "**White noise**\n",
    "\n",
    "A set of uncorrelated random variables $w_t$ with zero mean and finite variance, is called white noise. In addition, if the variables are also independent of each other, we have iid white noise. If the distribution is normal, the series is called Gaussian white noise, and may be denoted as\n",
    "$$\n",
    "w_t \\stackrel{iid}\\sim N(0,\\sigma_w^2)\n",
    "$$\n",
    "\n",
    "\n",
    "**Properties of AR(1)**\n",
    "1. $E(x_t) = \\delta + \\phi_1 E(x_{t-1}) \\implies E(x_t) = \\frac{\\delta}{1-\\phi_1}$\n",
    "2. $\\text{var}(x_t) = \\phi_1^2 \\text{var}(x_{t-1}) + \\sigma_w^2 \\implies \\text{var}(x_t) = \\frac{\\sigma_w^2}{1-\\phi_1^2} \\implies |{\\phi_1}| \\lt 1$\n",
    "\n",
    "    We will also look at the autocorrelation of the random variables at two time instants. For this, we start with the autocovariance $\\gamma_x(t-h,t)=\\text{cov}(x_{t-h},x_t)$. We have\n",
    "    $$\n",
    "    \\begin{split}\n",
    "    \\gamma_x(t-1,t) &= \\phi_1 \\gamma_x(t-1,t-1) = \\phi_1\\text{var}(x_{t})\\\\\n",
    "    \\gamma_x(t-2,t) &= \\phi_1 \\gamma_x(t-2,t-1) = \\phi_1^2\\text{var}(x_{t})\\\\\n",
    "    &\\cdots \\\\\n",
    "    \\gamma_x(t-h,t) &= \\phi_1^h \\text{var}(x_t)\n",
    "    \\end{split}\n",
    "$$\n",
    "3. The autocorrelation $\\rho_x(t-h,t)$ is given by\n",
    "    $$\n",
    "    \\rho_x(t-h,t) = \\frac{\\gamma_x(t-h,t)}{\\sqrt{\\text{var}(x_{t-h})} \\sqrt{\\text{var}(x_{t})}} = \\frac{\\gamma_x(t-h,t)}{\\text{var}(x_t)} = \\phi_1^h\n",
    "    $$\n",
    "\n",
    "The last property gives us the autocorrelation function (**ACF**) of the model."
   ]
  },
  {
   "cell_type": "code",
   "execution_count": 47,
   "metadata": {},
   "outputs": [],
   "source": [
    "# 99 Years of data for worldwide magnitude 7+ earthquakes\n",
    "\n",
    "foo = pd.read_csv(\"/home/vpoduri/Python-Stats/TSA_510_data/quakes.txt\",header=None,sep=\"\\s+\")\n",
    "\n",
    "# Concatenate rows from data frame to construct a series, drop NaN and reset the index\n",
    "\n",
    "s1 = pd.concat([foo.iloc[r,:] for r in range(foo.shape[0])]).dropna().reset_index(drop=True)"
   ]
  },
  {
   "cell_type": "code",
   "execution_count": 73,
   "metadata": {},
   "outputs": [
    {
     "data": {
      "text/plain": [
       "count    99.000000\n",
       "mean     20.020202\n",
       "std       7.263242\n",
       "min       6.000000\n",
       "25%      15.000000\n",
       "50%      20.000000\n",
       "75%      24.000000\n",
       "max      41.000000\n",
       "dtype: float64"
      ]
     },
     "execution_count": 73,
     "metadata": {},
     "output_type": "execute_result"
    }
   ],
   "source": [
    "s1.describe()"
   ]
  },
  {
   "cell_type": "code",
   "execution_count": 80,
   "metadata": {},
   "outputs": [
    {
     "data": {
      "application/vnd.jupyter.widget-view+json": {
       "model_id": "74cb36d0fbeb4c2ca09571d846c6a4ab",
       "version_major": 2,
       "version_minor": 0
      },
      "text/plain": [
       "Canvas(toolbar=Toolbar(toolitems=[('Home', 'Reset original view', 'home', 'home'), ('Back', 'Back to previous …"
      ]
     },
     "metadata": {},
     "output_type": "display_data"
    }
   ],
   "source": [
    "\n",
    "plt.close()\n",
    "fig = plt.figure()\n",
    "_ = fig.suptitle(\"Earthquakes with magnitude > 7\" )\n",
    "\n",
    "a1 = fig.add_subplot(211,ylabel=\"Count of quakes\",xlabel=\"Index\")\n",
    "a2 = fig.add_subplot(212)\n",
    "plt.subplots_adjust(hspace=0.6)\n",
    "\n",
    "_ = a1.plot(s1.index,s1.values,'.-r') \n",
    "_ = a1.hlines(s1.mean(),s1.index.min(),s1.index.max(),'r')   # add a line at the mean value\n",
    "\n",
    "acf = st.acf(s1,nlags=10,fft=False)    # This calculated acf array can be plotted with  a2.plot(acf)\n",
    "\n",
    "_ = sm.graphics.tsa.plot_acf(s1,ax=a2,alpha=0.05)   # statsmodels function with 95% bands\n"
   ]
  }
 ],
 "metadata": {
  "kernelspec": {
   "display_name": "Python 3",
   "language": "python",
   "name": "python3"
  },
  "language_info": {
   "codemirror_mode": {
    "name": "ipython",
    "version": 3
   },
   "file_extension": ".py",
   "mimetype": "text/x-python",
   "name": "python",
   "nbconvert_exporter": "python",
   "pygments_lexer": "ipython3",
   "version": "3.8.2"
  }
 },
 "nbformat": 4,
 "nbformat_minor": 4
}
